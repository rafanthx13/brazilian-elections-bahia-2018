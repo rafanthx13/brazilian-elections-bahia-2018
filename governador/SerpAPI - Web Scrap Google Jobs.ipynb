{
 "cells": [
  {
   "cell_type": "markdown",
   "id": "fe92ecd4",
   "metadata": {},
   "source": [
    "# Web Scrap do Google\n",
    "\n",
    "Usaremos a API serpAPI que faz as consultas do google. Permite 100 consultas por mês no plano free.\n",
    "\n",
    "+ Site Official: https://serpapi.com/\n",
    "+ PlayGround (Monstar parÂmetros para a consulta): \n",
    "  - https://serpapi.com/playground?engine=google_jobs&q=Engenharia+de+Dados&location=Brazil&google_domain=google.com.br&gl=br&hl=pt\n",
    "\n",
    "Só busca por 10 resgistros, onde o start é a partir de qual número vai pegar 10. Então, apra pegar 30 temos que fazer 3 vezes, mudando de 0, 10, 20.\n",
    "\n",
    "Exemplo: https://serpapi.com/searches/33c0eb3cb492347f/61f97e234055aafc58a762c0.json\n",
    "\n",
    "# Search Parameters\n",
    "\n",
    "````\n",
    "{\n",
    "    \"engine\": \"google_jobs\",\n",
    "    \"gl\": \"br\",\n",
    "    \"google_domain\": \"google.com.br\",\n",
    "    \"hl\": \"pt\",\n",
    "    \"location_requested\": \"Brazil\",\n",
    "    \"location_used\": \"Brazil\",\n",
    "    \"q\": \"Engenharia de Dados\",\n",
    "    \"start\": 0\n",
    "}\n",
    "````\n",
    "\n",
    "# Strucuture of Return\n",
    "\n",
    "Job Total : dict_keys(['search_metadata', 'search_parameters', 'jobs_results', 'chips'])\n",
    "\n",
    "search_metadata\n",
    "````\n",
    "{\n",
    "    \"created_at\": \"2021-12-22 23:33:18 UTC\",\n",
    "    \"google_jobs_url\": \"https://www.google.com.br/search?q=Engenharia+de+Dados&ibp=htl;jobs&uule=w+CAIQICIGQnJhemls&hl=pt&gl=br&start=0\",\n",
    "    \"id\": \"61c3b5be2ff421d86214b054\",\n",
    "    \"json_endpoint\": \"https://serpapi.com/searches/74fcd01c41b140da/61c3b5be2ff421d86214b054.json\",\n",
    "    \"processed_at\": \"2021-12-22 23:33:18 UTC\",\n",
    "    \"raw_html_file\": \"https://serpapi.com/searches/74fcd01c41b140da/61c3b5be2ff421d86214b054.html\",\n",
    "    \"status\": \"Success\",\n",
    "    \"total_time_taken\": 0.96\n",
    "}\n",
    "````\n",
    "\n",
    "\n",
    "\n",
    "---\n",
    "\n",
    "# Strucuture to each Job\n",
    "\n",
    "\n",
    "jobs_results ::(['title', 'company_name', 'location', 'via', 'description', 'extensions', 'detected_extensions', 'job_id'])\n",
    "\n",
    "````\n",
    "{'title': 'Engenharia de Dados',\n",
    "  'company_name': 'Ambev Tech',\n",
    "  'location': 'Qualquer lugar',\n",
    "  'via': 'via LinkedIn',\n",
    "  'description': 'Job Description\\n\\nA gente ',\n",
    "  'thumbnail': \n",
    "      'https://encrypted-tbn0.gstatic.com/images?q=tbn:ANd9GcRcXdCE3hP3m9GUt1j5YDqiFp1u3jSzRwc6pE-VnnM&s',\n",
    "  'extensions': ['há 5 dias', 'Trabalho de casa', 'Tempo integral'],\n",
    "  'detected_extensions': {\n",
    "      'posted_at': 'há 5 dias',\n",
    "       'schedule_type': 'Tempo integral',\n",
    "       'work_from_home': True\n",
    "   },\n",
    "  'job_id': 'eyJqb2JfdGl0bGU...'},\n",
    "````\n",
    "\n",
    "## Atualizações\n",
    "\n",
    "01-02-2022: Retirei as colunas de ``extensions`` pois não são muito úteis e tava dando umns problemas\n"
   ]
  },
  {
   "cell_type": "markdown",
   "id": "f3900f6b",
   "metadata": {},
   "source": [
    "# Execution"
   ]
  },
  {
   "cell_type": "code",
   "execution_count": 2,
   "id": "86eb48cc",
   "metadata": {
    "ExecuteTime": {
     "end_time": "2022-02-01T18:45:02.991907Z",
     "start_time": "2022-02-01T18:45:02.971921Z"
    }
   },
   "outputs": [
    {
     "name": "stdout",
     "output_type": "stream",
     "text": [
      "-----\n",
      "start execution\n"
     ]
    }
   ],
   "source": [
    "print('-----')\n",
    "print('start execution')"
   ]
  },
  {
   "cell_type": "code",
   "execution_count": 3,
   "id": "a86d6db1",
   "metadata": {
    "ExecuteTime": {
     "end_time": "2022-02-01T18:45:18.847233Z",
     "start_time": "2022-02-01T18:45:04.609153Z"
    },
    "scrolled": false
   },
   "outputs": [],
   "source": [
    "from configs.load_env import *\n",
    "from serpapi import GoogleSearch\n",
    "import pandas as pd\n",
    "import copy\n",
    "\n",
    "params = {\n",
    "  \"engine\": \"google_jobs\",\n",
    "  \"q\": \"Engenharia de Dados\",\n",
    "  \"google_domain\": \"google.com.br\",\n",
    "  \"location\": \"Brazil\",\n",
    "  \"hl\": \"pt\",\n",
    "  \"start\": \"30\",\n",
    "  \"gl\": \"br\",\n",
    "  \"api_key\": api_key_serpAPI\n",
    "}"
   ]
  },
  {
   "cell_type": "markdown",
   "id": "02a8fe04",
   "metadata": {},
   "source": [
    "## Acesse SerpAPI 3 Searchs\n",
    "\n",
    "Search 30 last jobs"
   ]
  },
  {
   "cell_type": "code",
   "execution_count": 4,
   "id": "7a158441",
   "metadata": {
    "ExecuteTime": {
     "end_time": "2022-02-01T18:45:23.962721Z",
     "start_time": "2022-02-01T18:45:22.754046Z"
    },
    "scrolled": true
   },
   "outputs": [
    {
     "name": "stdout",
     "output_type": "stream",
     "text": [
      "Get from Offset 0\n",
      "https://serpapi.com/search\n",
      "Get from Offset 10\n",
      "https://serpapi.com/search\n",
      "Get from Offset 20\n",
      "https://serpapi.com/search\n"
     ]
    }
   ],
   "source": [
    "# All restulst srá uma lsita com 3 litas, cada uma com as consultas\n",
    "# 0: [0-10], 1: [10:20], 2:[20-30] jobs\n",
    "all_results = []\n",
    "for offset in [0, 10, 20]:\n",
    "    print('Get from Offset', offset)\n",
    "    params['start'] = str(offset)\n",
    "    search = GoogleSearch(params)\n",
    "    results = search.get_dict()\n",
    "    all_results.append(results)"
   ]
  },
  {
   "cell_type": "code",
   "execution_count": 3,
   "id": "d94fb1ab",
   "metadata": {
    "ExecuteTime": {
     "end_time": "2021-12-31T19:20:32.209766Z",
     "start_time": "2021-12-31T19:20:32.197774Z"
    }
   },
   "outputs": [],
   "source": [
    "# # print prettier\n",
    "# import json\n",
    "\n",
    "# search_keys = ['search_metadata', 'search_parameters', 'chips']\n",
    "# for el in search_keys:\n",
    "#     print(el)\n",
    "#     parsed = json.loads(json.dumps(all_results[0][el]))\n",
    "#     print(json.dumps(parsed, indent=4, sort_keys=False))\n",
    "#     print()"
   ]
  },
  {
   "cell_type": "code",
   "execution_count": 5,
   "id": "6f3b4c7b",
   "metadata": {
    "ExecuteTime": {
     "end_time": "2022-02-01T18:45:28.652987Z",
     "start_time": "2022-02-01T18:45:28.640989Z"
    }
   },
   "outputs": [
    {
     "name": "stdout",
     "output_type": "stream",
     "text": [
      "Get 30 jobs\n"
     ]
    }
   ],
   "source": [
    "# Reune somente 'jobs_results' desass listas\n",
    "# Pega 'jobs_results' das 3 consultas e coloca em 'jobs'\n",
    "# OBS: Pegar mais dados das outras coisa além de 'job_results' e colocar como constante\n",
    "## ex: a data em que foi feita a consulta\n",
    "ajobs = []\n",
    "for offset in range(3):\n",
    "    for job in all_results[offset]['jobs_results']:\n",
    "        ajobs.append(job)\n",
    "jobs = copy.deepcopy(ajobs)\n",
    "print('Get', len(jobs), 'jobs')"
   ]
  },
  {
   "cell_type": "markdown",
   "id": "f4ade41a",
   "metadata": {},
   "source": [
    "## Functions to do ETL"
   ]
  },
  {
   "cell_type": "code",
   "execution_count": 6,
   "id": "4d02ecc2",
   "metadata": {
    "ExecuteTime": {
     "end_time": "2022-02-01T18:45:31.227260Z",
     "start_time": "2022-02-01T18:45:31.209273Z"
    }
   },
   "outputs": [],
   "source": [
    "# Converte 'job_id' que é uma string longa apra um int de tamanho 8 \n",
    "import hashlib\n",
    "\n",
    "def hash_job_id(job_id):\n",
    "    return int(hashlib.sha1(job_id.encode(\"utf-8\")).hexdigest(), 16) % (10 ** 8)"
   ]
  },
  {
   "cell_type": "code",
   "execution_count": 7,
   "id": "8c2e8c95",
   "metadata": {
    "ExecuteTime": {
     "end_time": "2022-02-01T18:45:33.593192Z",
     "start_time": "2022-02-01T18:45:33.585192Z"
    }
   },
   "outputs": [],
   "source": [
    "# Converte a lista de extenos par auma unica string separada por ';'\n",
    "def spread_extensions(extensions):\n",
    "    \";\".join(extensions)"
   ]
  },
  {
   "cell_type": "markdown",
   "id": "5261471e",
   "metadata": {},
   "source": [
    "## ETL data pipeline"
   ]
  },
  {
   "cell_type": "code",
   "execution_count": 8,
   "id": "35efe476",
   "metadata": {
    "ExecuteTime": {
     "end_time": "2022-02-01T18:45:35.573215Z",
     "start_time": "2022-02-01T18:45:35.561217Z"
    },
    "scrolled": true
   },
   "outputs": [],
   "source": [
    "clean_jobs = []\n",
    "for job in jobs:\n",
    "    if(job['extensions']):\n",
    "        job['extensions'] = spread_extensions(job['extensions'])\n",
    "    if(job['job_id'] and type(job['job_id']) != int):\n",
    "        job['job_id'] = hash_job_id(job['job_id'])\n",
    "    clean_jobs.append({ **job, **job['detected_extensions']})"
   ]
  },
  {
   "cell_type": "code",
   "execution_count": 9,
   "id": "0da6eaad",
   "metadata": {
    "ExecuteTime": {
     "end_time": "2022-02-01T18:45:37.772698Z",
     "start_time": "2022-02-01T18:45:37.736719Z"
    }
   },
   "outputs": [],
   "source": [
    "df_clean_jobs = pd.DataFrame(clean_jobs)"
   ]
  },
  {
   "cell_type": "code",
   "execution_count": 10,
   "id": "c1e05f85",
   "metadata": {
    "ExecuteTime": {
     "end_time": "2022-02-01T18:45:39.971858Z",
     "start_time": "2022-02-01T18:45:39.937878Z"
    }
   },
   "outputs": [],
   "source": [
    "import datetime\n",
    "today = datetime.datetime.now().strftime(\"%Y-%m-%d\")\n",
    "df_clean_jobs['create_date'] = today\n",
    "\n",
    "len_df = str(len(df_clean_jobs))"
   ]
  },
  {
   "cell_type": "markdown",
   "id": "741b5d13",
   "metadata": {},
   "source": [
    "## Save In CSV (ONLY DEVELOP)"
   ]
  },
  {
   "cell_type": "code",
   "execution_count": 7,
   "id": "4dfe3ba4",
   "metadata": {
    "ExecuteTime": {
     "end_time": "2022-01-02T01:14:37.462070Z",
     "start_time": "2022-01-02T01:14:37.455075Z"
    }
   },
   "outputs": [],
   "source": [
    "# df_clean_jobs.to_csv('scrap_dataeng_jobs_' + today + '.csv', sep=';', index=False)"
   ]
  },
  {
   "cell_type": "markdown",
   "id": "609ca2da",
   "metadata": {},
   "source": [
    "## Test Data (ONLY DEVELOP)"
   ]
  },
  {
   "cell_type": "code",
   "execution_count": 37,
   "id": "5a13388a",
   "metadata": {
    "ExecuteTime": {
     "end_time": "2022-02-01T19:15:35.897847Z",
     "start_time": "2022-02-01T19:15:35.880856Z"
    },
    "scrolled": false
   },
   "outputs": [],
   "source": [
    "# import datetime\n",
    "# import pandas as pd\n",
    "# today = datetime.datetime.now().strftime(\"%Y-%m-%d\")\n",
    "# df_clean_jobs = pd.read_csv('scrap_dataeng_jobs_2021_12_31.csv', sep=\";\")\n",
    "# len_df = str(len(df_clean_jobs))\n",
    "# print(len(df_clean_jobs))\n",
    "# df_clean_jobs.head(5)"
   ]
  },
  {
   "cell_type": "markdown",
   "id": "c32459c4",
   "metadata": {},
   "source": [
    "### Deletar colunas e replace `work_home`"
   ]
  },
  {
   "cell_type": "code",
   "execution_count": 14,
   "id": "35cfc6a0",
   "metadata": {
    "ExecuteTime": {
     "end_time": "2022-02-01T18:47:14.074246Z",
     "start_time": "2022-02-01T18:47:14.065252Z"
    }
   },
   "outputs": [],
   "source": [
    "# delete detected_extensions\n",
    "if('detected_extensions' in df_clean_jobs.columns):\n",
    "    del df_clean_jobs['detected_extensions']\n",
    "    \n",
    "# delete extensions\n",
    "if('extensions' in df_clean_jobs.columns):\n",
    "    del df_clean_jobs['extensions']\n",
    "    \n",
    "# replace 'work_from_home'\n",
    "# df_clean_jobs['work_from_home'] = df_clean_jobs['work_from_home'].replace({\n",
    "#     '1': 'True',\n",
    "#     '': 'False',\n",
    "#     ' ': 'False',\n",
    "#     '0': 'False',\n",
    "# })\n",
    "# df_clean_jobs['work_from_home'] = df_clean_jobs['work_from_home'].fillna('False')"
   ]
  },
  {
   "cell_type": "markdown",
   "id": "7d477e6a",
   "metadata": {},
   "source": [
    "### Advanced ETL Analsys and Engineering Features"
   ]
  },
  {
   "cell_type": "code",
   "execution_count": 15,
   "id": "06a2c3be",
   "metadata": {
    "ExecuteTime": {
     "end_time": "2022-02-01T18:47:16.229357Z",
     "start_time": "2022-02-01T18:47:16.216359Z"
    }
   },
   "outputs": [],
   "source": [
    "def office(row):\n",
    "    offices = ['junior', 'júnior', 'senior', 'sênior' 'estagio', 'pleno', 'pl'\n",
    "               'estágio', 'gerente', 'trainee', 'bolsista']\n",
    "    for el in offices:\n",
    "        if( row['title'].lower().find(el) != -1 ):\n",
    "            return el\n",
    "        if( row['description'].lower().find(el) != -1):\n",
    "            return el\n",
    "    return ''"
   ]
  },
  {
   "cell_type": "code",
   "execution_count": 16,
   "id": "9fb2da8a",
   "metadata": {
    "ExecuteTime": {
     "end_time": "2022-02-01T18:47:18.425764Z",
     "start_time": "2022-02-01T18:47:18.385103Z"
    },
    "scrolled": false
   },
   "outputs": [],
   "source": [
    "df_clean_jobs['office'] = df_clean_jobs.apply(office, axis=1)\n",
    "df_clean_jobs['office'] = df_clean_jobs['office'].replace({\n",
    "    'sênior': 'senior',\n",
    "    'pl': 'pleno',\n",
    "    'júnior': 'junior',\n",
    "    'estágio': 'estagio',\n",
    "})\n",
    "df_clean_jobs['office'] = df_clean_jobs['office'].replace({'': 'Sem descrição'})\n",
    "df_clean_jobs['office'] = df_clean_jobs['office'].str.capitalize()"
   ]
  },
  {
   "cell_type": "code",
   "execution_count": 27,
   "id": "850d4bfb",
   "metadata": {
    "ExecuteTime": {
     "end_time": "2022-02-01T19:02:35.216676Z",
     "start_time": "2022-02-01T19:02:35.084068Z"
    },
    "scrolled": true
   },
   "outputs": [
    {
     "ename": "KeyError",
     "evalue": "\"['thumbnail'] not found in axis\"",
     "output_type": "error",
     "traceback": [
      "\u001b[1;31m---------------------------------------------------------------------------\u001b[0m",
      "\u001b[1;31mKeyError\u001b[0m                                  Traceback (most recent call last)",
      "\u001b[1;32m~\\AppData\\Local\\Temp/ipykernel_8328/3805684378.py\u001b[0m in \u001b[0;36m<module>\u001b[1;34m\u001b[0m\n\u001b[1;32m----> 1\u001b[1;33m \u001b[0mdf_clean_jobs\u001b[0m \u001b[1;33m=\u001b[0m \u001b[0mdf_clean_jobs\u001b[0m\u001b[1;33m.\u001b[0m\u001b[0mdrop\u001b[0m\u001b[1;33m(\u001b[0m\u001b[0mcolumns\u001b[0m\u001b[1;33m=\u001b[0m\u001b[1;33m[\u001b[0m\u001b[1;34m'thumbnail'\u001b[0m\u001b[1;33m]\u001b[0m\u001b[1;33m)\u001b[0m\u001b[1;33m\u001b[0m\u001b[1;33m\u001b[0m\u001b[0m\n\u001b[0m\u001b[0;32m      2\u001b[0m \u001b[0mdf_clean_jobs\u001b[0m\u001b[1;33m.\u001b[0m\u001b[0mhead\u001b[0m\u001b[1;33m(\u001b[0m\u001b[1;33m)\u001b[0m\u001b[1;33m\u001b[0m\u001b[1;33m\u001b[0m\u001b[0m\n",
      "\u001b[1;32mC:\\Python310\\lib\\site-packages\\pandas\\util\\_decorators.py\u001b[0m in \u001b[0;36mwrapper\u001b[1;34m(*args, **kwargs)\u001b[0m\n\u001b[0;32m    309\u001b[0m                     \u001b[0mstacklevel\u001b[0m\u001b[1;33m=\u001b[0m\u001b[0mstacklevel\u001b[0m\u001b[1;33m,\u001b[0m\u001b[1;33m\u001b[0m\u001b[1;33m\u001b[0m\u001b[0m\n\u001b[0;32m    310\u001b[0m                 )\n\u001b[1;32m--> 311\u001b[1;33m             \u001b[1;32mreturn\u001b[0m \u001b[0mfunc\u001b[0m\u001b[1;33m(\u001b[0m\u001b[1;33m*\u001b[0m\u001b[0margs\u001b[0m\u001b[1;33m,\u001b[0m \u001b[1;33m**\u001b[0m\u001b[0mkwargs\u001b[0m\u001b[1;33m)\u001b[0m\u001b[1;33m\u001b[0m\u001b[1;33m\u001b[0m\u001b[0m\n\u001b[0m\u001b[0;32m    312\u001b[0m \u001b[1;33m\u001b[0m\u001b[0m\n\u001b[0;32m    313\u001b[0m         \u001b[1;32mreturn\u001b[0m \u001b[0mwrapper\u001b[0m\u001b[1;33m\u001b[0m\u001b[1;33m\u001b[0m\u001b[0m\n",
      "\u001b[1;32mC:\\Python310\\lib\\site-packages\\pandas\\core\\frame.py\u001b[0m in \u001b[0;36mdrop\u001b[1;34m(self, labels, axis, index, columns, level, inplace, errors)\u001b[0m\n\u001b[0;32m   4904\u001b[0m                 \u001b[0mweight\u001b[0m  \u001b[1;36m1.0\u001b[0m     \u001b[1;36m0.8\u001b[0m\u001b[1;33m\u001b[0m\u001b[1;33m\u001b[0m\u001b[0m\n\u001b[0;32m   4905\u001b[0m         \"\"\"\n\u001b[1;32m-> 4906\u001b[1;33m         return super().drop(\n\u001b[0m\u001b[0;32m   4907\u001b[0m             \u001b[0mlabels\u001b[0m\u001b[1;33m=\u001b[0m\u001b[0mlabels\u001b[0m\u001b[1;33m,\u001b[0m\u001b[1;33m\u001b[0m\u001b[1;33m\u001b[0m\u001b[0m\n\u001b[0;32m   4908\u001b[0m             \u001b[0maxis\u001b[0m\u001b[1;33m=\u001b[0m\u001b[0maxis\u001b[0m\u001b[1;33m,\u001b[0m\u001b[1;33m\u001b[0m\u001b[1;33m\u001b[0m\u001b[0m\n",
      "\u001b[1;32mC:\\Python310\\lib\\site-packages\\pandas\\core\\generic.py\u001b[0m in \u001b[0;36mdrop\u001b[1;34m(self, labels, axis, index, columns, level, inplace, errors)\u001b[0m\n\u001b[0;32m   4148\u001b[0m         \u001b[1;32mfor\u001b[0m \u001b[0maxis\u001b[0m\u001b[1;33m,\u001b[0m \u001b[0mlabels\u001b[0m \u001b[1;32min\u001b[0m \u001b[0maxes\u001b[0m\u001b[1;33m.\u001b[0m\u001b[0mitems\u001b[0m\u001b[1;33m(\u001b[0m\u001b[1;33m)\u001b[0m\u001b[1;33m:\u001b[0m\u001b[1;33m\u001b[0m\u001b[1;33m\u001b[0m\u001b[0m\n\u001b[0;32m   4149\u001b[0m             \u001b[1;32mif\u001b[0m \u001b[0mlabels\u001b[0m \u001b[1;32mis\u001b[0m \u001b[1;32mnot\u001b[0m \u001b[1;32mNone\u001b[0m\u001b[1;33m:\u001b[0m\u001b[1;33m\u001b[0m\u001b[1;33m\u001b[0m\u001b[0m\n\u001b[1;32m-> 4150\u001b[1;33m                 \u001b[0mobj\u001b[0m \u001b[1;33m=\u001b[0m \u001b[0mobj\u001b[0m\u001b[1;33m.\u001b[0m\u001b[0m_drop_axis\u001b[0m\u001b[1;33m(\u001b[0m\u001b[0mlabels\u001b[0m\u001b[1;33m,\u001b[0m \u001b[0maxis\u001b[0m\u001b[1;33m,\u001b[0m \u001b[0mlevel\u001b[0m\u001b[1;33m=\u001b[0m\u001b[0mlevel\u001b[0m\u001b[1;33m,\u001b[0m \u001b[0merrors\u001b[0m\u001b[1;33m=\u001b[0m\u001b[0merrors\u001b[0m\u001b[1;33m)\u001b[0m\u001b[1;33m\u001b[0m\u001b[1;33m\u001b[0m\u001b[0m\n\u001b[0m\u001b[0;32m   4151\u001b[0m \u001b[1;33m\u001b[0m\u001b[0m\n\u001b[0;32m   4152\u001b[0m         \u001b[1;32mif\u001b[0m \u001b[0minplace\u001b[0m\u001b[1;33m:\u001b[0m\u001b[1;33m\u001b[0m\u001b[1;33m\u001b[0m\u001b[0m\n",
      "\u001b[1;32mC:\\Python310\\lib\\site-packages\\pandas\\core\\generic.py\u001b[0m in \u001b[0;36m_drop_axis\u001b[1;34m(self, labels, axis, level, errors)\u001b[0m\n\u001b[0;32m   4183\u001b[0m                 \u001b[0mnew_axis\u001b[0m \u001b[1;33m=\u001b[0m \u001b[0maxis\u001b[0m\u001b[1;33m.\u001b[0m\u001b[0mdrop\u001b[0m\u001b[1;33m(\u001b[0m\u001b[0mlabels\u001b[0m\u001b[1;33m,\u001b[0m \u001b[0mlevel\u001b[0m\u001b[1;33m=\u001b[0m\u001b[0mlevel\u001b[0m\u001b[1;33m,\u001b[0m \u001b[0merrors\u001b[0m\u001b[1;33m=\u001b[0m\u001b[0merrors\u001b[0m\u001b[1;33m)\u001b[0m\u001b[1;33m\u001b[0m\u001b[1;33m\u001b[0m\u001b[0m\n\u001b[0;32m   4184\u001b[0m             \u001b[1;32melse\u001b[0m\u001b[1;33m:\u001b[0m\u001b[1;33m\u001b[0m\u001b[1;33m\u001b[0m\u001b[0m\n\u001b[1;32m-> 4185\u001b[1;33m                 \u001b[0mnew_axis\u001b[0m \u001b[1;33m=\u001b[0m \u001b[0maxis\u001b[0m\u001b[1;33m.\u001b[0m\u001b[0mdrop\u001b[0m\u001b[1;33m(\u001b[0m\u001b[0mlabels\u001b[0m\u001b[1;33m,\u001b[0m \u001b[0merrors\u001b[0m\u001b[1;33m=\u001b[0m\u001b[0merrors\u001b[0m\u001b[1;33m)\u001b[0m\u001b[1;33m\u001b[0m\u001b[1;33m\u001b[0m\u001b[0m\n\u001b[0m\u001b[0;32m   4186\u001b[0m             \u001b[0mresult\u001b[0m \u001b[1;33m=\u001b[0m \u001b[0mself\u001b[0m\u001b[1;33m.\u001b[0m\u001b[0mreindex\u001b[0m\u001b[1;33m(\u001b[0m\u001b[1;33m**\u001b[0m\u001b[1;33m{\u001b[0m\u001b[0maxis_name\u001b[0m\u001b[1;33m:\u001b[0m \u001b[0mnew_axis\u001b[0m\u001b[1;33m}\u001b[0m\u001b[1;33m)\u001b[0m\u001b[1;33m\u001b[0m\u001b[1;33m\u001b[0m\u001b[0m\n\u001b[0;32m   4187\u001b[0m \u001b[1;33m\u001b[0m\u001b[0m\n",
      "\u001b[1;32mC:\\Python310\\lib\\site-packages\\pandas\\core\\indexes\\base.py\u001b[0m in \u001b[0;36mdrop\u001b[1;34m(self, labels, errors)\u001b[0m\n\u001b[0;32m   6015\u001b[0m         \u001b[1;32mif\u001b[0m \u001b[0mmask\u001b[0m\u001b[1;33m.\u001b[0m\u001b[0many\u001b[0m\u001b[1;33m(\u001b[0m\u001b[1;33m)\u001b[0m\u001b[1;33m:\u001b[0m\u001b[1;33m\u001b[0m\u001b[1;33m\u001b[0m\u001b[0m\n\u001b[0;32m   6016\u001b[0m             \u001b[1;32mif\u001b[0m \u001b[0merrors\u001b[0m \u001b[1;33m!=\u001b[0m \u001b[1;34m\"ignore\"\u001b[0m\u001b[1;33m:\u001b[0m\u001b[1;33m\u001b[0m\u001b[1;33m\u001b[0m\u001b[0m\n\u001b[1;32m-> 6017\u001b[1;33m                 \u001b[1;32mraise\u001b[0m \u001b[0mKeyError\u001b[0m\u001b[1;33m(\u001b[0m\u001b[1;34mf\"{labels[mask]} not found in axis\"\u001b[0m\u001b[1;33m)\u001b[0m\u001b[1;33m\u001b[0m\u001b[1;33m\u001b[0m\u001b[0m\n\u001b[0m\u001b[0;32m   6018\u001b[0m             \u001b[0mindexer\u001b[0m \u001b[1;33m=\u001b[0m \u001b[0mindexer\u001b[0m\u001b[1;33m[\u001b[0m\u001b[1;33m~\u001b[0m\u001b[0mmask\u001b[0m\u001b[1;33m]\u001b[0m\u001b[1;33m\u001b[0m\u001b[1;33m\u001b[0m\u001b[0m\n\u001b[0;32m   6019\u001b[0m         \u001b[1;32mreturn\u001b[0m \u001b[0mself\u001b[0m\u001b[1;33m.\u001b[0m\u001b[0mdelete\u001b[0m\u001b[1;33m(\u001b[0m\u001b[0mindexer\u001b[0m\u001b[1;33m)\u001b[0m\u001b[1;33m\u001b[0m\u001b[1;33m\u001b[0m\u001b[0m\n",
      "\u001b[1;31mKeyError\u001b[0m: \"['thumbnail'] not found in axis\""
     ]
    }
   ],
   "source": [
    "df_clean_jobs = df_clean_jobs.drop(columns=['thumbnail'])"
   ]
  },
  {
   "cell_type": "code",
   "execution_count": 34,
   "id": "60897819",
   "metadata": {
    "ExecuteTime": {
     "end_time": "2022-02-01T19:09:18.119483Z",
     "start_time": "2022-02-01T19:09:18.096500Z"
    },
    "scrolled": true
   },
   "outputs": [
    {
     "data": {
      "text/html": [
       "<div>\n",
       "<style scoped>\n",
       "    .dataframe tbody tr th:only-of-type {\n",
       "        vertical-align: middle;\n",
       "    }\n",
       "\n",
       "    .dataframe tbody tr th {\n",
       "        vertical-align: top;\n",
       "    }\n",
       "\n",
       "    .dataframe thead th {\n",
       "        text-align: right;\n",
       "    }\n",
       "</style>\n",
       "<table border=\"1\" class=\"dataframe\">\n",
       "  <thead>\n",
       "    <tr style=\"text-align: right;\">\n",
       "      <th></th>\n",
       "      <th>title</th>\n",
       "      <th>company_name</th>\n",
       "      <th>location</th>\n",
       "      <th>via</th>\n",
       "      <th>description</th>\n",
       "      <th>job_id</th>\n",
       "      <th>create_date</th>\n",
       "      <th>office</th>\n",
       "    </tr>\n",
       "  </thead>\n",
       "  <tbody>\n",
       "    <tr>\n",
       "      <th>0</th>\n",
       "      <td>Engenheiro de Dados</td>\n",
       "      <td>Marketdata</td>\n",
       "      <td>Qualquer lugar</td>\n",
       "      <td>via Vagas</td>\n",
       "      <td>Descrição: Quem Somos:\\nA Marketdata é uma das...</td>\n",
       "      <td>70145071</td>\n",
       "      <td>2022-02-01</td>\n",
       "      <td>Sem descrição</td>\n",
       "    </tr>\n",
       "    <tr>\n",
       "      <th>1</th>\n",
       "      <td>Engenharia de Dados</td>\n",
       "      <td>GFT Technologies SE</td>\n",
       "      <td>Qualquer lugar</td>\n",
       "      <td>via Glassdoor</td>\n",
       "      <td>Engenharia de Dados - 69905 INT\\n\\nData: 20/01...</td>\n",
       "      <td>49768069</td>\n",
       "      <td>2022-02-01</td>\n",
       "      <td>Sem descrição</td>\n",
       "    </tr>\n",
       "    <tr>\n",
       "      <th>2</th>\n",
       "      <td>Engenheiro de Dados</td>\n",
       "      <td>Globant</td>\n",
       "      <td>Brasil</td>\n",
       "      <td>via Trampos</td>\n",
       "      <td>DESCRIÇÃO\\nVaga focada em engenharia de dados.</td>\n",
       "      <td>82809778</td>\n",
       "      <td>2022-02-01</td>\n",
       "      <td>Sem descrição</td>\n",
       "    </tr>\n",
       "    <tr>\n",
       "      <th>3</th>\n",
       "      <td>Engenheiro de Dados</td>\n",
       "      <td>Vetta</td>\n",
       "      <td>Qualquer lugar</td>\n",
       "      <td>via Vetta - Gupy</td>\n",
       "      <td>Job description\\n\\nA missão da Vetta é ajudar ...</td>\n",
       "      <td>95375128</td>\n",
       "      <td>2022-02-01</td>\n",
       "      <td>Sem descrição</td>\n",
       "    </tr>\n",
       "    <tr>\n",
       "      <th>4</th>\n",
       "      <td>Engenheiro de Dados</td>\n",
       "      <td>Cedro Finances</td>\n",
       "      <td>Brasil</td>\n",
       "      <td>via LinkedIn</td>\n",
       "      <td>Atuará nas atividades internas e demais funçõe...</td>\n",
       "      <td>92621732</td>\n",
       "      <td>2022-02-01</td>\n",
       "      <td>Sem descrição</td>\n",
       "    </tr>\n",
       "  </tbody>\n",
       "</table>\n",
       "</div>"
      ],
      "text/plain": [
       "                 title         company_name        location               via  \\\n",
       "0  Engenheiro de Dados           Marketdata  Qualquer lugar         via Vagas   \n",
       "1  Engenharia de Dados  GFT Technologies SE  Qualquer lugar     via Glassdoor   \n",
       "2  Engenheiro de Dados              Globant          Brasil       via Trampos   \n",
       "3  Engenheiro de Dados                Vetta  Qualquer lugar  via Vetta - Gupy   \n",
       "4  Engenheiro de Dados       Cedro Finances          Brasil      via LinkedIn   \n",
       "\n",
       "                                         description    job_id create_date  \\\n",
       "0  Descrição: Quem Somos:\\nA Marketdata é uma das...  70145071  2022-02-01   \n",
       "1  Engenharia de Dados - 69905 INT\\n\\nData: 20/01...  49768069  2022-02-01   \n",
       "2     DESCRIÇÃO\\nVaga focada em engenharia de dados.  82809778  2022-02-01   \n",
       "3  Job description\\n\\nA missão da Vetta é ajudar ...  95375128  2022-02-01   \n",
       "4  Atuará nas atividades internas e demais funçõe...  92621732  2022-02-01   \n",
       "\n",
       "          office  \n",
       "0  Sem descrição  \n",
       "1  Sem descrição  \n",
       "2  Sem descrição  \n",
       "3  Sem descrição  \n",
       "4  Sem descrição  "
      ]
     },
     "execution_count": 34,
     "metadata": {},
     "output_type": "execute_result"
    }
   ],
   "source": [
    "df_clean_jobs.head()"
   ]
  },
  {
   "cell_type": "markdown",
   "id": "24ba5ed3",
   "metadata": {},
   "source": [
    "## Save in MySQL DB"
   ]
  },
  {
   "cell_type": "code",
   "execution_count": 35,
   "id": "69a814bc",
   "metadata": {
    "ExecuteTime": {
     "end_time": "2022-02-01T19:10:34.176556Z",
     "start_time": "2022-02-01T19:10:27.719871Z"
    }
   },
   "outputs": [
    {
     "name": "stdout",
     "output_type": "stream",
     "text": [
      "Connecting to MySQL\n",
      "Success to Connecting MySQL\n",
      "8\n",
      "title, company_name, location, via, description, job_id, salary, create_date, office\n",
      "9\n",
      "8\n",
      "title, company_name, location, via, description, job_id, salary, create_date, office\n",
      "9\n",
      "8\n",
      "title, company_name, location, via, description, job_id, salary, create_date, office\n",
      "9\n",
      "8\n",
      "title, company_name, location, via, description, job_id, salary, create_date, office\n",
      "9\n",
      "8\n",
      "title, company_name, location, via, description, job_id, salary, create_date, office\n",
      "9\n",
      "8\n",
      "title, company_name, location, via, description, job_id, salary, create_date, office\n",
      "9\n",
      "8\n",
      "title, company_name, location, via, description, job_id, salary, create_date, office\n",
      "9\n",
      "8\n",
      "title, company_name, location, via, description, job_id, salary, create_date, office\n",
      "9\n",
      "8\n",
      "title, company_name, location, via, description, job_id, salary, create_date, office\n",
      "9\n",
      "8\n",
      "title, company_name, location, via, description, job_id, salary, create_date, office\n",
      "9\n",
      "8\n",
      "title, company_name, location, via, description, job_id, salary, create_date, office\n",
      "9\n",
      "8\n",
      "title, company_name, location, via, description, job_id, salary, create_date, office\n",
      "9\n",
      "8\n",
      "title, company_name, location, via, description, job_id, salary, create_date, office\n",
      "9\n",
      "8\n",
      "title, company_name, location, via, description, job_id, salary, create_date, office\n",
      "9\n",
      "8\n",
      "title, company_name, location, via, description, job_id, salary, create_date, office\n",
      "9\n",
      "8\n",
      "title, company_name, location, via, description, job_id, salary, create_date, office\n",
      "9\n",
      "8\n",
      "title, company_name, location, via, description, job_id, salary, create_date, office\n",
      "9\n",
      "8\n",
      "title, company_name, location, via, description, job_id, salary, create_date, office\n",
      "9\n",
      "8\n",
      "title, company_name, location, via, description, job_id, salary, create_date, office\n",
      "9\n",
      "8\n",
      "title, company_name, location, via, description, job_id, salary, create_date, office\n",
      "9\n",
      "8\n",
      "title, company_name, location, via, description, job_id, salary, create_date, office\n",
      "9\n",
      "8\n",
      "title, company_name, location, via, description, job_id, salary, create_date, office\n",
      "9\n",
      "8\n",
      "title, company_name, location, via, description, job_id, salary, create_date, office\n",
      "9\n",
      "8\n",
      "title, company_name, location, via, description, job_id, salary, create_date, office\n",
      "9\n",
      "8\n",
      "title, company_name, location, via, description, job_id, salary, create_date, office\n",
      "9\n",
      "8\n",
      "title, company_name, location, via, description, job_id, salary, create_date, office\n",
      "9\n",
      "8\n",
      "title, company_name, location, via, description, job_id, salary, create_date, office\n",
      "9\n",
      "8\n",
      "title, company_name, location, via, description, job_id, salary, create_date, office\n",
      "9\n",
      "8\n",
      "title, company_name, location, via, description, job_id, salary, create_date, office\n",
      "9\n",
      "8\n",
      "title, company_name, location, via, description, job_id, salary, create_date, office\n",
      "9\n",
      "Sucess in Insert 25 new rows 5 duplicates\n",
      "MySQL connection is closed\n",
      "Finnaly Close Connection\n"
     ]
    }
   ],
   "source": [
    "from db_mysql6 import MySQLMyDataBase\n",
    "\n",
    "c = 0\n",
    "d = 0\n",
    "\n",
    "try:\n",
    "    # Create DB Class\n",
    "    database = MySQLMyDataBase()\n",
    "    # Insert Each Row\n",
    "    for i, row in df_clean_jobs.iterrows():\n",
    "        row['description'] = row['description'].encode('utf-8', 'ignore')\n",
    "        row = list(row.fillna(''))\n",
    "        try:\n",
    "            database.insert_data_eng_job(tuple(row))\n",
    "            c += 1\n",
    "        except Exception as error:\n",
    "            if('Duplicate' in str(error)):\n",
    "                d += 1\n",
    "                continue\n",
    "            else:\n",
    "                print('NEW ERROR')\n",
    "                print(error, '\\n\\n')\n",
    "                raise error\n",
    "    # Insert Sucess Log\n",
    "    success_row = ('SUCCESS', \n",
    "                   str(c) + ' new rows created ' + str(d) + ' duplicates', today)\n",
    "    database.insert_log(success_row)\n",
    "    database.conn.commit()\n",
    "    print('Sucess in Insert', str(c), 'new rows', str(d), 'duplicates')\n",
    "except Exception as error:\n",
    "    # If failed, rollback and insert failed log\n",
    "    database.conn.rollback()\n",
    "    failed_row = ('FAILED', error, today)\n",
    "    database.insert_log(failed_row)\n",
    "    database.conn.commit()\n",
    "    print(\"Failed to insert into MySQL table {}\".format(error))\n",
    "finally:\n",
    "    # close connection\n",
    "    database.close_connection()\n",
    "    print('Finnaly Close Connection')"
   ]
  },
  {
   "cell_type": "code",
   "execution_count": null,
   "id": "aa4b5492",
   "metadata": {},
   "outputs": [],
   "source": []
  }
 ],
 "metadata": {
  "kernelspec": {
   "display_name": "Python 3 (ipykernel)",
   "language": "python",
   "name": "python3"
  },
  "language_info": {
   "codemirror_mode": {
    "name": "ipython",
    "version": 3
   },
   "file_extension": ".py",
   "mimetype": "text/x-python",
   "name": "python",
   "nbconvert_exporter": "python",
   "pygments_lexer": "ipython3",
   "version": "3.10.4"
  },
  "toc": {
   "base_numbering": 1,
   "nav_menu": {},
   "number_sections": true,
   "sideBar": true,
   "skip_h1_title": false,
   "title_cell": "Table of Contents",
   "title_sidebar": "Contents",
   "toc_cell": false,
   "toc_position": {},
   "toc_section_display": true,
   "toc_window_display": false
  },
  "varInspector": {
   "cols": {
    "lenName": 16,
    "lenType": 16,
    "lenVar": 40
   },
   "kernels_config": {
    "python": {
     "delete_cmd_postfix": "",
     "delete_cmd_prefix": "del ",
     "library": "var_list.py",
     "varRefreshCmd": "print(var_dic_list())"
    },
    "r": {
     "delete_cmd_postfix": ") ",
     "delete_cmd_prefix": "rm(",
     "library": "var_list.r",
     "varRefreshCmd": "cat(var_dic_list()) "
    }
   },
   "types_to_exclude": [
    "module",
    "function",
    "builtin_function_or_method",
    "instance",
    "_Feature"
   ],
   "window_display": false
  }
 },
 "nbformat": 4,
 "nbformat_minor": 5
}
