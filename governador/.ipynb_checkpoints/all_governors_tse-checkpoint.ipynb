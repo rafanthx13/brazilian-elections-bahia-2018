{
 "cells": [
  {
   "cell_type": "markdown",
   "id": "90c58674",
   "metadata": {},
   "source": [
    "# WebSraping Governors Bahia 2018 From TSE\n",
    "\n",
    "**Objetivo**: Gerar `.csv` dos dados de um candidato a governador no 1 turno da Bahia da eleição de 2018"
   ]
  },
  {
   "cell_type": "markdown",
   "id": "4dd075c7",
   "metadata": {},
   "source": [
    "# Import and Constants"
   ]
  },
  {
   "cell_type": "code",
   "execution_count": 2,
   "id": "534d6594",
   "metadata": {
    "ExecuteTime": {
     "end_time": "2022-04-21T23:35:56.434910Z",
     "start_time": "2022-04-21T23:35:55.381458Z"
    }
   },
   "outputs": [],
   "source": [
    "import requests\n",
    "from bs4 import BeautifulSoup\n",
    "import pandas as pd\n",
    "import os "
   ]
  },
  {
   "cell_type": "markdown",
   "id": "cd660d9d",
   "metadata": {},
   "source": [
    "# Snippets"
   ]
  },
  {
   "cell_type": "code",
   "execution_count": 3,
   "id": "75aa7326",
   "metadata": {
    "ExecuteTime": {
     "end_time": "2022-04-21T23:35:56.479883Z",
     "start_time": "2022-04-21T23:35:56.470891Z"
    }
   },
   "outputs": [],
   "source": [
    "def convert_long_comment_in_string(long_txt):\n",
    "    \"\"\"\n",
    "    Converter uma lsita grande dos attrs que queremos filtrar, pois selecionei manualmente\n",
    "    \"\"\"\n",
    "    return list(map(lambda x: x.strip(), long_txt.split('\\n')[1:-1] ))"
   ]
  },
  {
   "cell_type": "code",
   "execution_count": 4,
   "id": "367b3dc6",
   "metadata": {
    "ExecuteTime": {
     "end_time": "2022-04-21T23:35:56.526854Z",
     "start_time": "2022-04-21T23:35:56.512864Z"
    }
   },
   "outputs": [],
   "source": [
    "def filter_dict_deep_by_keys(adict, list_keys):\n",
    "    \"\"\"\n",
    "    Goal: Filter some Keys of dict even his keys is a sub.key\n",
    "    BR: Filtrar seomente alguns atributos do JSON, mesmo que seja um Objeto dentro de outro\n",
    "    Baseado em: https://thispointer.com/python-filter-a-dictionary-by-conditions-on-keys-or-values/\n",
    "    @list_keys vem dea funcao : 'convert_long_comment_in_string'\n",
    "    \"\"\"\n",
    "    newDict = dict()\n",
    "    for (key, value) in adict.items():\n",
    "        if key in list_keys:\n",
    "            newDict[key] = value\n",
    "    return newDict            "
   ]
  },
  {
   "cell_type": "code",
   "execution_count": 5,
   "id": "71cb4b81",
   "metadata": {
    "ExecuteTime": {
     "end_time": "2022-04-21T23:35:56.758306Z",
     "start_time": "2022-04-21T23:35:56.750310Z"
    }
   },
   "outputs": [],
   "source": [
    "def request_get(url, lib_parser = 'html.parser'):\n",
    "    \"\"\"\n",
    "    lib_paeser : 'html.parser' // \n",
    "    return BeautifulSoupPage\n",
    "    \"\"\"\n",
    "    response = requests.get(url)\n",
    "    if(response.status_code != 200):\n",
    "        print(url, 'Erro Code')\n",
    "        quit()\n",
    "    return BeautifulSoup(response.text, lib_parser)"
   ]
  },
  {
   "cell_type": "code",
   "execution_count": 45,
   "id": "4cf718a5",
   "metadata": {
    "ExecuteTime": {
     "end_time": "2022-04-22T00:22:51.198660Z",
     "start_time": "2022-04-22T00:22:51.180670Z"
    }
   },
   "outputs": [],
   "source": [
    "def to_df_from_list_of_objs_sorted(list_of_obj):\n",
    "    \"\"\"\n",
    "        Converte de:\n",
    "    [{'id': 5, 'nome': 'rafael'},  {'id': 6, 'nome': 'marta'}]\n",
    "        Para DataFrame\n",
    "    OBS: Esse processo é mais complxo pois tem que ser feito\n",
    "    \"\"\"\n",
    "    variables = list_of_obj[0].keys()\n",
    "\n",
    "    def aux_obj_to_list_sorted(obj, features):\n",
    "        alist = []\n",
    "        for feat in features:\n",
    "            alist.append(obj[feat])\n",
    "        return alist\n",
    "\n",
    "    return pd.DataFrame(\n",
    "                list( map( lambda x: aux_obj_to_list_sorted(x, variables), list_of_obj)),\n",
    "                columns = variables)"
   ]
  },
  {
   "cell_type": "markdown",
   "id": "75c0598f",
   "metadata": {},
   "source": [
    "# Gett All Governador"
   ]
  },
  {
   "cell_type": "code",
   "execution_count": 17,
   "id": "a0076668",
   "metadata": {
    "ExecuteTime": {
     "end_time": "2022-04-21T23:59:58.311955Z",
     "start_time": "2022-04-21T23:59:58.300957Z"
    }
   },
   "outputs": [],
   "source": [
    "tse_all_candidates = 'https://divulgacandcontas.tse.jus.br/divulga/rest/v1/candidatura/listar/2018/BA/2022802018/3/candidatos'"
   ]
  },
  {
   "cell_type": "code",
   "execution_count": 18,
   "id": "9b823947",
   "metadata": {
    "ExecuteTime": {
     "end_time": "2022-04-22T00:00:00.255940Z",
     "start_time": "2022-04-22T00:00:00.248944Z"
    }
   },
   "outputs": [],
   "source": [
    "tse_url_1 = 'https://divulgacandcontas.tse.jus.br/divulga/rest/v1/candidatura/buscar/2018/BA/2022802018/candidato/%%'\n",
    "tse_url_2 = 'https://divulgacandcontas.tse.jus.br/divulga/rest/v1/prestador/consulta/2022802018/2018/BA/3/YZY/YZY/%%'"
   ]
  },
  {
   "cell_type": "markdown",
   "id": "b2c45aec",
   "metadata": {},
   "source": [
    "## Lista do que pegar"
   ]
  },
  {
   "cell_type": "code",
   "execution_count": 10,
   "id": "85ed4eb5",
   "metadata": {
    "ExecuteTime": {
     "end_time": "2022-04-21T23:41:08.953194Z",
     "start_time": "2022-04-21T23:41:08.939201Z"
    }
   },
   "outputs": [],
   "source": [
    "list_governador_keys_tse1 = \"\"\"\n",
    "    id\n",
    "    nomeUrna\n",
    "    numero\n",
    "    nomeCompleto\n",
    "    descricaoSexo\n",
    "    descricaoCorRaca\n",
    "    grauInstrucao\n",
    "    ocupacao\n",
    "    gastoCampanha1T\n",
    "    gastoCampanha2T\n",
    "    sgUfNascimento\n",
    "    nomeMunicipioNascimento\n",
    "    localCandidatura\n",
    "    fotoUrl\n",
    "    descricaoTotalizacao\n",
    "    nomeColigacao\n",
    "    composicaoColigacao\n",
    "    cargo\n",
    "    totalDeBens\n",
    "    partido\n",
    "    descricaoNaturalidade\n",
    "\"\"\"\n",
    "\n",
    "list_governador_keys_tse2 = \"\"\"\n",
    "    nomePartido\n",
    "    siglaPartido\n",
    "    nrCandidato\n",
    "    despesas\n",
    "    concentracaoDespesas\n",
    "    rankingDoadores\n",
    "    rankingFornecedores\n",
    "    dividaCampanha\n",
    "    sobraFinanceira\n",
    "    dadosConsolidados\n",
    "\"\"\"\n",
    "\n",
    "# Lista dos atributos a serem filtrados do JON, pois o JSON é muito grande\n",
    "# Escolhidos arbitrariamente de acordco com a proposta\n",
    "l1 = convert_long_comment_in_string(list_governador_keys_tse1) \n",
    "l2 = convert_long_comment_in_string(list_governador_keys_tse2)"
   ]
  },
  {
   "cell_type": "code",
   "execution_count": 15,
   "id": "d12b9ecc",
   "metadata": {
    "ExecuteTime": {
     "end_time": "2022-04-21T23:53:50.260367Z",
     "start_time": "2022-04-21T23:53:50.244371Z"
    }
   },
   "outputs": [
    {
     "data": {
      "text/plain": [
       "['nomePartido',\n",
       " 'siglaPartido',\n",
       " 'nrCandidato',\n",
       " 'despesas',\n",
       " 'concentracaoDespesas',\n",
       " 'rankingDoadores',\n",
       " 'rankingFornecedores',\n",
       " 'dividaCampanha',\n",
       " 'sobraFinanceira',\n",
       " 'dadosConsolidados']"
      ]
     },
     "execution_count": 15,
     "metadata": {},
     "output_type": "execute_result"
    }
   ],
   "source": [
    "l2"
   ]
  },
  {
   "cell_type": "markdown",
   "id": "438d39da",
   "metadata": {
    "ExecuteTime": {
     "end_time": "2022-04-21T23:41:16.959115Z",
     "start_time": "2022-04-21T23:41:16.940132Z"
    }
   },
   "source": [
    "## Processo"
   ]
  },
  {
   "cell_type": "code",
   "execution_count": 30,
   "id": "ac701b80",
   "metadata": {
    "ExecuteTime": {
     "end_time": "2022-04-22T00:07:01.767828Z",
     "start_time": "2022-04-22T00:06:52.534691Z"
    }
   },
   "outputs": [
    {
     "name": "stdout",
     "output_type": "stream",
     "text": [
      "50000623171 CÉLIA SACRAMENTO\n",
      "50000622082 JOÃO HENRIQUE DURVAL CARNEIRO\n",
      "50000608056 JOÃO SANTANA\n",
      "50000600867 MARCOS MENDES\n",
      "50000618934 ORLANDO ANDRADE\n",
      "50000607711 RUI COSTA\n",
      "50000608319 ZÉ RONALDO\n"
     ]
    }
   ],
   "source": [
    "ultimate_data = []\n",
    "\n",
    "tse_all = requests.get(tse_all_candidates).json()\n",
    "for el in tse_all['candidatos']:\n",
    "    print(el['id'], el['nomeUrna'])\n",
    "    the_id = el['id']\n",
    "    number = el['numero']\n",
    "    ######## replace ########\n",
    "    el_url_tse_1 = tse_url_1.replace('%%', str(the_id)).replace('YZY', str(number))\n",
    "    el_url_tse_2 = tse_url_2.replace('%%', str(the_id)).replace('YZY', str(number))\n",
    "    ######## request json ########\n",
    "    tse1 = requests.get(el_url_tse_1).json()\n",
    "    tse2 = requests.get(el_url_tse_2).json()\n",
    "    ######## filter attrs ########\n",
    "    tse1_re = filter_dict_deep_by_keys(tse1, l1)\n",
    "    tse2_re = filter_dict_deep_by_keys(tse2, l2)\n",
    "    ######## pre-processing data TSE1 ########\n",
    "    tse1_re['cargo'] = tse1_re['cargo']['nome']\n",
    "    tse1_re['sigla'] = tse1_re['partido']['sigla']\n",
    "    tse1_re['partido'] = tse1_re['partido']['nome']\n",
    "    ######## pre-processing data TSE2 ########\n",
    "    # Por todos os attrs de despesas pra fora\n",
    "    for el in list(tse2_re['despesas'].keys()):\n",
    "        tse2_re[el] = tse2_re['despesas'][el]\n",
    "    # Por todos os attrs de dadosConsolidados pra fora\n",
    "    for el in list(tse2_re['dadosConsolidados'].keys()):\n",
    "        tse2_re[el] = tse2_re['dadosConsolidados'][el]\n",
    "    tse2_re.pop('despesas', None)\n",
    "    tse2_re.pop('dadosConsolidados', None)\n",
    "    # REDUCE rankings\n",
    "    tse2_re['concentracaoDespesasR'] = sum(map(lambda x: x['valor'], tse2_re['concentracaoDespesas']))\n",
    "    tse2_re['rankingDoadoresR'] = sum(map(lambda x: x['valor'], tse2_re['rankingDoadores']))\n",
    "    tse2_re['rankingFornecedoresR'] = sum(map(lambda x: x['valor'], tse2_re['rankingFornecedores']))\n",
    "    tse2_re.pop('concentracaoDespesas', None)\n",
    "    tse2_re.pop('rankingDoadores', None)\n",
    "    tse2_re.pop('rankingFornecedores', None)\n",
    "    ######## Join ########\n",
    "    tse_final = {**tse1_re, **tse2_re, **{ 'id': the_id, 'numero': number} }\n",
    "    ultimate_data.append(tse_final)"
   ]
  },
  {
   "cell_type": "code",
   "execution_count": 46,
   "id": "216c0c63",
   "metadata": {
    "ExecuteTime": {
     "end_time": "2022-04-22T00:23:16.807650Z",
     "start_time": "2022-04-22T00:23:16.764441Z"
    }
   },
   "outputs": [
    {
     "data": {
      "text/html": [
       "<div>\n",
       "<style scoped>\n",
       "    .dataframe tbody tr th:only-of-type {\n",
       "        vertical-align: middle;\n",
       "    }\n",
       "\n",
       "    .dataframe tbody tr th {\n",
       "        vertical-align: top;\n",
       "    }\n",
       "\n",
       "    .dataframe thead th {\n",
       "        text-align: right;\n",
       "    }\n",
       "</style>\n",
       "<table border=\"1\" class=\"dataframe\">\n",
       "  <thead>\n",
       "    <tr style=\"text-align: right;\">\n",
       "      <th></th>\n",
       "      <th>id</th>\n",
       "      <th>nomeUrna</th>\n",
       "      <th>numero</th>\n",
       "      <th>nomeCompleto</th>\n",
       "      <th>descricaoSexo</th>\n",
       "      <th>descricaoCorRaca</th>\n",
       "      <th>grauInstrucao</th>\n",
       "      <th>ocupacao</th>\n",
       "      <th>gastoCampanha1T</th>\n",
       "      <th>gastoCampanha2T</th>\n",
       "      <th>...</th>\n",
       "      <th>graphPercentReceitaFinFundo</th>\n",
       "      <th>graphQtdReceitaFinOutros</th>\n",
       "      <th>graphVrReceitaFinOutros</th>\n",
       "      <th>graphPercentFinOutros</th>\n",
       "      <th>graphQtdReceitaFinFefc</th>\n",
       "      <th>graphVrReceitaFinFefc</th>\n",
       "      <th>graphPercentFinFefc</th>\n",
       "      <th>concentracaoDespesasR</th>\n",
       "      <th>rankingDoadoresR</th>\n",
       "      <th>rankingFornecedoresR</th>\n",
       "    </tr>\n",
       "  </thead>\n",
       "  <tbody>\n",
       "    <tr>\n",
       "      <th>0</th>\n",
       "      <td>50000623171</td>\n",
       "      <td>CÉLIA SACRAMENTO</td>\n",
       "      <td>18</td>\n",
       "      <td>CÉLIA OLIVEIRA DE JESUS SACRAMENTO</td>\n",
       "      <td>FEM.</td>\n",
       "      <td>PRETA</td>\n",
       "      <td>Superior completo</td>\n",
       "      <td>Professor de Ensino Superior</td>\n",
       "      <td>14000000</td>\n",
       "      <td>7000000</td>\n",
       "      <td>...</td>\n",
       "      <td>59.64</td>\n",
       "      <td>4</td>\n",
       "      <td>301.15</td>\n",
       "      <td>0.60</td>\n",
       "      <td>1</td>\n",
       "      <td>20000.00</td>\n",
       "      <td>39.76</td>\n",
       "      <td>50301.15</td>\n",
       "      <td>50301.15</td>\n",
       "      <td>38950.0</td>\n",
       "    </tr>\n",
       "    <tr>\n",
       "      <th>1</th>\n",
       "      <td>50000622082</td>\n",
       "      <td>JOÃO HENRIQUE DURVAL CARNEIRO</td>\n",
       "      <td>28</td>\n",
       "      <td>JOÃO HENRIQUE DE BARRADAS CARNEIRO</td>\n",
       "      <td>MASC.</td>\n",
       "      <td>PARDA</td>\n",
       "      <td>Superior completo</td>\n",
       "      <td>Economista</td>\n",
       "      <td>14000000</td>\n",
       "      <td>7000000</td>\n",
       "      <td>...</td>\n",
       "      <td>0.00</td>\n",
       "      <td>1</td>\n",
       "      <td>1000.00</td>\n",
       "      <td>100.00</td>\n",
       "      <td>0</td>\n",
       "      <td>0.00</td>\n",
       "      <td>0.00</td>\n",
       "      <td>1500.00</td>\n",
       "      <td>1500.00</td>\n",
       "      <td>990.0</td>\n",
       "    </tr>\n",
       "    <tr>\n",
       "      <th>2</th>\n",
       "      <td>50000608056</td>\n",
       "      <td>JOÃO SANTANA</td>\n",
       "      <td>15</td>\n",
       "      <td>JOÃO REIS SANTANA FILHO</td>\n",
       "      <td>MASC.</td>\n",
       "      <td>PARDA</td>\n",
       "      <td>Ensino Médio completo</td>\n",
       "      <td>Aposentado (Exceto Servidor Público)</td>\n",
       "      <td>14000000</td>\n",
       "      <td>7000000</td>\n",
       "      <td>...</td>\n",
       "      <td>27.02</td>\n",
       "      <td>0</td>\n",
       "      <td>0.00</td>\n",
       "      <td>0.00</td>\n",
       "      <td>5</td>\n",
       "      <td>2471500.00</td>\n",
       "      <td>72.98</td>\n",
       "      <td>3379195.35</td>\n",
       "      <td>3386600.00</td>\n",
       "      <td>3195318.0</td>\n",
       "    </tr>\n",
       "    <tr>\n",
       "      <th>3</th>\n",
       "      <td>50000600867</td>\n",
       "      <td>MARCOS MENDES</td>\n",
       "      <td>50</td>\n",
       "      <td>MARCOS ANTONIO GUIMARAES MENDES</td>\n",
       "      <td>MASC.</td>\n",
       "      <td>PARDA</td>\n",
       "      <td>Superior completo</td>\n",
       "      <td>Outros</td>\n",
       "      <td>14000000</td>\n",
       "      <td>7000000</td>\n",
       "      <td>...</td>\n",
       "      <td>0.00</td>\n",
       "      <td>1</td>\n",
       "      <td>1276.00</td>\n",
       "      <td>1.44</td>\n",
       "      <td>4</td>\n",
       "      <td>87565.87</td>\n",
       "      <td>98.56</td>\n",
       "      <td>112758.95</td>\n",
       "      <td>113141.87</td>\n",
       "      <td>44608.7</td>\n",
       "    </tr>\n",
       "    <tr>\n",
       "      <th>4</th>\n",
       "      <td>50000618934</td>\n",
       "      <td>ORLANDO ANDRADE</td>\n",
       "      <td>29</td>\n",
       "      <td>ORLANDO ANDRADE DE JESUS</td>\n",
       "      <td>MASC.</td>\n",
       "      <td>PRETA</td>\n",
       "      <td>Ensino Médio completo</td>\n",
       "      <td>Agente Postal</td>\n",
       "      <td>14000000</td>\n",
       "      <td>7000000</td>\n",
       "      <td>...</td>\n",
       "      <td>0.00</td>\n",
       "      <td>0</td>\n",
       "      <td>0.00</td>\n",
       "      <td>0.00</td>\n",
       "      <td>0</td>\n",
       "      <td>0.00</td>\n",
       "      <td>0.00</td>\n",
       "      <td>1350.00</td>\n",
       "      <td>1350.00</td>\n",
       "      <td>0.0</td>\n",
       "    </tr>\n",
       "    <tr>\n",
       "      <th>5</th>\n",
       "      <td>50000607711</td>\n",
       "      <td>RUI COSTA</td>\n",
       "      <td>13</td>\n",
       "      <td>RUI COSTA DOS SANTOS</td>\n",
       "      <td>MASC.</td>\n",
       "      <td>PARDA</td>\n",
       "      <td>Superior completo</td>\n",
       "      <td>Economista</td>\n",
       "      <td>14000000</td>\n",
       "      <td>7000000</td>\n",
       "      <td>...</td>\n",
       "      <td>2.96</td>\n",
       "      <td>237</td>\n",
       "      <td>2413316.62</td>\n",
       "      <td>32.43</td>\n",
       "      <td>37</td>\n",
       "      <td>4809460.00</td>\n",
       "      <td>64.62</td>\n",
       "      <td>7478760.99</td>\n",
       "      <td>3602239.95</td>\n",
       "      <td>2076120.0</td>\n",
       "    </tr>\n",
       "    <tr>\n",
       "      <th>6</th>\n",
       "      <td>50000608319</td>\n",
       "      <td>ZÉ RONALDO</td>\n",
       "      <td>25</td>\n",
       "      <td>JOSÉ RONALDO DE CARVALHO</td>\n",
       "      <td>MASC.</td>\n",
       "      <td>BRANCA</td>\n",
       "      <td>Superior completo</td>\n",
       "      <td>Administrador</td>\n",
       "      <td>14000000</td>\n",
       "      <td>7000000</td>\n",
       "      <td>...</td>\n",
       "      <td>32.73</td>\n",
       "      <td>74</td>\n",
       "      <td>424999.98</td>\n",
       "      <td>8.23</td>\n",
       "      <td>6</td>\n",
       "      <td>3050000.00</td>\n",
       "      <td>59.04</td>\n",
       "      <td>6347359.74</td>\n",
       "      <td>4781000.00</td>\n",
       "      <td>2270080.0</td>\n",
       "    </tr>\n",
       "  </tbody>\n",
       "</table>\n",
       "<p>7 rows × 87 columns</p>\n",
       "</div>"
      ],
      "text/plain": [
       "            id                       nomeUrna  numero  \\\n",
       "0  50000623171               CÉLIA SACRAMENTO      18   \n",
       "1  50000622082  JOÃO HENRIQUE DURVAL CARNEIRO      28   \n",
       "2  50000608056                   JOÃO SANTANA      15   \n",
       "3  50000600867                  MARCOS MENDES      50   \n",
       "4  50000618934                ORLANDO ANDRADE      29   \n",
       "5  50000607711                      RUI COSTA      13   \n",
       "6  50000608319                     ZÉ RONALDO      25   \n",
       "\n",
       "                         nomeCompleto descricaoSexo descricaoCorRaca  \\\n",
       "0  CÉLIA OLIVEIRA DE JESUS SACRAMENTO          FEM.            PRETA   \n",
       "1  JOÃO HENRIQUE DE BARRADAS CARNEIRO         MASC.            PARDA   \n",
       "2             JOÃO REIS SANTANA FILHO         MASC.            PARDA   \n",
       "3     MARCOS ANTONIO GUIMARAES MENDES         MASC.            PARDA   \n",
       "4            ORLANDO ANDRADE DE JESUS         MASC.            PRETA   \n",
       "5                RUI COSTA DOS SANTOS         MASC.            PARDA   \n",
       "6            JOSÉ RONALDO DE CARVALHO         MASC.           BRANCA   \n",
       "\n",
       "           grauInstrucao                              ocupacao  \\\n",
       "0      Superior completo          Professor de Ensino Superior   \n",
       "1      Superior completo                            Economista   \n",
       "2  Ensino Médio completo  Aposentado (Exceto Servidor Público)   \n",
       "3      Superior completo                                Outros   \n",
       "4  Ensino Médio completo                         Agente Postal   \n",
       "5      Superior completo                            Economista   \n",
       "6      Superior completo                         Administrador   \n",
       "\n",
       "   gastoCampanha1T  gastoCampanha2T  ... graphPercentReceitaFinFundo  \\\n",
       "0         14000000          7000000  ...                       59.64   \n",
       "1         14000000          7000000  ...                        0.00   \n",
       "2         14000000          7000000  ...                       27.02   \n",
       "3         14000000          7000000  ...                        0.00   \n",
       "4         14000000          7000000  ...                        0.00   \n",
       "5         14000000          7000000  ...                        2.96   \n",
       "6         14000000          7000000  ...                       32.73   \n",
       "\n",
       "  graphQtdReceitaFinOutros graphVrReceitaFinOutros graphPercentFinOutros  \\\n",
       "0                        4                  301.15                  0.60   \n",
       "1                        1                 1000.00                100.00   \n",
       "2                        0                    0.00                  0.00   \n",
       "3                        1                 1276.00                  1.44   \n",
       "4                        0                    0.00                  0.00   \n",
       "5                      237              2413316.62                 32.43   \n",
       "6                       74               424999.98                  8.23   \n",
       "\n",
       "  graphQtdReceitaFinFefc graphVrReceitaFinFefc graphPercentFinFefc  \\\n",
       "0                      1              20000.00               39.76   \n",
       "1                      0                  0.00                0.00   \n",
       "2                      5            2471500.00               72.98   \n",
       "3                      4              87565.87               98.56   \n",
       "4                      0                  0.00                0.00   \n",
       "5                     37            4809460.00               64.62   \n",
       "6                      6            3050000.00               59.04   \n",
       "\n",
       "  concentracaoDespesasR  rankingDoadoresR rankingFornecedoresR  \n",
       "0              50301.15          50301.15              38950.0  \n",
       "1               1500.00           1500.00                990.0  \n",
       "2            3379195.35        3386600.00            3195318.0  \n",
       "3             112758.95         113141.87              44608.7  \n",
       "4               1350.00           1350.00                  0.0  \n",
       "5            7478760.99        3602239.95            2076120.0  \n",
       "6            6347359.74        4781000.00            2270080.0  \n",
       "\n",
       "[7 rows x 87 columns]"
      ]
     },
     "execution_count": 46,
     "metadata": {},
     "output_type": "execute_result"
    }
   ],
   "source": [
    "df = to_df_from_list_of_objs_sorted(ultimate_data)\n",
    "df"
   ]
  },
  {
   "cell_type": "code",
   "execution_count": 52,
   "id": "91ab6932",
   "metadata": {
    "ExecuteTime": {
     "end_time": "2022-04-22T00:35:08.430906Z",
     "start_time": "2022-04-22T00:35:08.420914Z"
    }
   },
   "outputs": [],
   "source": [
    "df.to_csv('all_governors_from_tse.csv', index=False, sep=';', encoding='iso-8859-1')"
   ]
  }
 ],
 "metadata": {
  "kernelspec": {
   "display_name": "Python 3 (ipykernel)",
   "language": "python",
   "name": "python3"
  },
  "language_info": {
   "codemirror_mode": {
    "name": "ipython",
    "version": 3
   },
   "file_extension": ".py",
   "mimetype": "text/x-python",
   "name": "python",
   "nbconvert_exporter": "python",
   "pygments_lexer": "ipython3",
   "version": "3.10.4"
  },
  "toc": {
   "base_numbering": 1,
   "nav_menu": {},
   "number_sections": true,
   "sideBar": true,
   "skip_h1_title": false,
   "title_cell": "Table of Contents",
   "title_sidebar": "Contents",
   "toc_cell": false,
   "toc_position": {},
   "toc_section_display": true,
   "toc_window_display": false
  },
  "varInspector": {
   "cols": {
    "lenName": 16,
    "lenType": 16,
    "lenVar": 40
   },
   "kernels_config": {
    "python": {
     "delete_cmd_postfix": "",
     "delete_cmd_prefix": "del ",
     "library": "var_list.py",
     "varRefreshCmd": "print(var_dic_list())"
    },
    "r": {
     "delete_cmd_postfix": ") ",
     "delete_cmd_prefix": "rm(",
     "library": "var_list.r",
     "varRefreshCmd": "cat(var_dic_list()) "
    }
   },
   "types_to_exclude": [
    "module",
    "function",
    "builtin_function_or_method",
    "instance",
    "_Feature"
   ],
   "window_display": false
  }
 },
 "nbformat": 4,
 "nbformat_minor": 5
}
