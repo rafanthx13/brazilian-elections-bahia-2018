{
 "cells": [
  {
   "cell_type": "markdown",
   "id": "90c58674",
   "metadata": {},
   "source": [
    "# WebSraping Candidatos Governadores Bahai 208\n",
    "\n",
    "**Objetivo**: Gerar `.csv` de todos os dados de governadores apartir de 3 fontes\n",
    "+ tse\n",
    "+ estadao\n",
    "+ gazeta do povo"
   ]
  },
  {
   "cell_type": "markdown",
   "id": "4dd075c7",
   "metadata": {},
   "source": [
    "# Import and Constants"
   ]
  },
  {
   "cell_type": "code",
   "execution_count": 1,
   "id": "534d6594",
   "metadata": {
    "ExecuteTime": {
     "end_time": "2022-04-21T18:11:24.706352Z",
     "start_time": "2022-04-21T18:11:22.808536Z"
    }
   },
   "outputs": [],
   "source": [
    "import requests\n",
    "from bs4 import BeautifulSoup\n",
    "import pandas as pd\n",
    "import os "
   ]
  },
  {
   "cell_type": "code",
   "execution_count": null,
   "id": "1e7a793c",
   "metadata": {},
   "outputs": [],
   "source": []
  },
  {
   "cell_type": "markdown",
   "id": "f60dc339",
   "metadata": {},
   "source": [
    "# One Governador\n",
    "\n",
    "Será reunido os dados de um único candidato a governador **1 Turno** ``João Henrique Durval Carneiro - PTB 28``"
   ]
  },
  {
   "cell_type": "markdown",
   "id": "7b1afcda",
   "metadata": {},
   "source": [
    "## TSE Data"
   ]
  },
  {
   "cell_type": "code",
   "execution_count": 9,
   "id": "fc602b5f",
   "metadata": {
    "ExecuteTime": {
     "end_time": "2022-04-21T18:24:38.208411Z",
     "start_time": "2022-04-21T18:24:38.189425Z"
    }
   },
   "outputs": [],
   "source": [
    "tse_url_1 = 'https://divulgacandcontas.tse.jus.br/divulga/rest/v1/candidatura/buscar/2018/BA/2022802018/candidato/50000622082'\n",
    "tse_url_2 = 'https://divulgacandcontas.tse.jus.br/divulga/rest/v1/prestador/consulta/2022802018/2018/BA/3/28/28/50000622082'"
   ]
  },
  {
   "cell_type": "code",
   "execution_count": 10,
   "id": "8d16e15e",
   "metadata": {
    "ExecuteTime": {
     "end_time": "2022-04-21T18:24:48.068999Z",
     "start_time": "2022-04-21T18:24:47.517341Z"
    },
    "scrolled": true
   },
   "outputs": [],
   "source": [
    "import requests\n",
    "response = requests.get(tse_url_1)\n"
   ]
  },
  {
   "cell_type": "code",
   "execution_count": null,
   "id": "e143e682",
   "metadata": {},
   "outputs": [],
   "source": []
  },
  {
   "cell_type": "code",
   "execution_count": 17,
   "id": "5214a138",
   "metadata": {
    "ExecuteTime": {
     "end_time": "2022-04-21T18:39:35.425921Z",
     "start_time": "2022-04-21T18:39:35.413924Z"
    }
   },
   "outputs": [],
   "source": [
    "# print(response.json())"
   ]
  },
  {
   "cell_type": "code",
   "execution_count": 6,
   "id": "9a3ef618",
   "metadata": {
    "ExecuteTime": {
     "end_time": "2022-04-21T18:17:52.401501Z",
     "start_time": "2022-04-21T18:17:52.385514Z"
    },
    "scrolled": false
   },
   "outputs": [
    {
     "data": {
      "text/plain": [
       "dict"
      ]
     },
     "execution_count": 6,
     "metadata": {},
     "output_type": "execute_result"
    }
   ],
   "source": [
    "tse1 = response.json() ## dict\n",
    "type(tse1)"
   ]
  },
  {
   "cell_type": "code",
   "execution_count": 14,
   "id": "5987226e",
   "metadata": {
    "ExecuteTime": {
     "end_time": "2022-04-21T18:37:35.359975Z",
     "start_time": "2022-04-21T18:37:35.344349Z"
    }
   },
   "outputs": [],
   "source": [
    "def filter_dict_deep_by_keys(adict, list_keys):\n",
    "    \"\"\"\n",
    "    Goal: Filter some Keys of dict even his keys is a sub.key\n",
    "    BR: Filtrar seomente alguns atributos do JSON, mesmo que seja um Objeto dentro de outro\n",
    "    Baseado em: https://thispointer.com/python-filter-a-dictionary-by-conditions-on-keys-or-values/\n",
    "    \"\"\"\n",
    "    newDict = dict()\n",
    "    for (key, value) in adict.items():\n",
    "        if key in list_keys:\n",
    "            newDict[key] = value\n",
    "    return newDict            "
   ]
  },
  {
   "cell_type": "markdown",
   "id": "4bf318c5",
   "metadata": {},
   "source": [
    "use https://jsonformatter.org/json-viewer para ver os dados"
   ]
  },
  {
   "cell_type": "code",
   "execution_count": 18,
   "id": "08bf4f3a",
   "metadata": {
    "ExecuteTime": {
     "end_time": "2022-04-21T18:43:22.109087Z",
     "start_time": "2022-04-21T18:43:22.095097Z"
    }
   },
   "outputs": [],
   "source": [
    "list_governador_keys_tse1 = \"\"\"\n",
    "    id\n",
    "    nomeUrna\n",
    "    numero\n",
    "    nomeCompleto\n",
    "    descricaoSexo\n",
    "    descricaoCorRaca\n",
    "    grauInstrucao\n",
    "    ocupacao\n",
    "    gastoCampanha1T\n",
    "    gastoCampanha2T\n",
    "    sgUfNascimento\n",
    "    nomeMunicipioNascimento\n",
    "    localCandidatura\n",
    "    fotoUrl\n",
    "    descricaoTotalizacao\n",
    "    nomeColigacao\n",
    "    composicaoColigacao\n",
    "    cargo\n",
    "    bens\n",
    "    partido\n",
    "    descricaoNaturalidade\n",
    "\"\"\""
   ]
  },
  {
   "cell_type": "code",
   "execution_count": null,
   "id": "bcac9484",
   "metadata": {},
   "outputs": [],
   "source": [
    "list_governador_keys_tse2 = \"\"\"\n",
    "    nomePartido\n",
    "    siglaPartido\n",
    "    nrCandidato\n",
    "    despesas\n",
    "    concentracaoDespesas\n",
    "    rankingDoadores\n",
    "    rankingFornecedores\n",
    "    dividaCampanha\n",
    "    sobraFinanceira\n",
    "\"\"\""
   ]
  },
  {
   "cell_type": "code",
   "execution_count": 12,
   "id": "351e0647",
   "metadata": {
    "ExecuteTime": {
     "end_time": "2022-04-21T18:30:26.922525Z",
     "start_time": "2022-04-21T18:30:26.907539Z"
    },
    "scrolled": false
   },
   "outputs": [],
   "source": [
    "import json\n",
    "# A dictionary of student names and their score\n",
    "student_score = {   'Ritika': 5,\n",
    "                    'Sam': 7, \n",
    "                    'John': 10, \n",
    "                    'Aadi': 8}\n",
    "# Print contents of dict in json like format\n",
    "#print(json.dumps(tse1, indent=4))"
   ]
  },
  {
   "cell_type": "markdown",
   "id": "e6e85f0b",
   "metadata": {},
   "source": [
    "## Gazeta do Povo"
   ]
  },
  {
   "cell_type": "code",
   "execution_count": 19,
   "id": "a957276a",
   "metadata": {
    "ExecuteTime": {
     "end_time": "2022-04-21T18:50:48.262540Z",
     "start_time": "2022-04-21T18:50:48.243551Z"
    }
   },
   "outputs": [],
   "source": [
    "url_gazeta = 'https://especiais.gazetadopovo.com.br/eleicoes/2018/candidatos/ba/governador/joao-henrique-durval-carneiro/'"
   ]
  },
  {
   "cell_type": "code",
   "execution_count": 26,
   "id": "0eeac357",
   "metadata": {
    "ExecuteTime": {
     "end_time": "2022-04-21T19:32:12.848572Z",
     "start_time": "2022-04-21T19:32:12.096808Z"
    }
   },
   "outputs": [],
   "source": [
    "import requests\n",
    "import re\n",
    "from bs4 import BeautifulSoup\n",
    "import pandas as pd\n",
    "import os \n",
    "response = requests.get(url_gazeta)\n",
    "if(response.status_code != 200):\n",
    "    print(url, 'Erro Code')\n",
    "    quit()\n",
    "soup_page = BeautifulSoup(response.text, 'html.parser')"
   ]
  },
  {
   "cell_type": "code",
   "execution_count": 39,
   "id": "4a16a63b",
   "metadata": {
    "ExecuteTime": {
     "end_time": "2022-04-21T19:36:28.592931Z",
     "start_time": "2022-04-21T19:36:28.573943Z"
    }
   },
   "outputs": [],
   "source": [
    "# <section class=\"tabela-candidato\">\n",
    "section_html = soup_page.find('section', {\"class\": \"tabela-candidato\"})\n",
    "\n",
    "section_desc = section_html.find('p').get_text()\n",
    "section_winn = section_html.find('span', {\"class\": \"label label-default\"}).get_text()\n",
    "sextion_link_cityes = section_html.find_all('tr')[-1].td.a['href']\n"
   ]
  },
  {
   "cell_type": "code",
   "execution_count": 40,
   "id": "fc5bd9cf",
   "metadata": {
    "ExecuteTime": {
     "end_time": "2022-04-21T19:36:28.934615Z",
     "start_time": "2022-04-21T19:36:28.919426Z"
    },
    "scrolled": true
   },
   "outputs": [
    {
     "name": "stdout",
     "output_type": "stream",
     "text": [
      "Candidato ao cargo de Governador na Bahia pelo PRTB, João Henrique Durval Carneiro obteve 38.960 votos totalizados (0,58% dos votos válidos) mas não foi eleito nas Eleições 2018.\n",
      "\n",
      "Não foi eleito\n",
      "\n",
      "https://especiais.gazetadopovo.com.br/eleicoes/2018/resultados/municipios-bahia/governador-candidato-joao-henrique-durval-carneiro/\n"
     ]
    }
   ],
   "source": [
    "print(section_desc)\n",
    "print()\n",
    "print(section_winn)\n",
    "print()\n",
    "print(sextion_link_cityes)"
   ]
  },
  {
   "cell_type": "code",
   "execution_count": null,
   "id": "51f0013d",
   "metadata": {},
   "outputs": [],
   "source": [
    "# <div class=\"content-sidebar bg-cinza-claro\">"
   ]
  },
  {
   "cell_type": "code",
   "execution_count": 43,
   "id": "1c170257",
   "metadata": {
    "ExecuteTime": {
     "end_time": "2022-04-21T19:43:55.576985Z",
     "start_time": "2022-04-21T19:43:55.554993Z"
    }
   },
   "outputs": [],
   "source": [
    "section_html_bio = soup_page.find('div', {\"class\": \"content-sidebar bg-cinza-claro\"})\n",
    "\n",
    "section_bio_ultra_desc = section_html_bio.find(\n",
    "    'div', {'class': 'bio'}).find('div', {'class': 'text'}).find('p').get_text()\n",
    "\n",
    "# <table class=\"table\">\n",
    "section_table = section_html_bio.find('table')\n",
    "\n",
    "bio_dict = dict()\n",
    "section_bio_tr = section_table.find_all('tr')\n",
    "for el in section_bio_tr:\n",
    "    bio_dict[el.th.get_text()] = el.td.get_text()"
   ]
  },
  {
   "cell_type": "code",
   "execution_count": 44,
   "id": "74f2bb9b",
   "metadata": {
    "ExecuteTime": {
     "end_time": "2022-04-21T19:43:56.333655Z",
     "start_time": "2022-04-21T19:43:56.314665Z"
    }
   },
   "outputs": [
    {
     "name": "stdout",
     "output_type": "stream",
     "text": [
      "João Henrique de Barradas Carneiro é candidato ao governo da Bahia pelo PRTB. Ele já foi vereador de Salvador (1989-1994), deputado estadual pela Bahia (1995-2004) e prefeito de Salvador. Como prefeito, foi eleito em 2004 e depois reeleito em 2008. É filho do ex-governador baiano João Durval Carneiro.  É economista formado pela Universidade Federal da Bahia (UFBA) e tem pós-graduação em Desenvolvimento Econômico pela Université du Québec à Montréal, do Canadá. \n",
      "\n",
      "{'Nome na urna:': 'João Henrique Durval Carneiro', 'Sexo:': 'Masculino', 'Idade:': '62 anos', 'Data de nascimento:': '19/06/1959', 'Ocupação:': 'Economista', 'Grau de instrução:': 'Superior completo', 'Estado Civil:': 'Casado(a)', 'Cor/Raça:': 'Parda', 'Município de nascimento:': 'Feira de Santana-BA'}\n"
     ]
    }
   ],
   "source": [
    "print(section_bio_ultra_desc)\n",
    "print()\n",
    "print(bio_dict)"
   ]
  },
  {
   "cell_type": "code",
   "execution_count": null,
   "id": "2c2ecf30",
   "metadata": {},
   "outputs": [],
   "source": [
    "# <div class=\"bio\">\n",
    "#                 <div class=\"text\">\n",
    "#                   <p>João Henrique de Barradas Carneiro é candidato ao governo da Bahia pelo PRTB. Ele já foi vereador de Salvador (1989-1994), deputado estadual pela Bahia (1995-2004) e prefeito de Salvador. Como prefeito, foi eleito em 2004 e depois reeleito em 2008. É filho do ex-governador baiano João Durval Carneiro. É economista formado pela Universidade Federal da Bahia (UFBA) e tem pós-graduação em Desenvolvimento Econômico pela Université du Québec à Montréal, do Canadá. </p>\n",
    "#                 </div>\n",
    "#               </div>"
   ]
  },
  {
   "cell_type": "markdown",
   "id": "0a59a158",
   "metadata": {},
   "source": [
    "## Dados da cidade"
   ]
  },
  {
   "cell_type": "code",
   "execution_count": 45,
   "id": "7781a765",
   "metadata": {
    "ExecuteTime": {
     "end_time": "2022-04-21T19:55:36.238448Z",
     "start_time": "2022-04-21T19:55:36.227454Z"
    },
    "scrolled": true
   },
   "outputs": [
    {
     "data": {
      "text/plain": [
       "'https://especiais.gazetadopovo.com.br/eleicoes/2018/resultados/municipios-bahia/governador-candidato-joao-henrique-durval-carneiro/'"
      ]
     },
     "execution_count": 45,
     "metadata": {},
     "output_type": "execute_result"
    }
   ],
   "source": [
    "sextion_link_cityes"
   ]
  },
  {
   "cell_type": "code",
   "execution_count": 46,
   "id": "5ff7847c",
   "metadata": {
    "ExecuteTime": {
     "end_time": "2022-04-21T19:56:06.837661Z",
     "start_time": "2022-04-21T19:56:05.299937Z"
    }
   },
   "outputs": [],
   "source": [
    "response = requests.get(sextion_link_cityes)\n",
    "if(response.status_code != 200):\n",
    "    print(url, 'Erro Code')\n",
    "    quit()\n",
    "soup_page_cities = BeautifulSoup(response.text, 'html.parser')"
   ]
  },
  {
   "cell_type": "code",
   "execution_count": 48,
   "id": "9bfa11ab",
   "metadata": {
    "ExecuteTime": {
     "end_time": "2022-04-21T19:59:05.637357Z",
     "start_time": "2022-04-21T19:59:05.618369Z"
    }
   },
   "outputs": [],
   "source": [
    "# soup_page_cities"
   ]
  },
  {
   "cell_type": "code",
   "execution_count": null,
   "id": "bb522cd6",
   "metadata": {},
   "outputs": [],
   "source": [
    "#           <tbody>\n",
    "#             <tr>\n",
    "#               <td class=\"candidato\">\n",
    "#                 <a class=\"clearfix\" href=\"https://especiais.gazetadopovo.com.br/eleicoes/2018/resultados/municipios-bahia/mortugaba-ba/governador/\">\n",
    "#                   <div class=\"nome-partido\">\n",
    "#                     <h2 class=\"nome\"> Mortugaba </h2>\n",
    "#                   </div>\n",
    "#                 </a>\n",
    "#               </td>\n",
    "#               <td class=\"votos\">\n",
    "#                 <span class=\"porcentagem\"> 2,65% </span>\n",
    "#                 <span class=\"qtd-votos\">150 votos</span>\n",
    "#               </td>\n",
    "#             </tr>\n",
    "#             <tr>\n",
    "#               <td class=\"candidato\">"
   ]
  },
  {
   "cell_type": "code",
   "execution_count": 53,
   "id": "9f2ef67a",
   "metadata": {
    "ExecuteTime": {
     "end_time": "2022-04-21T20:07:54.733592Z",
     "start_time": "2022-04-21T20:07:54.637435Z"
    }
   },
   "outputs": [
    {
     "name": "stdout",
     "output_type": "stream",
     "text": [
      "city_dict {'name': 'Mortugaba', 'percentage': '2,65%', 'votes': '150'}\n",
      "city_dict {'name': 'Porto Seguro', 'percentage': '2,29%', 'votes': '1.220'}\n",
      "city_dict {'name': 'Luís Eduardo Magalhães', 'percentage': '2,21%', 'votes': '736'}\n",
      "city_dict {'name': 'Nova Viçosa', 'percentage': '2,18%', 'votes': '346'}\n",
      "city_dict {'name': 'Santa Cruz Cabrália', 'percentage': '2,00%', 'votes': '215'}\n",
      "city_dict {'name': 'Eunápolis', 'percentage': '1,99%', 'votes': '980'}\n",
      "city_dict {'name': 'Medeiros Neto', 'percentage': '1,95%', 'votes': '201'}\n",
      "city_dict {'name': 'Mucuri', 'percentage': '1,86%', 'votes': '267'}\n",
      "city_dict {'name': 'Prado', 'percentage': '1,81%', 'votes': '218'}\n",
      "city_dict {'name': 'Vitória da Conquista', 'percentage': '1,35%', 'votes': '2.015'}\n",
      "city_dict {'name': 'Ilhéus', 'percentage': '1,31%', 'votes': '1.015'}\n",
      "city_dict {'name': 'Barreiras', 'percentage': '1,29%', 'votes': '824'}\n",
      "city_dict {'name': 'Juazeiro', 'percentage': '1,28%', 'votes': '1.266'}\n",
      "city_dict {'name': 'Teixeira de Freitas', 'percentage': '1,21%', 'votes': '726'}\n",
      "city_dict {'name': 'Itanhém', 'percentage': '1,20%', 'votes': '104'}\n",
      "city_dict {'name': 'Itagimirim', 'percentage': '1,18%', 'votes': '45'}\n",
      "city_dict {'name': 'Belmonte', 'percentage': '1,13%', 'votes': '101'}\n",
      "city_dict {'name': 'Itabuna', 'percentage': '1,13%', 'votes': '1.054'}\n",
      "city_dict {'name': 'Brumado', 'percentage': '1,10%', 'votes': '354'}\n",
      "city_dict {'name': 'Cipó', 'percentage': '1,07%', 'votes': '88'}\n",
      "city_dict {'name': 'Canavieiras', 'percentage': '1,01%', 'votes': '141'}\n",
      "city_dict {'name': 'Guaratinga', 'percentage': '0,98%', 'votes': '85'}\n",
      "city_dict {'name': 'Itabela', 'percentage': '0,96%', 'votes': '121'}\n",
      "city_dict {'name': 'Itacaré', 'percentage': '0,96%', 'votes': '88'}\n",
      "city_dict {'name': 'Sobradinho', 'percentage': '0,94%', 'votes': '108'}\n",
      "city_dict {'name': 'Caravelas', 'percentage': '0,92%', 'votes': '75'}\n",
      "city_dict {'name': 'Jacaraci', 'percentage': '0,92%', 'votes': '65'}\n",
      "city_dict {'name': 'Ibirapuã', 'percentage': '0,90%', 'votes': '37'}\n",
      "city_dict {'name': 'Correntina', 'percentage': '0,89%', 'votes': '120'}\n",
      "city_dict {'name': 'Feira da Mata', 'percentage': '0,86%', 'votes': '27'}\n",
      "city_dict {'name': 'Salvador', 'percentage': '0,82%', 'votes': '10.131'}\n",
      "city_dict {'name': 'Itaju do Colônia', 'percentage': '0,80%', 'votes': '25'}\n",
      "city_dict {'name': 'Alcobaça', 'percentage': '0,79%', 'votes': '75'}\n",
      "city_dict {'name': 'Camacã', 'percentage': '0,79%', 'votes': '83'}\n",
      "city_dict {'name': 'Paulo Afonso', 'percentage': '0,77%', 'votes': '382'}\n",
      "city_dict {'name': 'Ibicaraí', 'percentage': '0,76%', 'votes': '83'}\n",
      "city_dict {'name': 'Candiba', 'percentage': '0,75%', 'votes': '53'}\n",
      "city_dict {'name': 'Canápolis', 'percentage': '0,74%', 'votes': '38'}\n",
      "city_dict {'name': 'Poções', 'percentage': '0,74%', 'votes': '152'}\n",
      "city_dict {'name': 'Maiquinique', 'percentage': '0,73%', 'votes': '30'}\n",
      "city_dict {'name': 'Ibirataia', 'percentage': '0,70%', 'votes': '63'}\n",
      "city_dict {'name': 'Itamaraju', 'percentage': '0,70%', 'votes': '184'}\n",
      "city_dict {'name': 'Guanambi', 'percentage': '0,69%', 'votes': '295'}\n",
      "city_dict {'name': 'Itarantim', 'percentage': '0,68%', 'votes': '56'}\n",
      "city_dict {'name': 'Pindaí', 'percentage': '0,68%', 'votes': '55'}\n",
      "city_dict {'name': 'Tremedal', 'percentage': '0,68%', 'votes': '58'}\n",
      "city_dict {'name': 'Vera Cruz', 'percentage': '0,68%', 'votes': '149'}\n",
      "city_dict {'name': 'São José da Vitória', 'percentage': '0,67%', 'votes': '19'}\n",
      "city_dict {'name': 'Anagé', 'percentage': '0,66%', 'votes': '74'}\n",
      "city_dict {'name': 'Jussiape', 'percentage': '0,66%', 'votes': '25'}\n",
      "city_dict {'name': 'Arataca', 'percentage': '0,65%', 'votes': '26'}\n",
      "city_dict {'name': 'Caetité', 'percentage': '0,65%', 'votes': '164'}\n",
      "city_dict {'name': 'Catu', 'percentage': '0,65%', 'votes': '163'}\n",
      "city_dict {'name': 'Itapetinga', 'percentage': '0,65%', 'votes': '180'}\n",
      "city_dict {'name': 'Ituaçu', 'percentage': '0,65%', 'votes': '55'}\n",
      "city_dict {'name': 'Condeúba', 'percentage': '0,63%', 'votes': '52'}\n",
      "city_dict {'name': 'Mata de São João', 'percentage': '0,63%', 'votes': '153'}\n",
      "city_dict {'name': 'Planalto', 'percentage': '0,63%', 'votes': '74'}\n",
      "city_dict {'name': 'Cairu', 'percentage': '0,62%', 'votes': '53'}\n",
      "city_dict {'name': 'Formosa do Rio Preto', 'percentage': '0,62%', 'votes': '69'}\n",
      "city_dict {'name': 'Lauro de Freitas', 'percentage': '0,62%', 'votes': '537'}\n",
      "city_dict {'name': 'Sítio do Mato', 'percentage': '0,62%', 'votes': '38'}\n",
      "city_dict {'name': 'Ibicoara', 'percentage': '0,60%', 'votes': '47'}\n",
      "city_dict {'name': 'Santana', 'percentage': '0,60%', 'votes': '72'}\n",
      "city_dict {'name': 'Coribe', 'percentage': '0,59%', 'votes': '44'}\n",
      "city_dict {'name': 'Cristópolis', 'percentage': '0,59%', 'votes': '44'}\n",
      "city_dict {'name': 'Casa Nova', 'percentage': '0,58%', 'votes': '194'}\n",
      "city_dict {'name': \"Dias d'Ávila\", 'percentage': '0,58%', 'votes': '186'}\n",
      "city_dict {'name': 'Itambé', 'percentage': '0,58%', 'votes': '61'}\n",
      "city_dict {'name': 'Piripá', 'percentage': '0,58%', 'votes': '28'}\n",
      "city_dict {'name': 'Urandi', 'percentage': '0,58%', 'votes': '46'}\n",
      "city_dict {'name': 'Barra do Choça', 'percentage': '0,57%', 'votes': '96'}\n",
      "city_dict {'name': 'Senhor do Bonfim', 'percentage': '0,57%', 'votes': '177'}\n",
      "city_dict {'name': 'Una', 'percentage': '0,57%', 'votes': '52'}\n",
      "city_dict {'name': 'Piatã', 'percentage': '0,56%', 'votes': '53'}\n",
      "city_dict {'name': 'Conde', 'percentage': '0,55%', 'votes': '59'}\n",
      "city_dict {'name': 'Alagoinhas', 'percentage': '0,54%', 'votes': '359'}\n",
      "city_dict {'name': 'Ibirapitanga', 'percentage': '0,54%', 'votes': '48'}\n",
      "city_dict {'name': 'Irecê', 'percentage': '0,54%', 'votes': '173'}\n",
      "city_dict {'name': 'Jequié', 'percentage': '0,54%', 'votes': '401'}\n",
      "city_dict {'name': 'Maraú', 'percentage': '0,54%', 'votes': '40'}\n",
      "city_dict {'name': 'São Félix do Coribe', 'percentage': '0,54%', 'votes': '36'}\n",
      "city_dict {'name': 'Valença', 'percentage': '0,54%', 'votes': '213'}\n",
      "city_dict {'name': 'Pau Brasil', 'percentage': '0,53%', 'votes': '24'}\n",
      "city_dict {'name': 'Simões Filho', 'percentage': '0,53%', 'votes': '280'}\n",
      "city_dict {'name': 'Aracatu', 'percentage': '0,52%', 'votes': '43'}\n",
      "city_dict {'name': 'Bom Jesus da Lapa', 'percentage': '0,52%', 'votes': '146'}\n",
      "city_dict {'name': 'Camaçari', 'percentage': '0,52%', 'votes': '596'}\n",
      "city_dict {'name': 'Itapebi', 'percentage': '0,52%', 'votes': '26'}\n",
      "city_dict {'name': 'Vereda', 'percentage': '0,52%', 'votes': '19'}\n",
      "city_dict {'name': 'Barro Preto', 'percentage': '0,51%', 'votes': '18'}\n",
      "city_dict {'name': 'Caraíbas', 'percentage': '0,51%', 'votes': '26'}\n",
      "city_dict {'name': 'Feira de Santana', 'percentage': '0,51%', 'votes': '1.463'}\n",
      "city_dict {'name': 'Ubaitaba', 'percentage': '0,51%', 'votes': '45'}\n",
      "city_dict {'name': 'Angical', 'percentage': '0,50%', 'votes': '42'}\n",
      "city_dict {'name': 'Caatiba', 'percentage': '0,50%', 'votes': '21'}\n",
      "city_dict {'name': 'Licínio de Almeida', 'percentage': '0,50%', 'votes': '31'}\n",
      "city_dict {'name': 'Macarani', 'percentage': '0,50%', 'votes': '33'}\n",
      "city_dict {'name': 'Nilo Peçanha', 'percentage': '0,50%', 'votes': '27'}\n",
      "city_dict {'name': 'Pojuca', 'percentage': '0,50%', 'votes': '81'}\n",
      "city_dict {'name': 'Ipiaú', 'percentage': '0,48%', 'votes': '90'}\n",
      "city_dict {'name': 'Cafarnaum', 'percentage': '0,47%', 'votes': '39'}\n",
      "city_dict {'name': 'Coaraci', 'percentage': '0,47%', 'votes': '45'}\n",
      "city_dict {'name': 'João Dourado', 'percentage': '0,47%', 'votes': '54'}\n",
      "city_dict {'name': 'Lajedão', 'percentage': '0,47%', 'votes': '13'}\n",
      "city_dict {'name': 'Cândido Sales', 'percentage': '0,46%', 'votes': '53'}\n",
      "city_dict {'name': 'Itororó', 'percentage': '0,46%', 'votes': '42'}\n",
      "city_dict {'name': 'Wenceslau Guimarães', 'percentage': '0,46%', 'votes': '47'}\n",
      "city_dict {'name': 'Ipupiara', 'percentage': '0,45%', 'votes': '23'}\n",
      "city_dict {'name': 'Livramento de Nossa Senhora', 'percentage': '0,45%', 'votes': '92'}\n",
      "city_dict {'name': 'Barra da Estiva', 'percentage': '0,44%', 'votes': '53'}\n",
      "city_dict {'name': 'Itapé', 'percentage': '0,44%', 'votes': '24'}\n",
      "city_dict {'name': 'Rio do Pires', 'percentage': '0,44%', 'votes': '23'}\n",
      "city_dict {'name': 'Dom Basílio', 'percentage': '0,43%', 'votes': '28'}\n",
      "city_dict {'name': 'Iuiu', 'percentage': '0,43%', 'votes': '24'}\n",
      "city_dict {'name': 'Muritiba', 'percentage': '0,43%', 'votes': '62'}\n",
      "city_dict {'name': 'Palmas de Monte Alto', 'percentage': '0,43%', 'votes': '48'}\n",
      "city_dict {'name': 'Tanque Novo', 'percentage': '0,43%', 'votes': '35'}\n",
      "city_dict {'name': 'Buerarema', 'percentage': '0,42%', 'votes': '31'}\n",
      "city_dict {'name': 'Camamu', 'percentage': '0,42%', 'votes': '57'}\n",
      "city_dict {'name': 'Érico Cardoso', 'percentage': '0,42%', 'votes': '18'}\n",
      "city_dict {'name': 'Botuporã', 'percentage': '0,41%', 'votes': '24'}\n",
      "city_dict {'name': 'Cotegipe', 'percentage': '0,41%', 'votes': '30'}\n",
      "city_dict {'name': 'Santa Maria da Vitória', 'percentage': '0,41%', 'votes': '70'}\n",
      "city_dict {'name': 'São Felipe', 'percentage': '0,41%', 'votes': '44'}\n",
      "city_dict {'name': 'Contendas do Sincorá', 'percentage': '0,40%', 'votes': '10'}\n",
      "city_dict {'name': 'Cordeiros', 'percentage': '0,40%', 'votes': '15'}\n",
      "city_dict {'name': 'Esplanada', 'percentage': '0,40%', 'votes': '61'}\n",
      "city_dict {'name': 'Itiruçu', 'percentage': '0,40%', 'votes': '20'}\n",
      "city_dict {'name': 'Ituberá', 'percentage': '0,40%', 'votes': '43'}\n",
      "city_dict {'name': 'Malhada de Pedras', 'percentage': '0,40%', 'votes': '19'}\n",
      "city_dict {'name': 'Abaíra', 'percentage': '0,39%', 'votes': '16'}\n",
      "city_dict {'name': 'Ibipitanga', 'percentage': '0,39%', 'votes': '29'}\n",
      "city_dict {'name': 'Remanso', 'percentage': '0,39%', 'votes': '75'}\n",
      "city_dict {'name': 'Rio Real', 'percentage': '0,39%', 'votes': '66'}\n",
      "city_dict {'name': 'Santa Rita de Cássia', 'percentage': '0,39%', 'votes': '49'}\n",
      "city_dict {'name': 'Xique-Xique', 'percentage': '0,39%', 'votes': '84'}\n",
      "city_dict {'name': 'Almadina', 'percentage': '0,38%', 'votes': '11'}\n",
      "city_dict {'name': 'Aratuípe', 'percentage': '0,38%', 'votes': '19'}\n",
      "city_dict {'name': 'Boninal', 'percentage': '0,38%', 'votes': '23'}\n",
      "city_dict {'name': 'Jaguarari', 'percentage': '0,38%', 'votes': '53'}\n",
      "city_dict {'name': 'Santa Luzia', 'percentage': '0,38%', 'votes': '18'}\n",
      "city_dict {'name': 'Sebastião Laranjeiras', 'percentage': '0,38%', 'votes': '16'}\n",
      "city_dict {'name': 'Tabocas do Brejo Velho', 'percentage': '0,38%', 'votes': '23'}\n",
      "city_dict {'name': 'Entre Rios', 'percentage': '0,37%', 'votes': '68'}\n",
      "city_dict {'name': 'Rio de Contas', 'percentage': '0,37%', 'votes': '27'}\n",
      "city_dict {'name': 'Cachoeira', 'percentage': '0,36%', 'votes': '60'}\n",
      "city_dict {'name': 'Caturama', 'percentage': '0,36%', 'votes': '16'}\n",
      "city_dict {'name': 'Dom Macedo Costa', 'percentage': '0,36%', 'votes': '10'}\n",
      "city_dict {'name': 'Madre de Deus', 'percentage': '0,36%', 'votes': '40'}\n",
      "city_dict {'name': 'Rodelas', 'percentage': '0,36%', 'votes': '16'}\n",
      "city_dict {'name': 'São Desidério', 'percentage': '0,36%', 'votes': '55'}\n",
      "city_dict {'name': 'Wanderley', 'percentage': '0,36%', 'votes': '25'}\n",
      "city_dict {'name': 'Itagibá', 'percentage': '0,35%', 'votes': '24'}\n",
      "city_dict {'name': 'Itanagra', 'percentage': '0,35%', 'votes': '13'}\n",
      "city_dict {'name': 'Mulungu do Morro', 'percentage': '0,35%', 'votes': '24'}\n",
      "city_dict {'name': 'Presidente Tancredo Neves', 'percentage': '0,35%', 'votes': '42'}\n",
      "city_dict {'name': 'Rio do Antônio', 'percentage': '0,35%', 'votes': '23'}\n",
      "city_dict {'name': 'Amargosa', 'percentage': '0,34%', 'votes': '55'}\n",
      "city_dict {'name': 'Curaçá', 'percentage': '0,34%', 'votes': '57'}\n",
      "city_dict {'name': 'Ibicuí', 'percentage': '0,34%', 'votes': '22'}\n",
      "city_dict {'name': 'Malhada', 'percentage': '0,34%', 'votes': '29'}\n",
      "city_dict {'name': 'Maracás', 'percentage': '0,34%', 'votes': '41'}\n",
      "city_dict {'name': 'Mascote', 'percentage': '0,34%', 'votes': '18'}\n",
      "city_dict {'name': 'Santa Cruz da Vitória', 'percentage': '0,34%', 'votes': '8'}\n",
      "city_dict {'name': 'Santo Antônio de Jesus', 'percentage': '0,34%', 'votes': '149'}\n",
      "city_dict {'name': 'Serra do Ramalho', 'percentage': '0,34%', 'votes': '48'}\n",
      "city_dict {'name': 'Aurelino Leal', 'percentage': '0,33%', 'votes': '20'}\n",
      "city_dict {'name': 'Belo Campo', 'percentage': '0,33%', 'votes': '29'}\n",
      "city_dict {'name': 'Ibotirama', 'percentage': '0,33%', 'votes': '42'}\n",
      "city_dict {'name': 'Nova Ibiá', 'percentage': '0,33%', 'votes': '10'}\n",
      "city_dict {'name': 'Riachão das Neves', 'percentage': '0,33%', 'votes': '39'}\n",
      "city_dict {'name': 'Andaraí', 'percentage': '0,32%', 'votes': '20'}\n",
      "city_dict {'name': 'Boa Nova', 'percentage': '0,32%', 'votes': '22'}\n",
      "city_dict {'name': 'Canarana', 'percentage': '0,32%', 'votes': '39'}\n",
      "city_dict {'name': 'Carinhanha', 'percentage': '0,32%', 'votes': '43'}\n",
      "city_dict {'name': 'Encruzilhada', 'percentage': '0,32%', 'votes': '29'}\n",
      "city_dict {'name': 'Mansidão', 'percentage': '0,32%', 'votes': '18'}\n",
      "city_dict {'name': 'Barra', 'percentage': '0,31%', 'votes': '72'}\n",
      "city_dict {'name': 'Candeias', 'percentage': '0,31%', 'votes': '135'}\n",
      "city_dict {'name': 'Igrapiúna', 'percentage': '0,31%', 'votes': '17'}\n",
      "city_dict {'name': 'Jaborandi', 'percentage': '0,31%', 'votes': '15'}\n",
      "city_dict {'name': 'Milagres', 'percentage': '0,31%', 'votes': '17'}\n",
      "city_dict {'name': 'Anguera', 'percentage': '0,30%', 'votes': '18'}\n",
      "city_dict {'name': 'Aramari', 'percentage': '0,30%', 'votes': '18'}\n",
      "city_dict {'name': 'Central', 'percentage': '0,30%', 'votes': '26'}\n",
      "city_dict {'name': 'Cruz das Almas', 'percentage': '0,30%', 'votes': '96'}\n",
      "city_dict {'name': 'Gongogi', 'percentage': '0,30%', 'votes': '9'}\n",
      "city_dict {'name': 'Itaparica', 'percentage': '0,30%', 'votes': '35'}\n",
      "city_dict {'name': 'Miguel Calmon', 'percentage': '0,30%', 'votes': '38'}\n",
      "city_dict {'name': 'Riacho de Santana', 'percentage': '0,30%', 'votes': '44'}\n",
      "city_dict {'name': 'Ubatã', 'percentage': '0,30%', 'votes': '23'}\n",
      "city_dict {'name': 'Inhambupe', 'percentage': '0,29%', 'votes': '46'}\n",
      "city_dict {'name': 'Jacobina', 'percentage': '0,29%', 'votes': '106'}\n",
      "city_dict {'name': 'Paripiranga', 'percentage': '0,29%', 'votes': '41'}\n",
      "city_dict {'name': 'Pilão Arcado', 'percentage': '0,29%', 'votes': '51'}\n",
      "city_dict {'name': 'Piritiba', 'percentage': '0,29%', 'votes': '25'}\n",
      "city_dict {'name': 'Ponto Novo', 'percentage': '0,29%', 'votes': '21'}\n",
      "city_dict {'name': 'Sento Sé', 'percentage': '0,29%', 'votes': '53'}\n",
      "city_dict {'name': 'Serrolândia', 'percentage': '0,29%', 'votes': '18'}\n",
      "city_dict {'name': 'Utinga', 'percentage': '0,29%', 'votes': '23'}\n",
      "city_dict {'name': 'Capim Grosso', 'percentage': '0,28%', 'votes': '38'}\n",
      "city_dict {'name': 'Floresta Azul', 'percentage': '0,28%', 'votes': '13'}\n",
      "city_dict {'name': 'Salinas da Margarida', 'percentage': '0,28%', 'votes': '24'}\n",
      "city_dict {'name': 'São Gabriel', 'percentage': '0,28%', 'votes': '31'}\n",
      "city_dict {'name': 'Canudos', 'percentage': '0,27%', 'votes': '22'}\n",
      "city_dict {'name': 'Ichu', 'percentage': '0,27%', 'votes': '10'}\n",
      "city_dict {'name': 'Itapitanga', 'percentage': '0,27%', 'votes': '10'}\n",
      "city_dict {'name': 'Lajedo do Tabocal', 'percentage': '0,27%', 'votes': '10'}\n",
      "city_dict {'name': 'Morro do Chapéu', 'percentage': '0,27%', 'votes': '42'}\n",
      "city_dict {'name': 'Muquém do São Francisco', 'percentage': '0,27%', 'votes': '16'}\n",
      "city_dict {'name': 'Ubaíra', 'percentage': '0,27%', 'votes': '26'}\n",
      "city_dict {'name': 'Brejolândia', 'percentage': '0,26%', 'votes': '12'}\n",
      "city_dict {'name': 'Caem', 'percentage': '0,26%', 'votes': '13'}\n",
      "city_dict {'name': 'Campo Formoso', 'percentage': '0,26%', 'votes': '89'}\n",
      "city_dict {'name': 'Cardeal da Silva', 'percentage': '0,26%', 'votes': '11'}\n",
      "city_dict {'name': 'Fátima', 'percentage': '0,26%', 'votes': '24'}\n",
      "city_dict {'name': 'Itagi', 'percentage': '0,26%', 'votes': '16'}\n",
      "city_dict {'name': 'Itajuípe', 'percentage': '0,26%', 'votes': '26'}\n",
      "city_dict {'name': 'Paratinga', 'percentage': '0,26%', 'votes': '38'}\n",
      "city_dict {'name': 'Ribeira do Pombal', 'percentage': '0,26%', 'votes': '68'}\n",
      "city_dict {'name': 'Santa Brígida', 'percentage': '0,26%', 'votes': '19'}\n",
      "city_dict {'name': 'Uruçuca', 'percentage': '0,26%', 'votes': '27'}\n",
      "city_dict {'name': 'Santa Terezinha', 'percentage': '0,25%', 'votes': '13'}\n",
      "city_dict {'name': 'Sapeaçu', 'percentage': '0,25%', 'votes': '25'}\n",
      "city_dict {'name': 'Tanhaçu', 'percentage': '0,25%', 'votes': '28'}\n",
      "city_dict {'name': 'Taperoá', 'percentage': '0,25%', 'votes': '20'}\n",
      "city_dict {'name': 'Crisópolis', 'percentage': '0,24%', 'votes': '24'}\n",
      "city_dict {'name': 'Itamari', 'percentage': '0,24%', 'votes': '9'}\n",
      "city_dict {'name': 'Jucuruçu', 'percentage': '0,24%', 'votes': '12'}\n",
      "city_dict {'name': 'Macururé', 'percentage': '0,24%', 'votes': '10'}\n",
      "city_dict {'name': 'Nazaré', 'percentage': '0,24%', 'votes': '34'}\n",
      "city_dict {'name': 'Ourolândia', 'percentage': '0,24%', 'votes': '20'}\n",
      "city_dict {'name': 'Palmeiras', 'percentage': '0,24%', 'votes': '11'}\n",
      "city_dict {'name': 'Ribeirão do Largo', 'percentage': '0,24%', 'votes': '12'}\n",
      "city_dict {'name': 'Serra Dourada', 'percentage': '0,24%', 'votes': '21'}\n",
      "city_dict {'name': 'Umburanas', 'percentage': '0,24%', 'votes': '17'}\n",
      "city_dict {'name': 'Barra do Mendes', 'percentage': '0,23%', 'votes': '17'}\n",
      "city_dict {'name': 'Jaguaripe', 'percentage': '0,23%', 'votes': '21'}\n",
      "city_dict {'name': 'Oliveira dos Brejinhos', 'percentage': '0,23%', 'votes': '24'}\n",
      "city_dict {'name': 'Presidente Dutra', 'percentage': '0,23%', 'votes': '18'}\n",
      "city_dict {'name': 'São Francisco do Conde', 'percentage': '0,23%', 'votes': '52'}\n",
      "city_dict {'name': 'Amélia Rodrigues', 'percentage': '0,22%', 'votes': '27'}\n",
      "city_dict {'name': 'Boquira', 'percentage': '0,22%', 'votes': '21'}\n",
      "city_dict {'name': 'Caculé', 'percentage': '0,22%', 'votes': '23'}\n",
      "city_dict {'name': 'Capela do Alto Alegre', 'percentage': '0,22%', 'votes': '12'}\n",
      "city_dict {'name': 'Conceição da Feira', 'percentage': '0,22%', 'votes': '26'}\n",
      "city_dict {'name': 'Conceição do Jacuípe', 'percentage': '0,22%', 'votes': '34'}\n",
      "city_dict {'name': 'Gavião', 'percentage': '0,22%', 'votes': '6'}\n",
      "city_dict {'name': 'Jitaúna', 'percentage': '0,22%', 'votes': '16'}\n",
      "city_dict {'name': 'Presidente Jânio Quadros', 'percentage': '0,22%', 'votes': '13'}\n",
      "city_dict {'name': 'Ribeira do Amparo', 'percentage': '0,22%', 'votes': '16'}\n",
      "city_dict {'name': 'São Gonçalo dos Campos', 'percentage': '0,22%', 'votes': '43'}\n",
      "city_dict {'name': 'São Sebastião do Passé', 'percentage': '0,22%', 'votes': '53'}\n",
      "city_dict {'name': 'Saúde', 'percentage': '0,22%', 'votes': '11'}\n",
      "city_dict {'name': 'Acajutiba', 'percentage': '0,21%', 'votes': '14'}\n",
      "city_dict {'name': 'Antônio Gonçalves', 'percentage': '0,21%', 'votes': '11'}\n",
      "city_dict {'name': 'Candeal', 'percentage': '0,21%', 'votes': '11'}\n",
      "city_dict {'name': 'Coração de Maria', 'percentage': '0,21%', 'votes': '29'}\n",
      "city_dict {'name': 'Dário Meira', 'percentage': '0,21%', 'votes': '10'}\n",
      "city_dict {'name': 'Gandu', 'percentage': '0,21%', 'votes': '28'}\n",
      "city_dict {'name': 'Iraquara', 'percentage': '0,21%', 'votes': '24'}\n",
      "city_dict {'name': 'Nova Canaã', 'percentage': '0,21%', 'votes': '14'}\n",
      "city_dict {'name': 'Pindobaçu', 'percentage': '0,21%', 'votes': '20'}\n",
      "city_dict {'name': 'Santo Amaro', 'percentage': '0,21%', 'votes': '66'}\n",
      "city_dict {'name': 'Sátiro Dias', 'percentage': '0,21%', 'votes': '17'}\n",
      "city_dict {'name': 'Souto Soares', 'percentage': '0,21%', 'votes': '19'}\n",
      "city_dict {'name': 'Filadélfia', 'percentage': '0,20%', 'votes': '17'}\n",
      "city_dict {'name': 'Glória', 'percentage': '0,20%', 'votes': '17'}\n",
      "city_dict {'name': 'Itaberaba', 'percentage': '0,20%', 'votes': '54'}\n",
      "city_dict {'name': 'Jaguaquara', 'percentage': '0,20%', 'votes': '38'}\n",
      "city_dict {'name': 'Jeremoabo', 'percentage': '0,20%', 'votes': '34'}\n",
      "city_dict {'name': 'Laje', 'percentage': '0,20%', 'votes': '24'}\n",
      "city_dict {'name': 'Lençóis', 'percentage': '0,20%', 'votes': '9'}\n",
      "city_dict {'name': 'Nova Soure', 'percentage': '0,20%', 'votes': '25'}\n",
      "city_dict {'name': 'Novo Horizonte', 'percentage': '0,20%', 'votes': '12'}\n",
      "city_dict {'name': 'São Félix', 'percentage': '0,20%', 'votes': '14'}\n",
      "city_dict {'name': 'Várzea da Roça', 'percentage': '0,20%', 'votes': '13'}\n",
      "city_dict {'name': 'Várzea Nova', 'percentage': '0,20%', 'votes': '11'}\n",
      "city_dict {'name': 'Bom Jesus da Serra', 'percentage': '0,19%', 'votes': '10'}\n",
      "city_dict {'name': 'Conceição do Almeida', 'percentage': '0,19%', 'votes': '18'}\n",
      "city_dict {'name': 'Ibitiara', 'percentage': '0,19%', 'votes': '14'}\n",
      "city_dict {'name': 'Macaúbas', 'percentage': '0,19%', 'votes': '36'}\n",
      "city_dict {'name': 'Mairi', 'percentage': '0,19%', 'votes': '16'}\n",
      "city_dict {'name': 'Potiraguá', 'percentage': '0,19%', 'votes': '9'}\n",
      "city_dict {'name': 'Tucano', 'percentage': '0,19%', 'votes': '45'}\n",
      "city_dict {'name': 'Adustina', 'percentage': '0,18%', 'votes': '14'}\n",
      "city_dict {'name': 'Bonito', 'percentage': '0,18%', 'votes': '14'}\n",
      "city_dict {'name': 'Cocos', 'percentage': '0,18%', 'votes': '18'}\n",
      "city_dict {'name': 'Jussari', 'percentage': '0,18%', 'votes': '5'}\n",
      "city_dict {'name': 'Lagoa Real', 'percentage': '0,18%', 'votes': '12'}\n",
      "city_dict {'name': 'Mucugê', 'percentage': '0,18%', 'votes': '10'}\n",
      "city_dict {'name': 'Queimadas', 'percentage': '0,18%', 'votes': '22'}\n",
      "city_dict {'name': 'Santa Inês', 'percentage': '0,18%', 'votes': '9'}\n",
      "city_dict {'name': 'Saubara', 'percentage': '0,18%', 'votes': '14'}\n",
      "city_dict {'name': 'Tapiramutá', 'percentage': '0,18%', 'votes': '11'}\n",
      "city_dict {'name': 'Aporá', 'percentage': '0,17%', 'votes': '13'}\n",
      "city_dict {'name': 'Baixa Grande', 'percentage': '0,17%', 'votes': '15'}\n",
      "city_dict {'name': 'Caetanos', 'percentage': '0,17%', 'votes': '11'}\n",
      "city_dict {'name': 'Cravolândia', 'percentage': '0,17%', 'votes': '4'}\n",
      "city_dict {'name': 'Mirante', 'percentage': '0,17%', 'votes': '8'}\n",
      "city_dict {'name': 'Nova Itarana', 'percentage': '0,17%', 'votes': '6'}\n",
      "city_dict {'name': 'Novo Triunfo', 'percentage': '0,17%', 'votes': '8'}\n",
      "city_dict {'name': 'Olindina', 'percentage': '0,17%', 'votes': '20'}\n",
      "city_dict {'name': 'Pedro Alexandre', 'percentage': '0,17%', 'votes': '10'}\n",
      "city_dict {'name': 'Seabra', 'percentage': '0,17%', 'votes': '39'}\n",
      "city_dict {'name': 'Aiquara', 'percentage': '0,16%', 'votes': '4'}\n",
      "city_dict {'name': 'Baianópolis', 'percentage': '0,16%', 'votes': '12'}\n",
      "city_dict {'name': 'Barra do Rocha', 'percentage': '0,16%', 'votes': '4'}\n",
      "city_dict {'name': 'Barro Alto', 'percentage': '0,16%', 'votes': '10'}\n",
      "city_dict {'name': 'Catolândia', 'percentage': '0,16%', 'votes': '4'}\n",
      "city_dict {'name': 'Elísio Medrado', 'percentage': '0,16%', 'votes': '7'}\n",
      "city_dict {'name': 'Ibititá', 'percentage': '0,16%', 'votes': '16'}\n",
      "city_dict {'name': 'Iguaí', 'percentage': '0,16%', 'votes': '17'}\n",
      "city_dict {'name': 'Lafaiete Coutinho', 'percentage': '0,16%', 'votes': '4'}\n",
      "city_dict {'name': 'Santo Estevão', 'percentage': '0,16%', 'votes': '41'}\n",
      "city_dict {'name': 'São Domingos', 'percentage': '0,16%', 'votes': '8'}\n",
      "city_dict {'name': 'Várzea do Poço', 'percentage': '0,16%', 'votes': '6'}\n",
      "city_dict {'name': 'Antas', 'percentage': '0,15%', 'votes': '10'}\n",
      "city_dict {'name': 'Brotas de Macaúbas', 'percentage': '0,15%', 'votes': '8'}\n",
      "city_dict {'name': 'Cabaceiras do Paraguaçu', 'percentage': '0,15%', 'votes': '13'}\n",
      "city_dict {'name': 'Campo Alegre de Lourdes', 'percentage': '0,15%', 'votes': '20'}\n",
      "city_dict {'name': 'Guajeru', 'percentage': '0,15%', 'votes': '6'}\n",
      "city_dict {'name': 'Itaquara', 'percentage': '0,15%', 'votes': '6'}\n",
      "city_dict {'name': 'Maragogipe', 'percentage': '0,15%', 'votes': '34'}\n",
      "city_dict {'name': 'Mirangaba', 'percentage': '0,15%', 'votes': '11'}\n",
      "city_dict {'name': 'Apuarema', 'percentage': '0,14%', 'votes': '5'}\n",
      "city_dict {'name': 'Euclides da Cunha', 'percentage': '0,14%', 'votes': '39'}\n",
      "city_dict {'name': 'Firmino Alves', 'percentage': '0,14%', 'votes': '4'}\n",
      "city_dict {'name': 'Ibiquera', 'percentage': '0,14%', 'votes': '3'}\n",
      "city_dict {'name': 'Ipirá', 'percentage': '0,14%', 'votes': '41'}\n",
      "city_dict {'name': 'Itaeté', 'percentage': '0,14%', 'votes': '9'}\n",
      "city_dict {'name': 'Jussara', 'percentage': '0,14%', 'votes': '11'}\n",
      "city_dict {'name': 'Nova Fátima', 'percentage': '0,14%', 'votes': '7'}\n",
      "city_dict {'name': 'Piraí do Norte', 'percentage': '0,14%', 'votes': '6'}\n",
      "city_dict {'name': 'Quixabeira', 'percentage': '0,14%', 'votes': '7'}\n",
      "city_dict {'name': 'Santaluz', 'percentage': '0,14%', 'votes': '27'}\n",
      "city_dict {'name': 'Serrinha', 'percentage': '0,14%', 'votes': '56'}\n",
      "city_dict {'name': 'Teodoro Sampaio', 'percentage': '0,14%', 'votes': '6'}\n",
      "city_dict {'name': 'Terra Nova', 'percentage': '0,14%', 'votes': '9'}\n",
      "city_dict {'name': 'Valente', 'percentage': '0,14%', 'votes': '19'}\n",
      "city_dict {'name': 'Varzedo', 'percentage': '0,14%', 'votes': '8'}\n",
      "city_dict {'name': 'Biritinga', 'percentage': '0,13%', 'votes': '11'}\n",
      "city_dict {'name': 'Chorrochó', 'percentage': '0,13%', 'votes': '8'}\n",
      "city_dict {'name': 'Cícero Dantas', 'percentage': '0,13%', 'votes': '19'}\n",
      "city_dict {'name': 'Conceição do Coité', 'percentage': '0,13%', 'votes': '44'}\n",
      "city_dict {'name': 'Coronel João Sá', 'percentage': '0,13%', 'votes': '11'}\n",
      "city_dict {'name': 'Gentio do Ouro', 'percentage': '0,13%', 'votes': '8'}\n",
      "city_dict {'name': 'Iaçu', 'percentage': '0,13%', 'votes': '16'}\n",
      "city_dict {'name': 'Itatim', 'percentage': '0,13%', 'votes': '10'}\n",
      "city_dict {'name': 'Itiúba', 'percentage': '0,13%', 'votes': '22'}\n",
      "city_dict {'name': 'Morpará', 'percentage': '0,13%', 'votes': '6'}\n",
      "city_dict {'name': 'Nordestina', 'percentage': '0,13%', 'votes': '8'}\n",
      "city_dict {'name': 'Teofilândia', 'percentage': '0,13%', 'votes': '14'}\n",
      "city_dict {'name': 'Uauá', 'percentage': '0,13%', 'votes': '17'}\n",
      "city_dict {'name': 'Banzaê', 'percentage': '0,12%', 'votes': '8'}\n",
      "city_dict {'name': 'Cansanção', 'percentage': '0,12%', 'votes': '21'}\n",
      "city_dict {'name': 'Governador Mangabeira', 'percentage': '0,12%', 'votes': '13'}\n",
      "city_dict {'name': 'Igaporã', 'percentage': '0,12%', 'votes': '9'}\n",
      "city_dict {'name': 'Irajuba', 'percentage': '0,12%', 'votes': '4'}\n",
      "city_dict {'name': 'Manoel Vitorino', 'percentage': '0,12%', 'votes': '10'}\n",
      "city_dict {'name': 'Paramirim', 'percentage': '0,12%', 'votes': '12'}\n",
      "city_dict {'name': 'Retirolândia', 'percentage': '0,12%', 'votes': '10'}\n",
      "city_dict {'name': 'Ruy Barbosa', 'percentage': '0,12%', 'votes': '16'}\n",
      "city_dict {'name': 'Serra Preta', 'percentage': '0,12%', 'votes': '14'}\n",
      "city_dict {'name': 'Wagner', 'percentage': '0,12%', 'votes': '5'}\n",
      "city_dict {'name': 'América Dourada', 'percentage': '0,11%', 'votes': '9'}\n",
      "city_dict {'name': 'Andorinha', 'percentage': '0,11%', 'votes': '9'}\n",
      "city_dict {'name': 'Araçás', 'percentage': '0,11%', 'votes': '7'}\n",
      "city_dict {'name': 'Brejões', 'percentage': '0,11%', 'votes': '7'}\n",
      "city_dict {'name': 'Caldeirão Grande', 'percentage': '0,11%', 'votes': '7'}\n",
      "city_dict {'name': 'Ibiassucê', 'percentage': '0,11%', 'votes': '6'}\n",
      "city_dict {'name': 'Itaguaçu da Bahia', 'percentage': '0,11%', 'votes': '7'}\n",
      "city_dict {'name': 'Itapicuru', 'percentage': '0,11%', 'votes': '15'}\n",
      "city_dict {'name': 'Lamarão', 'percentage': '0,11%', 'votes': '5'}\n",
      "city_dict {'name': 'Macajuba', 'percentage': '0,11%', 'votes': '6'}\n",
      "city_dict {'name': 'Maetinga', 'percentage': '0,11%', 'votes': '4'}\n",
      "city_dict {'name': 'Monte Santo', 'percentage': '0,11%', 'votes': '29'}\n",
      "city_dict {'name': 'Pintadas', 'percentage': '0,11%', 'votes': '6'}\n",
      "city_dict {'name': 'Quinjingue', 'percentage': '0,11%', 'votes': '15'}\n",
      "city_dict {'name': 'Lapão', 'percentage': '0,10%', 'votes': '14'}\n",
      "city_dict {'name': 'Nova Redenção', 'percentage': '0,10%', 'votes': '4'}\n",
      "city_dict {'name': 'Santa Bárbara', 'percentage': '0,10%', 'votes': '13'}\n",
      "city_dict {'name': 'São Miguel das Matas', 'percentage': '0,10%', 'votes': '6'}\n",
      "city_dict {'name': 'Araci', 'percentage': '0,09%', 'votes': '21'}\n",
      "city_dict {'name': 'Castro Alves', 'percentage': '0,09%', 'votes': '13'}\n",
      "city_dict {'name': 'Marcionílio Souza', 'percentage': '0,09%', 'votes': '4'}\n",
      "city_dict {'name': 'Tanquinho', 'percentage': '0,09%', 'votes': '5'}\n",
      "city_dict {'name': 'Teolândia', 'percentage': '0,09%', 'votes': '6'}\n",
      "city_dict {'name': 'Água Fria', 'percentage': '0,08%', 'votes': '6'}\n",
      "city_dict {'name': 'Boa Vista do Tupim', 'percentage': '0,08%', 'votes': '7'}\n",
      "city_dict {'name': 'Iramaia', 'percentage': '0,08%', 'votes': '4'}\n",
      "city_dict {'name': 'Irará', 'percentage': '0,08%', 'votes': '12'}\n",
      "city_dict {'name': 'Mundo Novo', 'percentage': '0,08%', 'votes': '7'}\n",
      "city_dict {'name': 'Muniz Ferreira', 'percentage': '0,08%', 'votes': '4'}\n",
      "city_dict {'name': 'Mutuípe', 'percentage': '0,08%', 'votes': '9'}\n",
      "city_dict {'name': 'São José do Jacuípe', 'percentage': '0,08%', 'votes': '4'}\n",
      "city_dict {'name': 'Uibaí', 'percentage': '0,08%', 'votes': '6'}\n",
      "city_dict {'name': 'Buritirama', 'percentage': '0,07%', 'votes': '7'}\n",
      "city_dict {'name': 'Ibipeba', 'percentage': '0,07%', 'votes': '6'}\n",
      "city_dict {'name': 'Ouriçangas', 'percentage': '0,07%', 'votes': '3'}\n",
      "city_dict {'name': 'Planaltino', 'percentage': '0,07%', 'votes': '3'}\n",
      "city_dict {'name': 'Antônio Cardoso', 'percentage': '0,06%', 'votes': '5'}\n",
      "city_dict {'name': 'Ipecaetá', 'percentage': '0,06%', 'votes': '6'}\n",
      "city_dict {'name': 'Jandaíra', 'percentage': '0,06%', 'votes': '3'}\n",
      "city_dict {'name': 'Jiquiriçá', 'percentage': '0,06%', 'votes': '4'}\n",
      "city_dict {'name': 'Rafael Jambeiro', 'percentage': '0,06%', 'votes': '6'}\n",
      "city_dict {'name': 'Heliópolis', 'percentage': '0,05%', 'votes': '4'}\n",
      "city_dict {'name': 'Lajedinho', 'percentage': '0,05%', 'votes': '1'}\n",
      "city_dict {'name': 'Pé de Serra', 'percentage': '0,05%', 'votes': '4'}\n",
      "city_dict {'name': 'Pedrão', 'percentage': '0,05%', 'votes': '2'}\n",
      "city_dict {'name': 'Abaré', 'percentage': '0,04%', 'votes': '4'}\n",
      "city_dict {'name': 'Matina', 'percentage': '0,03%', 'votes': '2'}\n",
      "city_dict {'name': 'Riachão do Jacuípe', 'percentage': '0,03%', 'votes': '5'}\n",
      "city_dict {'name': 'Sítio do Quinto', 'percentage': '0,03%', 'votes': '2'}\n",
      "city_dict {'name': 'Barrocas', 'percentage': '0,02%', 'votes': '2'}\n",
      "city_dict {'name': 'Santanópolis', 'percentage': '0,02%', 'votes': '1'}\n"
     ]
    }
   ],
   "source": [
    "list_tr = soup_page_cities.find('tbody').find_all('tr')\n",
    "cities_dicts = []\n",
    "\n",
    "for el in list_tr:\n",
    "    city_dict = {}\n",
    "    tds = el.find_all('td')\n",
    "    city_dict['name'] = tds[0].find('h2').get_text().strip()\n",
    "    city_dict['percentage'] = tds[1].find('span', {'class': 'porcentagem'}).get_text().strip()\n",
    "    city_dict['votes'] = tds[1].find('span', {'class': 'qtd-votos'}).get_text().split(' ')[0].strip()\n",
    "    print('city_dict', city_dict)\n",
    "    cities_dicts.append(city_dict)\n",
    "    \n",
    "# print(cities_dicts)\n",
    "    "
   ]
  },
  {
   "cell_type": "markdown",
   "id": "7ee0e3c7",
   "metadata": {},
   "source": [
    "# Todos os Governadores"
   ]
  },
  {
   "cell_type": "code",
   "execution_count": 8,
   "id": "a7e302d4",
   "metadata": {
    "ExecuteTime": {
     "end_time": "2022-04-21T18:23:18.994124Z",
     "start_time": "2022-04-21T18:23:18.975137Z"
    }
   },
   "outputs": [],
   "source": [
    "tse_all_candidates = 'https://divulgacandcontas.tse.jus.br/divulga/rest/v1/candidatura/listar/2018/BA/2022802018/3/candidatos'"
   ]
  },
  {
   "cell_type": "code",
   "execution_count": null,
   "id": "1455fd31",
   "metadata": {},
   "outputs": [],
   "source": []
  }
 ],
 "metadata": {
  "kernelspec": {
   "display_name": "Python 3 (ipykernel)",
   "language": "python",
   "name": "python3"
  },
  "language_info": {
   "codemirror_mode": {
    "name": "ipython",
    "version": 3
   },
   "file_extension": ".py",
   "mimetype": "text/x-python",
   "name": "python",
   "nbconvert_exporter": "python",
   "pygments_lexer": "ipython3",
   "version": "3.10.4"
  },
  "toc": {
   "base_numbering": 1,
   "nav_menu": {},
   "number_sections": true,
   "sideBar": true,
   "skip_h1_title": false,
   "title_cell": "Table of Contents",
   "title_sidebar": "Contents",
   "toc_cell": false,
   "toc_position": {},
   "toc_section_display": true,
   "toc_window_display": false
  },
  "varInspector": {
   "cols": {
    "lenName": 16,
    "lenType": 16,
    "lenVar": 40
   },
   "kernels_config": {
    "python": {
     "delete_cmd_postfix": "",
     "delete_cmd_prefix": "del ",
     "library": "var_list.py",
     "varRefreshCmd": "print(var_dic_list())"
    },
    "r": {
     "delete_cmd_postfix": ") ",
     "delete_cmd_prefix": "rm(",
     "library": "var_list.r",
     "varRefreshCmd": "cat(var_dic_list()) "
    }
   },
   "types_to_exclude": [
    "module",
    "function",
    "builtin_function_or_method",
    "instance",
    "_Feature"
   ],
   "window_display": false
  }
 },
 "nbformat": 4,
 "nbformat_minor": 5
}
