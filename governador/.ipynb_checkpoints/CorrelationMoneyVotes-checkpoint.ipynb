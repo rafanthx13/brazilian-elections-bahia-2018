{
 "cells": [
  {
   "cell_type": "markdown",
   "id": "1fd8467c",
   "metadata": {},
   "source": [
    "# Correlation Votes and Money"
   ]
  },
  {
   "cell_type": "markdown",
   "id": "41262538",
   "metadata": {},
   "source": [
    "# Import Dataset"
   ]
  },
  {
   "cell_type": "code",
   "execution_count": 2,
   "id": "2ef0edb1",
   "metadata": {
    "ExecuteTime": {
     "end_time": "2022-04-27T21:47:28.310866Z",
     "start_time": "2022-04-27T21:47:26.500391Z"
    }
   },
   "outputs": [],
   "source": [
    "from urllib.request import urlopen\n",
    "import plotly.express as px\n",
    "import pandas as pd\n",
    "import json\n",
    "\n",
    "pd.set_option('display.max_rows', 500)\n",
    "pd.set_option('display.max_columns', 500)\n",
    "pd.set_option('display.width', 1000)\n",
    "pd.options.display.float_format = '{:.2f}'.format"
   ]
  },
  {
   "cell_type": "code",
   "execution_count": 4,
   "id": "19aa1f2e",
   "metadata": {
    "ExecuteTime": {
     "end_time": "2022-04-27T21:48:08.366416Z",
     "start_time": "2022-04-27T21:48:08.254092Z"
    }
   },
   "outputs": [
    {
     "data": {
      "text/html": [
       "<div>\n",
       "<style scoped>\n",
       "    .dataframe tbody tr th:only-of-type {\n",
       "        vertical-align: middle;\n",
       "    }\n",
       "\n",
       "    .dataframe tbody tr th {\n",
       "        vertical-align: top;\n",
       "    }\n",
       "\n",
       "    .dataframe thead th {\n",
       "        text-align: right;\n",
       "    }\n",
       "</style>\n",
       "<table border=\"1\" class=\"dataframe\">\n",
       "  <thead>\n",
       "    <tr style=\"text-align: right;\">\n",
       "      <th></th>\n",
       "      <th>id</th>\n",
       "      <th>nomeUrna</th>\n",
       "      <th>numero</th>\n",
       "      <th>nomeCompleto</th>\n",
       "      <th>descricaoSexo</th>\n",
       "      <th>descricaoCorRaca</th>\n",
       "      <th>grauInstrucao</th>\n",
       "      <th>ocupacao</th>\n",
       "      <th>gastoCampanha1T</th>\n",
       "      <th>gastoCampanha2T</th>\n",
       "      <th>sgUfNascimento</th>\n",
       "      <th>nomeMunicipioNascimento</th>\n",
       "      <th>localCandidatura</th>\n",
       "      <th>fotoUrl</th>\n",
       "      <th>descricaoTotalizacao</th>\n",
       "      <th>nomeColigacao</th>\n",
       "      <th>composicaoColigacao</th>\n",
       "      <th>cargo</th>\n",
       "      <th>totalDeBens</th>\n",
       "      <th>partido_x</th>\n",
       "      <th>descricaoNaturalidade</th>\n",
       "      <th>sigla</th>\n",
       "      <th>nomePartido</th>\n",
       "      <th>siglaPartido</th>\n",
       "      <th>nrCandidato</th>\n",
       "      <th>dividaCampanha</th>\n",
       "      <th>sobraFinanceira</th>\n",
       "      <th>limiteDeGasto1T</th>\n",
       "      <th>limiteDeGasto2T</th>\n",
       "      <th>valorLimiteDeGastos</th>\n",
       "      <th>totalDespesasContratadas</th>\n",
       "      <th>totalDespesasPagas</th>\n",
       "      <th>doacoesOutrosCandidatosPartigos</th>\n",
       "      <th>fundosPartidarios</th>\n",
       "      <th>fundoEspecial</th>\n",
       "      <th>outrosRecursos</th>\n",
       "      <th>financeiras</th>\n",
       "      <th>estimaveis</th>\n",
       "      <th>totalRecebido</th>\n",
       "      <th>qtdRecebido</th>\n",
       "      <th>percentualRecebido</th>\n",
       "      <th>totalFinanceiro</th>\n",
       "      <th>qtdFinanceiro</th>\n",
       "      <th>percentualFinanceiro</th>\n",
       "      <th>totalEstimados</th>\n",
       "      <th>qtdEstimados</th>\n",
       "      <th>percentualEstimados</th>\n",
       "      <th>totalReceitaPF</th>\n",
       "      <th>qtdReceitaPF</th>\n",
       "      <th>percentualReceitaPF</th>\n",
       "      <th>totalReceitaPJ</th>\n",
       "      <th>qtdReceitaPJ</th>\n",
       "      <th>percentualReceitaPJ</th>\n",
       "      <th>totalPartidos</th>\n",
       "      <th>qtdPartidos</th>\n",
       "      <th>percentualPartidos</th>\n",
       "      <th>totalInternet</th>\n",
       "      <th>qtdInternet</th>\n",
       "      <th>percentualInternet</th>\n",
       "      <th>totalRoni</th>\n",
       "      <th>qtdRoni</th>\n",
       "      <th>percentualRoni</th>\n",
       "      <th>totalProprios</th>\n",
       "      <th>qtdProprios</th>\n",
       "      <th>percentualProprios</th>\n",
       "      <th>totalReceitaOutCand</th>\n",
       "      <th>qtdReceitaOutCand</th>\n",
       "      <th>percentualReceitaOutCand</th>\n",
       "      <th>totalDoacaoFcc</th>\n",
       "      <th>qtdDoacaoFcc</th>\n",
       "      <th>percentualDoacaoFcc</th>\n",
       "      <th>sqPrestadorConta</th>\n",
       "      <th>sqEntregaPrestacao</th>\n",
       "      <th>graphQtdReceitaFin</th>\n",
       "      <th>graphVrReceitaFin</th>\n",
       "      <th>graphQtdReceitaFinFundo</th>\n",
       "      <th>graphVrReceitaFinFundo</th>\n",
       "      <th>graphPercentReceitaFinFundo</th>\n",
       "      <th>graphQtdReceitaFinOutros</th>\n",
       "      <th>graphVrReceitaFinOutros</th>\n",
       "      <th>graphPercentFinOutros</th>\n",
       "      <th>graphQtdReceitaFinFefc</th>\n",
       "      <th>graphVrReceitaFinFefc</th>\n",
       "      <th>graphPercentFinFefc</th>\n",
       "      <th>concentracaoDespesasR</th>\n",
       "      <th>rankingDoadoresR</th>\n",
       "      <th>rankingFornecedoresR</th>\n",
       "      <th>url_gov</th>\n",
       "      <th>id_tse</th>\n",
       "      <th>name</th>\n",
       "      <th>partido_y</th>\n",
       "      <th>percentage</th>\n",
       "      <th>votes</th>\n",
       "      <th>description</th>\n",
       "      <th>winn</th>\n",
       "      <th>link_cities</th>\n",
       "      <th>short_description</th>\n",
       "      <th>ultra_description</th>\n",
       "      <th>Nome na urna</th>\n",
       "      <th>Sexo</th>\n",
       "      <th>Idade</th>\n",
       "      <th>Data de nascimento</th>\n",
       "      <th>Ocupação</th>\n",
       "      <th>Grau de instrução</th>\n",
       "      <th>Estado Civil</th>\n",
       "      <th>Cor/Raça</th>\n",
       "      <th>Município de nascimento</th>\n",
       "      <th>key_url</th>\n",
       "    </tr>\n",
       "  </thead>\n",
       "  <tbody>\n",
       "    <tr>\n",
       "      <th>0</th>\n",
       "      <td>50000623171</td>\n",
       "      <td>CÉLIA SACRAMENTO</td>\n",
       "      <td>18</td>\n",
       "      <td>CÉLIA OLIVEIRA DE JESUS SACRAMENTO</td>\n",
       "      <td>FEM.</td>\n",
       "      <td>PRETA</td>\n",
       "      <td>Superior completo</td>\n",
       "      <td>Professor de Ensino Superior</td>\n",
       "      <td>14000000</td>\n",
       "      <td>7000000</td>\n",
       "      <td>SP</td>\n",
       "      <td>SÃO PAULO</td>\n",
       "      <td>BAHIA</td>\n",
       "      <td>https://divulgacandcontas.tse.jus.br/candidatu...</td>\n",
       "      <td>Não eleito</td>\n",
       "      <td>REDE</td>\n",
       "      <td>**</td>\n",
       "      <td>Governador</td>\n",
       "      <td>1198000.00</td>\n",
       "      <td>Rede Sustentabilidade</td>\n",
       "      <td>SP-SÃO PAULO</td>\n",
       "      <td>REDE</td>\n",
       "      <td>Rede Sustentabilidade</td>\n",
       "      <td>REDE</td>\n",
       "      <td>18</td>\n",
       "      <td>NaN</td>\n",
       "      <td>NaN</td>\n",
       "      <td>14000000.00</td>\n",
       "      <td>7000000.00</td>\n",
       "      <td>14000000.00</td>\n",
       "      <td>50301.15</td>\n",
       "      <td>50301.15</td>\n",
       "      <td>0.00</td>\n",
       "      <td>30000.00</td>\n",
       "      <td>20000.00</td>\n",
       "      <td>301.15</td>\n",
       "      <td>0.00</td>\n",
       "      <td>0.00</td>\n",
       "      <td>50301.15</td>\n",
       "      <td>6</td>\n",
       "      <td>NaN</td>\n",
       "      <td>50301.15</td>\n",
       "      <td>6</td>\n",
       "      <td>100.00</td>\n",
       "      <td>0.00</td>\n",
       "      <td>0</td>\n",
       "      <td>0.00</td>\n",
       "      <td>0.00</td>\n",
       "      <td>0</td>\n",
       "      <td>0.00</td>\n",
       "      <td>0</td>\n",
       "      <td>0</td>\n",
       "      <td>0</td>\n",
       "      <td>50000.00</td>\n",
       "      <td>2</td>\n",
       "      <td>99.40</td>\n",
       "      <td>0</td>\n",
       "      <td>0</td>\n",
       "      <td>0</td>\n",
       "      <td>0</td>\n",
       "      <td>0</td>\n",
       "      <td>0.00</td>\n",
       "      <td>101.15</td>\n",
       "      <td>3</td>\n",
       "      <td>0.20</td>\n",
       "      <td>0.00</td>\n",
       "      <td>0</td>\n",
       "      <td>0.00</td>\n",
       "      <td>200</td>\n",
       "      <td>1</td>\n",
       "      <td>0.40</td>\n",
       "      <td>NaN</td>\n",
       "      <td>NaN</td>\n",
       "      <td>6</td>\n",
       "      <td>50301.15</td>\n",
       "      <td>1</td>\n",
       "      <td>30000.00</td>\n",
       "      <td>59.64</td>\n",
       "      <td>4</td>\n",
       "      <td>301.15</td>\n",
       "      <td>0.60</td>\n",
       "      <td>1</td>\n",
       "      <td>20000.00</td>\n",
       "      <td>39.76</td>\n",
       "      <td>50301.15</td>\n",
       "      <td>50301.15</td>\n",
       "      <td>38950.00</td>\n",
       "      <td>https://especiais.gazetadopovo.com.br/eleicoes...</td>\n",
       "      <td>50000623171</td>\n",
       "      <td>Célia Sacramento</td>\n",
       "      <td>REDE</td>\n",
       "      <td>0.46%</td>\n",
       "      <td>31198</td>\n",
       "      <td>Candidata ao cargo de Governadora na Bahia pel...</td>\n",
       "      <td>Não foi eleita</td>\n",
       "      <td>https://especiais.gazetadopovo.com.br/eleicoes...</td>\n",
       "      <td>Casado(a),\\n\\t\\t\\t\\t\\t\\tAposentado (Exceto Ser...</td>\n",
       "      <td>Célia Sacramento é professora e política. Ela ...</td>\n",
       "      <td>Célia Sacramento</td>\n",
       "      <td>Feminino</td>\n",
       "      <td>54 anos</td>\n",
       "      <td>28/07/1967</td>\n",
       "      <td>Professor de Ensino Superior</td>\n",
       "      <td>Superior completo</td>\n",
       "      <td>Divorciado(a)</td>\n",
       "      <td>Preta</td>\n",
       "      <td>São Paulo-SP</td>\n",
       "      <td>celia-sacramento</td>\n",
       "    </tr>\n",
       "  </tbody>\n",
       "</table>\n",
       "</div>"
      ],
      "text/plain": [
       "            id          nomeUrna  numero                        nomeCompleto descricaoSexo descricaoCorRaca      grauInstrucao                      ocupacao  gastoCampanha1T  gastoCampanha2T sgUfNascimento nomeMunicipioNascimento localCandidatura                                            fotoUrl descricaoTotalizacao nomeColigacao composicaoColigacao       cargo  totalDeBens              partido_x descricaoNaturalidade sigla            nomePartido siglaPartido  nrCandidato  dividaCampanha  sobraFinanceira  limiteDeGasto1T  limiteDeGasto2T  valorLimiteDeGastos  totalDespesasContratadas  totalDespesasPagas  doacoesOutrosCandidatosPartigos  fundosPartidarios  fundoEspecial  outrosRecursos  financeiras  estimaveis  totalRecebido  qtdRecebido  percentualRecebido  totalFinanceiro  qtdFinanceiro  percentualFinanceiro  totalEstimados  qtdEstimados  percentualEstimados  totalReceitaPF  qtdReceitaPF  percentualReceitaPF  totalReceitaPJ  qtdReceitaPJ  percentualReceitaPJ  totalPartidos  \\\n",
       "0  50000623171  CÉLIA SACRAMENTO      18  CÉLIA OLIVEIRA DE JESUS SACRAMENTO          FEM.            PRETA  Superior completo  Professor de Ensino Superior         14000000          7000000             SP               SÃO PAULO            BAHIA  https://divulgacandcontas.tse.jus.br/candidatu...           Não eleito          REDE                  **  Governador   1198000.00  Rede Sustentabilidade          SP-SÃO PAULO  REDE  Rede Sustentabilidade         REDE           18             NaN              NaN      14000000.00       7000000.00          14000000.00                  50301.15            50301.15                             0.00           30000.00       20000.00          301.15         0.00        0.00       50301.15            6                 NaN         50301.15              6                100.00            0.00             0                 0.00            0.00             0                 0.00               0             0                    0       50000.00   \n",
       "\n",
       "   qtdPartidos  percentualPartidos  totalInternet  qtdInternet  percentualInternet  totalRoni  qtdRoni  percentualRoni  totalProprios  qtdProprios  percentualProprios  totalReceitaOutCand  qtdReceitaOutCand  percentualReceitaOutCand  totalDoacaoFcc  qtdDoacaoFcc  percentualDoacaoFcc  sqPrestadorConta  sqEntregaPrestacao  graphQtdReceitaFin  graphVrReceitaFin  graphQtdReceitaFinFundo  graphVrReceitaFinFundo  graphPercentReceitaFinFundo  graphQtdReceitaFinOutros  graphVrReceitaFinOutros  graphPercentFinOutros  graphQtdReceitaFinFefc  graphVrReceitaFinFefc  graphPercentFinFefc  concentracaoDespesasR  rankingDoadoresR  rankingFornecedoresR                                            url_gov       id_tse              name partido_y percentage  votes                                        description            winn                                        link_cities                                  short_description                                  ultra_description      Nome na urna  \\\n",
       "0            2               99.40              0            0                   0          0        0            0.00         101.15            3                0.20                 0.00                  0                      0.00             200             1                 0.40               NaN                 NaN                   6           50301.15                        1                30000.00                        59.64                         4                   301.15                   0.60                       1               20000.00                39.76               50301.15          50301.15              38950.00  https://especiais.gazetadopovo.com.br/eleicoes...  50000623171  Célia Sacramento      REDE      0.46%  31198  Candidata ao cargo de Governadora na Bahia pel...  Não foi eleita  https://especiais.gazetadopovo.com.br/eleicoes...  Casado(a),\\n\\t\\t\\t\\t\\t\\tAposentado (Exceto Ser...  Célia Sacramento é professora e política. Ela ...  Célia Sacramento   \n",
       "\n",
       "       Sexo    Idade Data de nascimento                      Ocupação  Grau de instrução   Estado Civil Cor/Raça Município de nascimento           key_url  \n",
       "0  Feminino  54 anos         28/07/1967  Professor de Ensino Superior  Superior completo  Divorciado(a)    Preta            São Paulo-SP  celia-sacramento  "
      ]
     },
     "execution_count": 4,
     "metadata": {},
     "output_type": "execute_result"
    }
   ],
   "source": [
    "df_gov = pd.read_csv('./clean_gov.csv', sep=';', encoding='iso-8859-1')\n",
    "df_gov.head(1)"
   ]
  },
  {
   "cell_type": "markdown",
   "id": "6cf54d3d",
   "metadata": {},
   "source": [
    "## Main Features Governor"
   ]
  },
  {
   "cell_type": "code",
   "execution_count": 6,
   "id": "800e6737",
   "metadata": {
    "ExecuteTime": {
     "end_time": "2022-04-27T21:50:09.635129Z",
     "start_time": "2022-04-27T21:50:09.623134Z"
    },
    "scrolled": true
   },
   "outputs": [
    {
     "name": "stdout",
     "output_type": "stream",
     "text": [
      "['id', 'nomeUrna', 'numero', 'nomeCompleto', 'descricaoSexo', 'descricaoCorRaca', 'grauInstrucao', 'ocupacao', 'gastoCampanha1T', 'gastoCampanha2T', 'sgUfNascimento', 'nomeMunicipioNascimento', 'localCandidatura', 'fotoUrl', 'descricaoTotalizacao', 'nomeColigacao', 'composicaoColigacao', 'cargo', 'totalDeBens', 'partido_x', 'descricaoNaturalidade', 'sigla', 'nomePartido', 'siglaPartido', 'nrCandidato', 'dividaCampanha', 'sobraFinanceira', 'limiteDeGasto1T', 'limiteDeGasto2T', 'valorLimiteDeGastos', 'totalDespesasContratadas', 'totalDespesasPagas', 'doacoesOutrosCandidatosPartigos', 'fundosPartidarios', 'fundoEspecial', 'outrosRecursos', 'financeiras', 'estimaveis', 'totalRecebido', 'qtdRecebido', 'percentualRecebido', 'totalFinanceiro', 'qtdFinanceiro', 'percentualFinanceiro', 'totalEstimados', 'qtdEstimados', 'percentualEstimados', 'totalReceitaPF', 'qtdReceitaPF', 'percentualReceitaPF', 'totalReceitaPJ', 'qtdReceitaPJ', 'percentualReceitaPJ', 'totalPartidos', 'qtdPartidos', 'percentualPartidos', 'totalInternet', 'qtdInternet', 'percentualInternet', 'totalRoni', 'qtdRoni', 'percentualRoni', 'totalProprios', 'qtdProprios', 'percentualProprios', 'totalReceitaOutCand', 'qtdReceitaOutCand', 'percentualReceitaOutCand', 'totalDoacaoFcc', 'qtdDoacaoFcc', 'percentualDoacaoFcc', 'sqPrestadorConta', 'sqEntregaPrestacao', 'graphQtdReceitaFin', 'graphVrReceitaFin', 'graphQtdReceitaFinFundo', 'graphVrReceitaFinFundo', 'graphPercentReceitaFinFundo', 'graphQtdReceitaFinOutros', 'graphVrReceitaFinOutros', 'graphPercentFinOutros', 'graphQtdReceitaFinFefc', 'graphVrReceitaFinFefc', 'graphPercentFinFefc', 'concentracaoDespesasR', 'rankingDoadoresR', 'rankingFornecedoresR', 'url_gov', 'id_tse', 'name', 'partido_y', 'percentage', 'votes', 'description', 'winn', 'link_cities', 'short_description', 'ultra_description', 'Nome na urna', 'Sexo', 'Idade', 'Data de nascimento', 'Ocupação', 'Grau de instrução', 'Estado Civil', 'Cor/Raça', 'Município de nascimento', 'key_url']\n"
     ]
    }
   ],
   "source": [
    "print(df_gov.columns.tolist())"
   ]
  },
  {
   "cell_type": "code",
   "execution_count": 54,
   "id": "42218cb8",
   "metadata": {
    "ExecuteTime": {
     "end_time": "2022-04-27T22:21:48.627080Z",
     "start_time": "2022-04-27T22:21:48.607084Z"
    }
   },
   "outputs": [],
   "source": [
    "df_gov['percent_votes'] = df_gov['percentage'].apply(lambda x: float(x.replace('%','').strip()))"
   ]
  },
  {
   "cell_type": "code",
   "execution_count": 51,
   "id": "4a9e2c97",
   "metadata": {
    "ExecuteTime": {
     "end_time": "2022-04-27T22:18:52.395206Z",
     "start_time": "2022-04-27T22:18:52.368228Z"
    }
   },
   "outputs": [
    {
     "data": {
      "text/html": [
       "<div>\n",
       "<style scoped>\n",
       "    .dataframe tbody tr th:only-of-type {\n",
       "        vertical-align: middle;\n",
       "    }\n",
       "\n",
       "    .dataframe tbody tr th {\n",
       "        vertical-align: top;\n",
       "    }\n",
       "\n",
       "    .dataframe thead th {\n",
       "        text-align: right;\n",
       "    }\n",
       "</style>\n",
       "<table border=\"1\" class=\"dataframe\">\n",
       "  <thead>\n",
       "    <tr style=\"text-align: right;\">\n",
       "      <th></th>\n",
       "      <th>nomeCompleto</th>\n",
       "      <th>numero</th>\n",
       "      <th>partido_y</th>\n",
       "      <th>fotoUrl</th>\n",
       "      <th>totalDeBens</th>\n",
       "      <th>totalDespesasContratadas</th>\n",
       "      <th>totalDespesasPagas</th>\n",
       "      <th>totalFinanceiro</th>\n",
       "      <th>totalRecebido</th>\n",
       "      <th>qtdReceitaPF</th>\n",
       "      <th>qtdFinanceiro</th>\n",
       "      <th>qtdRecebido</th>\n",
       "      <th>percentage</th>\n",
       "      <th>votes</th>\n",
       "    </tr>\n",
       "  </thead>\n",
       "  <tbody>\n",
       "    <tr>\n",
       "      <th>0</th>\n",
       "      <td>RUI COSTA DOS SANTOS</td>\n",
       "      <td>13</td>\n",
       "      <td>PT</td>\n",
       "      <td>https://divulgacandcontas.tse.jus.br/candidatu...</td>\n",
       "      <td>674317.43</td>\n",
       "      <td>7445488.76</td>\n",
       "      <td>7445488.76</td>\n",
       "      <td>7442758.77</td>\n",
       "      <td>7476031.00</td>\n",
       "      <td>230</td>\n",
       "      <td>283</td>\n",
       "      <td>347</td>\n",
       "      <td>75.50%</td>\n",
       "      <td>5096062</td>\n",
       "    </tr>\n",
       "    <tr>\n",
       "      <th>1</th>\n",
       "      <td>JOSÉ RONALDO DE CARVALHO</td>\n",
       "      <td>25</td>\n",
       "      <td>DEM</td>\n",
       "      <td>https://divulgacandcontas.tse.jus.br/candidatu...</td>\n",
       "      <td>2110905.72</td>\n",
       "      <td>6347359.74</td>\n",
       "      <td>5165883.92</td>\n",
       "      <td>5165999.98</td>\n",
       "      <td>5196199.98</td>\n",
       "      <td>74</td>\n",
       "      <td>88</td>\n",
       "      <td>95</td>\n",
       "      <td>22.26%</td>\n",
       "      <td>1502266</td>\n",
       "    </tr>\n",
       "    <tr>\n",
       "      <th>2</th>\n",
       "      <td>MARCOS ANTONIO GUIMARAES MENDES</td>\n",
       "      <td>50</td>\n",
       "      <td>PSOL</td>\n",
       "      <td>https://divulgacandcontas.tse.jus.br/candidatu...</td>\n",
       "      <td>315000.00</td>\n",
       "      <td>88458.95</td>\n",
       "      <td>88458.95</td>\n",
       "      <td>88841.87</td>\n",
       "      <td>113141.87</td>\n",
       "      <td>0</td>\n",
       "      <td>5</td>\n",
       "      <td>10</td>\n",
       "      <td>0.66%</td>\n",
       "      <td>44702</td>\n",
       "    </tr>\n",
       "    <tr>\n",
       "      <th>3</th>\n",
       "      <td>JOÃO HENRIQUE DE BARRADAS CARNEIRO</td>\n",
       "      <td>28</td>\n",
       "      <td>PRTB</td>\n",
       "      <td>https://divulgacandcontas.tse.jus.br/candidatu...</td>\n",
       "      <td>1502885.55</td>\n",
       "      <td>1000.00</td>\n",
       "      <td>1000.00</td>\n",
       "      <td>1000.00</td>\n",
       "      <td>1500.00</td>\n",
       "      <td>2</td>\n",
       "      <td>1</td>\n",
       "      <td>2</td>\n",
       "      <td>0.58%</td>\n",
       "      <td>38960</td>\n",
       "    </tr>\n",
       "    <tr>\n",
       "      <th>4</th>\n",
       "      <td>JOÃO REIS SANTANA FILHO</td>\n",
       "      <td>15</td>\n",
       "      <td>MDB</td>\n",
       "      <td>https://divulgacandcontas.tse.jus.br/candidatu...</td>\n",
       "      <td>320541.42</td>\n",
       "      <td>3379195.35</td>\n",
       "      <td>3379195.35</td>\n",
       "      <td>3386600.00</td>\n",
       "      <td>3386600.00</td>\n",
       "      <td>0</td>\n",
       "      <td>10</td>\n",
       "      <td>10</td>\n",
       "      <td>0.49%</td>\n",
       "      <td>33266</td>\n",
       "    </tr>\n",
       "    <tr>\n",
       "      <th>5</th>\n",
       "      <td>CÉLIA OLIVEIRA DE JESUS SACRAMENTO</td>\n",
       "      <td>18</td>\n",
       "      <td>REDE</td>\n",
       "      <td>https://divulgacandcontas.tse.jus.br/candidatu...</td>\n",
       "      <td>1198000.00</td>\n",
       "      <td>50301.15</td>\n",
       "      <td>50301.15</td>\n",
       "      <td>50301.15</td>\n",
       "      <td>50301.15</td>\n",
       "      <td>0</td>\n",
       "      <td>6</td>\n",
       "      <td>6</td>\n",
       "      <td>0.46%</td>\n",
       "      <td>31198</td>\n",
       "    </tr>\n",
       "    <tr>\n",
       "      <th>6</th>\n",
       "      <td>ORLANDO ANDRADE DE JESUS</td>\n",
       "      <td>29</td>\n",
       "      <td>PCO</td>\n",
       "      <td>https://divulgacandcontas.tse.jus.br/candidatu...</td>\n",
       "      <td>0.00</td>\n",
       "      <td>0.00</td>\n",
       "      <td>0.00</td>\n",
       "      <td>0.00</td>\n",
       "      <td>1350.00</td>\n",
       "      <td>0</td>\n",
       "      <td>0</td>\n",
       "      <td>3</td>\n",
       "      <td>0.05%</td>\n",
       "      <td>3100</td>\n",
       "    </tr>\n",
       "  </tbody>\n",
       "</table>\n",
       "</div>"
      ],
      "text/plain": [
       "                         nomeCompleto  numero partido_y                                            fotoUrl  totalDeBens  totalDespesasContratadas  totalDespesasPagas  totalFinanceiro  totalRecebido  qtdReceitaPF  qtdFinanceiro  qtdRecebido percentage    votes\n",
       "0                RUI COSTA DOS SANTOS      13        PT  https://divulgacandcontas.tse.jus.br/candidatu...    674317.43                7445488.76          7445488.76       7442758.77     7476031.00           230            283          347     75.50%  5096062\n",
       "1            JOSÉ RONALDO DE CARVALHO      25       DEM  https://divulgacandcontas.tse.jus.br/candidatu...   2110905.72                6347359.74          5165883.92       5165999.98     5196199.98            74             88           95     22.26%  1502266\n",
       "2     MARCOS ANTONIO GUIMARAES MENDES      50      PSOL  https://divulgacandcontas.tse.jus.br/candidatu...    315000.00                  88458.95            88458.95         88841.87      113141.87             0              5           10      0.66%    44702\n",
       "3  JOÃO HENRIQUE DE BARRADAS CARNEIRO      28      PRTB  https://divulgacandcontas.tse.jus.br/candidatu...   1502885.55                   1000.00             1000.00          1000.00        1500.00             2              1            2      0.58%    38960\n",
       "4             JOÃO REIS SANTANA FILHO      15       MDB  https://divulgacandcontas.tse.jus.br/candidatu...    320541.42                3379195.35          3379195.35       3386600.00     3386600.00             0             10           10      0.49%    33266\n",
       "5  CÉLIA OLIVEIRA DE JESUS SACRAMENTO      18      REDE  https://divulgacandcontas.tse.jus.br/candidatu...   1198000.00                  50301.15            50301.15         50301.15       50301.15             0              6            6      0.46%    31198\n",
       "6            ORLANDO ANDRADE DE JESUS      29       PCO  https://divulgacandcontas.tse.jus.br/candidatu...         0.00                      0.00                0.00             0.00        1350.00             0              0            3      0.05%     3100"
      ]
     },
     "execution_count": 51,
     "metadata": {},
     "output_type": "execute_result"
    }
   ],
   "source": [
    "df_gov_simple = df_gov[[\n",
    "    'nomeCompleto', 'numero', 'partido_y', 'fotoUrl',\n",
    "    # numeric Money\n",
    "    'totalDeBens', 'totalDespesasContratadas', 'totalDespesasPagas',\n",
    "    'totalFinanceiro', 'totalRecebido', 'qtdReceitaPF', 'qtdFinanceiro',\n",
    "    'qtdRecebido',\n",
    "    # gazeta\n",
    "    'percentage', 'votes'\n",
    "]]\n",
    "\n",
    "money_feats = [\n",
    "    'totalDeBens', 'totalDespesasContratadas', 'totalDespesasPagas',\n",
    "    'totalFinanceiro', 'totalRecebido', 'qtdReceitaPF', 'qtdFinanceiro',\n",
    "    'qtdRecebido',\n",
    "]\n",
    "\n",
    "\n",
    "\n",
    "df_gov_simple = df_gov_simple.sort_values(by=['votes'], ascending=False).reset_index(drop=True)\n",
    "df_gov_simple.head(10)"
   ]
  },
  {
   "cell_type": "markdown",
   "id": "dde1fe50",
   "metadata": {},
   "source": [
    "# Correlation"
   ]
  },
  {
   "cell_type": "markdown",
   "id": "44db428e",
   "metadata": {},
   "source": [
    "## HeatMap"
   ]
  },
  {
   "cell_type": "code",
   "execution_count": 49,
   "id": "f1064978",
   "metadata": {
    "ExecuteTime": {
     "end_time": "2022-04-27T22:17:06.771690Z",
     "start_time": "2022-04-27T22:17:06.375935Z"
    }
   },
   "outputs": [
    {
     "data": {
      "text/plain": [
       "<AxesSubplot:>"
      ]
     },
     "execution_count": 49,
     "metadata": {},
     "output_type": "execute_result"
    },
    {
     "data": {
      "image/png": "[encoded data removed]",
      "text/plain": [
       "<Figure size 792x648 with 2 Axes>"
      ]
     },
     "metadata": {
      "needs_background": "light"
     },
     "output_type": "display_data"
    }
   ],
   "source": [
    "import matplotlib.pyplot as plt\n",
    "import seaborn as sns\n",
    "\n",
    "# Compute the correlation matrix\n",
    "corr = df_gov_simple.corr()\n",
    "\n",
    "# Generate a mask for the upper triangle\n",
    "mask = np.triu(np.ones_like(corr, dtype=bool))\n",
    "\n",
    "# Set up the matplotlib figure\n",
    "f, ax = plt.subplots(figsize=(11, 9))\n",
    "\n",
    "# Generate a custom diverging colormap\n",
    "cmap = sns.diverging_palette(230, 20, as_cmap=True)\n",
    "\n",
    "# Draw the heatmap with the mask and correct aspect ratio\n",
    "sns.heatmap(corr, mask=mask, cmap=cmap, vmax=.3, center=0,\n",
    "            square=True, linewidths=.5, cbar_kws={\"shrink\": .5})"
   ]
  },
  {
   "cell_type": "code",
   "execution_count": 46,
   "id": "6bbdd3b7",
   "metadata": {
    "ExecuteTime": {
     "end_time": "2022-04-27T22:15:43.237509Z",
     "start_time": "2022-04-27T22:15:43.225522Z"
    }
   },
   "outputs": [],
   "source": [
    "def plot_top_rank_correlation(my_df, column_target, max_rank=''):\n",
    "    corr_matrix = my_df.corr()\n",
    "    top_rank = len(corr_matrix) if max_rank == '' else int(max_rank)\n",
    "    f, ax1 = plt.subplots(ncols=1, figsize=(18, 6), sharex=False)\n",
    "\n",
    "    ax1.set_title('Top {} Correlations to \"{}\"'.format(top_rank, column_target))\n",
    "    \n",
    "    cols_top = corr_matrix.nlargest(top_rank, column_target)[column_target].index\n",
    "    cm = np.corrcoef(my_df[cols_top].values.T)\n",
    "    mask = np.zeros_like(cm)\n",
    "    mask[np.triu_indices_from(mask)] = True\n",
    "    hm = sns.heatmap(cm, cbar=True, annot=True, square=True, fmt='.2f',\n",
    "                     annot_kws={'size': 10}, yticklabels=cols_top.values,\n",
    "                     xticklabels=cols_top.values, mask=mask, ax=ax1)\n",
    "    \n",
    "    plt.show()"
   ]
  },
  {
   "cell_type": "code",
   "execution_count": 50,
   "id": "7abb954f",
   "metadata": {
    "ExecuteTime": {
     "end_time": "2022-04-27T22:17:15.203434Z",
     "start_time": "2022-04-27T22:17:14.720002Z"
    },
    "scrolled": true
   },
   "outputs": [
    {
     "data": {
      "image/png": "[encoded data removed]",
      "text/plain": [
       "<Figure size 1296x432 with 2 Axes>"
      ]
     },
     "metadata": {
      "needs_background": "light"
     },
     "output_type": "display_data"
    }
   ],
   "source": [
    "plot_top_rank_correlation(df_gov_simple.drop(['numero'], axis='columns'), 'votes')"
   ]
  },
  {
   "cell_type": "code",
   "execution_count": 67,
   "id": "0104bc1b",
   "metadata": {
    "ExecuteTime": {
     "end_time": "2022-04-27T22:35:23.061315Z",
     "start_time": "2022-04-27T22:35:21.578228Z"
    },
    "scrolled": true
   },
   "outputs": [
    {
     "data": {
      "image/png": "[encoded data removed]",
      "text/plain": [
       "<Figure size 1296x432 with 2 Axes>"
      ]
     },
     "metadata": {
      "needs_background": "light"
     },
     "output_type": "display_data"
    }
   ],
   "source": [
    "plot_top_rank_correlation(df_gov.drop(['numero'], axis='columns'), 'votes', 19)"
   ]
  },
  {
   "cell_type": "code",
   "execution_count": 72,
   "id": "9a9dbc66",
   "metadata": {
    "ExecuteTime": {
     "end_time": "2022-04-27T22:37:30.722844Z",
     "start_time": "2022-04-27T22:37:30.191384Z"
    }
   },
   "outputs": [
    {
     "data": {
      "image/png": "[encoded data removed]",
      "text/plain": [
       "<Figure size 1296x432 with 2 Axes>"
      ]
     },
     "metadata": {
      "needs_background": "light"
     },
     "output_type": "display_data"
    }
   ],
   "source": [
    "plot_bottom_rank_correlation(df_gov.drop(['numero', 'id', 'id_tse', 'dividaCampanha'], axis='columns'), 'votes', 10)"
   ]
  },
  {
   "cell_type": "markdown",
   "id": "77240a11",
   "metadata": {},
   "source": [
    "## Scatter plots"
   ]
  },
  {
   "cell_type": "code",
   "execution_count": 52,
   "id": "5295126c",
   "metadata": {
    "ExecuteTime": {
     "end_time": "2022-04-27T22:19:04.582105Z",
     "start_time": "2022-04-27T22:19:04.567109Z"
    },
    "scrolled": true
   },
   "outputs": [
    {
     "data": {
      "text/plain": [
       "['totalDeBens',\n",
       " 'totalDespesasContratadas',\n",
       " 'totalDespesasPagas',\n",
       " 'totalFinanceiro',\n",
       " 'totalRecebido',\n",
       " 'qtdReceitaPF',\n",
       " 'qtdFinanceiro',\n",
       " 'qtdRecebido']"
      ]
     },
     "execution_count": 52,
     "metadata": {},
     "output_type": "execute_result"
    }
   ],
   "source": [
    "money_feats"
   ]
  },
  {
   "cell_type": "code",
   "execution_count": 61,
   "id": "ca7355cc",
   "metadata": {
    "ExecuteTime": {
     "end_time": "2022-04-27T22:26:54.043813Z",
     "start_time": "2022-04-27T22:26:54.027831Z"
    }
   },
   "outputs": [],
   "source": [
    "def scatter_corr_money_votes(money_feat):\n",
    "    fig = px.scatter(df_gov, x=money_feat, y=\"percent_votes\",\n",
    "                     color=\"percent_votes\",\n",
    "                     hover_data=['nomeUrna', 'numero', 'votes', 'nomePartido'],\n",
    "                     trendline=\"ols\",\n",
    "                     title= money_feat + \" vs Votes\")\n",
    "    fig.show()"
   ]
  },
  {
   "cell_type": "code",
   "execution_count": 62,
   "id": "142e4cba",
   "metadata": {
    "ExecuteTime": {
     "end_time": "2022-04-27T22:26:55.010747Z",
     "start_time": "2022-04-27T22:26:54.893815Z"
    }
   },
   "outputs": [
    {
     "data": {
      "application/vnd.plotly.v1+json": {
       "config": {
        "plotlyServerURL": "https://plot.ly"
       },
       "data": [
        {
         "customdata": [
          [
           "CÉLIA SACRAMENTO",
           18,
           31198,
           "Rede Sustentabilidade"
          ],
          [
           "JOÃO HENRIQUE DURVAL CARNEIRO",
           28,
           38960,
           "Partido Renovador Trabalhista Brasileiro"
          ],
          [
           "JOÃO SANTANA",
           15,
           33266,
           "Movimento Democrático Brasileiro"
          ],
          [
           "MARCOS MENDES",
           50,
           44702,
           "Partido Socialismo e Liberdade"
          ],
          [
           "ORLANDO ANDRADE",
           29,
           3100,
           "Partido da Causa Operária"
          ],
          [
           "RUI COSTA",
           13,
           5096062,
           "Partido dos Trabalhadores"
          ],
          [
           "ZÉ RONALDO",
           25,
           1502266,
           "Democratas"
          ]
         ],
         "hovertemplate": "totalDeBens=%{x}<br>percent_votes=%{marker.color}<br>nomeUrna=%{customdata[0]}<br>numero=%{customdata[1]}<br>votes=%{customdata[2]}<br>nomePartido=%{customdata[3]}<extra></extra>",
         "legendgroup": "",
         "marker": {
          "color": [
           0.46,
           0.58,
           0.49,
           0.66,
           0.05,
           75.5,
           22.26
          ],
          "coloraxis": "coloraxis",
          "symbol": "circle"
         },
         "mode": "markers",
         "name": "",
         "orientation": "v",
         "showlegend": false,
         "type": "scatter",
         "x": [
          1198000,
          1502885.55,
          320541.42,
          315000,
          0,
          674317.43,
          2110905.72
         ],
         "xaxis": "x",
         "y": [
          0.46,
          0.58,
          0.49,
          0.66,
          0.05,
          75.5,
          22.26
         ],
         "yaxis": "y"
        },
        {
         "hovertemplate": "<b>OLS trendline</b><br>percent_votes = 3.54343e-06 * totalDeBens + 11.1869<br>R<sup>2</sup>=0.009092<br><br>totalDeBens=%{x}<br>percent_votes=%{y} <b>(trend)</b><extra></extra>",
         "legendgroup": "",
         "marker": {
          "symbol": "circle"
         },
         "mode": "lines",
         "name": "",
         "showlegend": false,
         "type": "scatter",
         "x": [
          0,
          315000,
          320541.42,
          674317.43,
          1198000,
          1502885.55,
          2110905.72
         ],
         "xaxis": "x",
         "y": [
          11.186908025548266,
          12.303088739853134,
          12.322724378373334,
          13.576305202328019,
          15.431938170745823,
          16.512279031000528,
          18.6667564521509
         ],
         "yaxis": "y"
        }
       ],
       "layout": {
        "coloraxis": {
         "colorbar": {
          "title": {
           "text": "percent_votes"
          }
         },
         "colorscale": [
          [
           0,
           "#0d0887"
          ],
          [
           0.1111111111111111,
           "#46039f"
          ],
          [
           0.2222222222222222,
           "#7201a8"
          ],
          [
           0.3333333333333333,
           "#9c179e"
          ],
          [
           0.4444444444444444,
           "#bd3786"
          ],
          [
           0.5555555555555556,
           "#d8576b"
          ],
          [
           0.6666666666666666,
           "#ed7953"
          ],
          [
           0.7777777777777778,
           "#fb9f3a"
          ],
          [
           0.8888888888888888,
           "#fdca26"
          ],
          [
           1,
           "#f0f921"
          ]
         ]
        },
        "legend": {
         "tracegroupgap": 0
        },
        "template": {
         "data": {
          "bar": [
           {
            "error_x": {
             "color": "#2a3f5f"
            },
            "error_y": {
             "color": "#2a3f5f"
            },
            "marker": {
             "line": {
              "color": "#E5ECF6",
              "width": 0.5
             },
             "pattern": {
              "fillmode": "overlay",
              "size": 10,
              "solidity": 0.2
             }
            },
            "type": "bar"
           }
          ],
          "barpolar": [
           {
            "marker": {
             "line": {
              "color": "#E5ECF6",
              "width": 0.5
             },
             "pattern": {
              "fillmode": "overlay",
              "size": 10,
              "solidity": 0.2
             }
            },
            "type": "barpolar"
           }
          ],
          "carpet": [
           {
            "aaxis": {
             "endlinecolor": "#2a3f5f",
             "gridcolor": "white",
             "linecolor": "white",
             "minorgridcolor": "white",
             "startlinecolor": "#2a3f5f"
            },
            "baxis": {
             "endlinecolor": "#2a3f5f",
             "gridcolor": "white",
             "linecolor": "white",
             "minorgridcolor": "white",
             "startlinecolor": "#2a3f5f"
            },
            "type": "carpet"
           }
          ],
          "choropleth": [
           {
            "colorbar": {
             "outlinewidth": 0,
             "ticks": ""
            },
            "type": "choropleth"
           }
          ],
          "contour": [
           {
            "colorbar": {
             "outlinewidth": 0,
             "ticks": ""
            },
            "colorscale": [
             [
              0,
              "#0d0887"
             ],
             [
              0.1111111111111111,
              "#46039f"
             ],
             [
              0.2222222222222222,
              "#7201a8"
             ],
             [
              0.3333333333333333,
              "#9c179e"
             ],
             [
              0.4444444444444444,
              "#bd3786"
             ],
             [
              0.5555555555555556,
              "#d8576b"
             ],
             [
              0.6666666666666666,
              "#ed7953"
             ],
             [
              0.7777777777777778,
              "#fb9f3a"
             ],
             [
              0.8888888888888888,
              "#fdca26"
             ],
             [
              1,
              "#f0f921"
             ]
            ],
            "type": "contour"
           }
          ],
          "contourcarpet": [
           {
            "colorbar": {
             "outlinewidth": 0,
             "ticks": ""
            },
            "type": "contourcarpet"
           }
          ],
          "heatmap": [
           {
            "colorbar": {
             "outlinewidth": 0,
             "ticks": ""
            },
            "colorscale": [
             [
              0,
              "#0d0887"
             ],
             [
              0.1111111111111111,
              "#46039f"
             ],
             [
              0.2222222222222222,
              "#7201a8"
             ],
             [
              0.3333333333333333,
              "#9c179e"
             ],
             [
              0.4444444444444444,
              "#bd3786"
             ],
             [
              0.5555555555555556,
              "#d8576b"
             ],
             [
              0.6666666666666666,
              "#ed7953"
             ],
             [
              0.7777777777777778,
              "#fb9f3a"
             ],
             [
              0.8888888888888888,
              "#fdca26"
             ],
             [
              1,
              "#f0f921"
             ]
            ],
            "type": "heatmap"
           }
          ],
          "heatmapgl": [
           {
            "colorbar": {
             "outlinewidth": 0,
             "ticks": ""
            },
            "colorscale": [
             [
              0,
              "#0d0887"
             ],
             [
              0.1111111111111111,
              "#46039f"
             ],
             [
              0.2222222222222222,
              "#7201a8"
             ],
             [
              0.3333333333333333,
              "#9c179e"
             ],
             [
              0.4444444444444444,
              "#bd3786"
             ],
             [
              0.5555555555555556,
              "#d8576b"
             ],
             [
              0.6666666666666666,
              "#ed7953"
             ],
             [
              0.7777777777777778,
              "#fb9f3a"
             ],
             [
              0.8888888888888888,
              "#fdca26"
             ],
             [
              1,
              "#f0f921"
             ]
            ],
            "type": "heatmapgl"
           }
          ],
          "histogram": [
           {
            "marker": {
             "pattern": {
              "fillmode": "overlay",
              "size": 10,
              "solidity": 0.2
             }
            },
            "type": "histogram"
           }
          ],
          "histogram2d": [
           {
            "colorbar": {
             "outlinewidth": 0,
             "ticks": ""
            },
            "colorscale": [
             [
              0,
              "#0d0887"
             ],
             [
              0.1111111111111111,
              "#46039f"
             ],
             [
              0.2222222222222222,
              "#7201a8"
             ],
             [
              0.3333333333333333,
              "#9c179e"
             ],
             [
              0.4444444444444444,
              "#bd3786"
             ],
             [
              0.5555555555555556,
              "#d8576b"
             ],
             [
              0.6666666666666666,
              "#ed7953"
             ],
             [
              0.7777777777777778,
              "#fb9f3a"
             ],
             [
              0.8888888888888888,
              "#fdca26"
             ],
             [
              1,
              "#f0f921"
             ]
            ],
            "type": "histogram2d"
           }
          ],
          "histogram2dcontour": [
           {
            "colorbar": {
             "outlinewidth": 0,
             "ticks": ""
            },
            "colorscale": [
             [
              0,
              "#0d0887"
             ],
             [
              0.1111111111111111,
              "#46039f"
             ],
             [
              0.2222222222222222,
              "#7201a8"
             ],
             [
              0.3333333333333333,
              "#9c179e"
             ],
             [
              0.4444444444444444,
              "#bd3786"
             ],
             [
              0.5555555555555556,
              "#d8576b"
             ],
             [
              0.6666666666666666,
              "#ed7953"
             ],
             [
              0.7777777777777778,
              "#fb9f3a"
             ],
             [
              0.8888888888888888,
              "#fdca26"
             ],
             [
              1,
              "#f0f921"
             ]
            ],
            "type": "histogram2dcontour"
           }
          ],
          "mesh3d": [
           {
            "colorbar": {
             "outlinewidth": 0,
             "ticks": ""
            },
            "type": "mesh3d"
           }
          ],
          "parcoords": [
           {
            "line": {
             "colorbar": {
              "outlinewidth": 0,
              "ticks": ""
             }
            },
            "type": "parcoords"
           }
          ],
          "pie": [
           {
            "automargin": true,
            "type": "pie"
           }
          ],
          "scatter": [
           {
            "fillpattern": {
             "fillmode": "overlay",
             "size": 10,
             "solidity": 0.2
            },
            "type": "scatter"
           }
          ],
          "scatter3d": [
           {
            "line": {
             "colorbar": {
              "outlinewidth": 0,
              "ticks": ""
             }
            },
            "marker": {
             "colorbar": {
              "outlinewidth": 0,
              "ticks": ""
             }
            },
            "type": "scatter3d"
           }
          ],
          "scattercarpet": [
           {
            "marker": {
             "colorbar": {
              "outlinewidth": 0,
              "ticks": ""
             }
            },
            "type": "scattercarpet"
           }
          ],
          "scattergeo": [
           {
            "marker": {
             "colorbar": {
              "outlinewidth": 0,
              "ticks": ""
             }
            },
            "type": "scattergeo"
           }
          ],
          "scattergl": [
           {
            "marker": {
             "colorbar": {
              "outlinewidth": 0,
              "ticks": ""
             }
            },
            "type": "scattergl"
           }
          ],
          "scattermapbox": [
           {
            "marker": {
             "colorbar": {
              "outlinewidth": 0,
              "ticks": ""
             }
            },
            "type": "scattermapbox"
           }
          ],
          "scatterpolar": [
           {
            "marker": {
             "colorbar": {
              "outlinewidth": 0,
              "ticks": ""
             }
            },
            "type": "scatterpolar"
           }
          ],
          "scatterpolargl": [
           {
            "marker": {
             "colorbar": {
              "outlinewidth": 0,
              "ticks": ""
             }
            },
            "type": "scatterpolargl"
           }
          ],
          "scatterternary": [
           {
            "marker": {
             "colorbar": {
              "outlinewidth": 0,
              "ticks": ""
             }
            },
            "type": "scatterternary"
           }
          ],
          "surface": [
           {
            "colorbar": {
             "outlinewidth": 0,
             "ticks": ""
            },
            "colorscale": [
             [
              0,
              "#0d0887"
             ],
             [
              0.1111111111111111,
              "#46039f"
             ],
             [
              0.2222222222222222,
              "#7201a8"
             ],
             [
              0.3333333333333333,
              "#9c179e"
             ],
             [
              0.4444444444444444,
              "#bd3786"
             ],
             [
              0.5555555555555556,
              "#d8576b"
             ],
             [
              0.6666666666666666,
              "#ed7953"
             ],
             [
              0.7777777777777778,
              "#fb9f3a"
             ],
             [
              0.8888888888888888,
              "#fdca26"
             ],
             [
              1,
              "#f0f921"
             ]
            ],
            "type": "surface"
           }
          ],
          "table": [
           {
            "cells": {
             "fill": {
              "color": "#EBF0F8"
             },
             "line": {
              "color": "white"
             }
            },
            "header": {
             "fill": {
              "color": "#C8D4E3"
             },
             "line": {
              "color": "white"
             }
            },
            "type": "table"
           }
          ]
         },
         "layout": {
          "annotationdefaults": {
           "arrowcolor": "#2a3f5f",
           "arrowhead": 0,
           "arrowwidth": 1
          },
          "autotypenumbers": "strict",
          "coloraxis": {
           "colorbar": {
            "outlinewidth": 0,
            "ticks": ""
           }
          },
          "colorscale": {
           "diverging": [
            [
             0,
             "#8e0152"
            ],
            [
             0.1,
             "#c51b7d"
            ],
            [
             0.2,
             "#de77ae"
            ],
            [
             0.3,
             "#f1b6da"
            ],
            [
             0.4,
             "#fde0ef"
            ],
            [
             0.5,
             "#f7f7f7"
            ],
            [
             0.6,
             "#e6f5d0"
            ],
            [
             0.7,
             "#b8e186"
            ],
            [
             0.8,
             "#7fbc41"
            ],
            [
             0.9,
             "#4d9221"
            ],
            [
             1,
             "#276419"
            ]
           ],
           "sequential": [
            [
             0,
             "#0d0887"
            ],
            [
             0.1111111111111111,
             "#46039f"
            ],
            [
             0.2222222222222222,
             "#7201a8"
            ],
            [
             0.3333333333333333,
             "#9c179e"
            ],
            [
             0.4444444444444444,
             "#bd3786"
            ],
            [
             0.5555555555555556,
             "#d8576b"
            ],
            [
             0.6666666666666666,
             "#ed7953"
            ],
            [
             0.7777777777777778,
             "#fb9f3a"
            ],
            [
             0.8888888888888888,
             "#fdca26"
            ],
            [
             1,
             "#f0f921"
            ]
           ],
           "sequentialminus": [
            [
             0,
             "#0d0887"
            ],
            [
             0.1111111111111111,
             "#46039f"
            ],
            [
             0.2222222222222222,
             "#7201a8"
            ],
            [
             0.3333333333333333,
             "#9c179e"
            ],
            [
             0.4444444444444444,
             "#bd3786"
            ],
            [
             0.5555555555555556,
             "#d8576b"
            ],
            [
             0.6666666666666666,
             "#ed7953"
            ],
            [
             0.7777777777777778,
             "#fb9f3a"
            ],
            [
             0.8888888888888888,
             "#fdca26"
            ],
            [
             1,
             "#f0f921"
            ]
           ]
          },
          "colorway": [
           "#636efa",
           "#EF553B",
           "#00cc96",
           "#ab63fa",
           "#FFA15A",
           "#19d3f3",
           "#FF6692",
           "#B6E880",
           "#FF97FF",
           "#FECB52"
          ],
          "font": {
           "color": "#2a3f5f"
          },
          "geo": {
           "bgcolor": "white",
           "lakecolor": "white",
           "landcolor": "#E5ECF6",
           "showlakes": true,
           "showland": true,
           "subunitcolor": "white"
          },
          "hoverlabel": {
           "align": "left"
          },
          "hovermode": "closest",
          "mapbox": {
           "style": "light"
          },
          "paper_bgcolor": "white",
          "plot_bgcolor": "#E5ECF6",
          "polar": {
           "angularaxis": {
            "gridcolor": "white",
            "linecolor": "white",
            "ticks": ""
           },
           "bgcolor": "#E5ECF6",
           "radialaxis": {
            "gridcolor": "white",
            "linecolor": "white",
            "ticks": ""
           }
          },
          "scene": {
           "xaxis": {
            "backgroundcolor": "#E5ECF6",
            "gridcolor": "white",
            "gridwidth": 2,
            "linecolor": "white",
            "showbackground": true,
            "ticks": "",
            "zerolinecolor": "white"
           },
           "yaxis": {
            "backgroundcolor": "#E5ECF6",
            "gridcolor": "white",
            "gridwidth": 2,
            "linecolor": "white",
            "showbackground": true,
            "ticks": "",
            "zerolinecolor": "white"
           },
           "zaxis": {
            "backgroundcolor": "#E5ECF6",
            "gridcolor": "white",
            "gridwidth": 2,
            "linecolor": "white",
            "showbackground": true,
            "ticks": "",
            "zerolinecolor": "white"
           }
          },
          "shapedefaults": {
           "line": {
            "color": "#2a3f5f"
           }
          },
          "ternary": {
           "aaxis": {
            "gridcolor": "white",
            "linecolor": "white",
            "ticks": ""
           },
           "baxis": {
            "gridcolor": "white",
            "linecolor": "white",
            "ticks": ""
           },
           "bgcolor": "#E5ECF6",
           "caxis": {
            "gridcolor": "white",
            "linecolor": "white",
            "ticks": ""
           }
          },
          "title": {
           "x": 0.05
          },
          "xaxis": {
           "automargin": true,
           "gridcolor": "white",
           "linecolor": "white",
           "ticks": "",
           "title": {
            "standoff": 15
           },
           "zerolinecolor": "white",
           "zerolinewidth": 2
          },
          "yaxis": {
           "automargin": true,
           "gridcolor": "white",
           "linecolor": "white",
           "ticks": "",
           "title": {
            "standoff": 15
           },
           "zerolinecolor": "white",
           "zerolinewidth": 2
          }
         }
        },
        "title": {
         "text": "totalDeBens vs Votes"
        },
        "xaxis": {
         "anchor": "y",
         "domain": [
          0,
          1
         ],
         "title": {
          "text": "totalDeBens"
         }
        },
        "yaxis": {
         "anchor": "x",
         "domain": [
          0,
          1
         ],
         "title": {
          "text": "percent_votes"
         }
        }
       }
      },
      "text/html": [
       "<div>                            <div id=\"320bb0cb-d2aa-4dbb-85b3-6981db3728d2\" class=\"plotly-graph-div\" style=\"height:525px; width:100%;\"></div>            <script type=\"text/javascript\">                require([\"plotly\"], function(Plotly) {                    window.PLOTLYENV=window.PLOTLYENV || {};                                    if (document.getElementById(\"320bb0cb-d2aa-4dbb-85b3-6981db3728d2\")) {                    Plotly.newPlot(                        \"320bb0cb-d2aa-4dbb-85b3-6981db3728d2\",                        [{\"customdata\":[[\"C\\u00c9LIA SACRAMENTO\",18,31198,\"Rede Sustentabilidade\"],[\"JO\\u00c3O HENRIQUE DURVAL CARNEIRO\",28,38960,\"Partido Renovador Trabalhista Brasileiro\"],[\"JO\\u00c3O SANTANA\",15,33266,\"Movimento Democr\\u00e1tico Brasileiro\"],[\"MARCOS MENDES\",50,44702,\"Partido Socialismo e Liberdade\"],[\"ORLANDO ANDRADE\",29,3100,\"Partido da Causa Oper\\u00e1ria\"],[\"RUI COSTA\",13,5096062,\"Partido dos Trabalhadores\"],[\"Z\\u00c9 RONALDO\",25,1502266,\"Democratas\"]],\"hovertemplate\":\"totalDeBens=%{x}<br>percent_votes=%{marker.color}<br>nomeUrna=%{customdata[0]}<br>numero=%{customdata[1]}<br>votes=%{customdata[2]}<br>nomePartido=%{customdata[3]}<extra></extra>\",\"legendgroup\":\"\",\"marker\":{\"color\":[0.46,0.58,0.49,0.66,0.05,75.5,22.26],\"coloraxis\":\"coloraxis\",\"symbol\":\"circle\"},\"mode\":\"markers\",\"name\":\"\",\"orientation\":\"v\",\"showlegend\":false,\"x\":[1198000.0,1502885.55,320541.42,315000.0,0.0,674317.43,2110905.72],\"xaxis\":\"x\",\"y\":[0.46,0.58,0.49,0.66,0.05,75.5,22.26],\"yaxis\":\"y\",\"type\":\"scatter\"},{\"hovertemplate\":\"<b>OLS trendline</b><br>percent_votes = 3.54343e-06 * totalDeBens + 11.1869<br>R<sup>2</sup>=0.009092<br><br>totalDeBens=%{x}<br>percent_votes=%{y} <b>(trend)</b><extra></extra>\",\"legendgroup\":\"\",\"marker\":{\"symbol\":\"circle\"},\"mode\":\"lines\",\"name\":\"\",\"showlegend\":false,\"x\":[0.0,315000.0,320541.42,674317.43,1198000.0,1502885.55,2110905.72],\"xaxis\":\"x\",\"y\":[11.186908025548266,12.303088739853134,12.322724378373334,13.576305202328019,15.431938170745823,16.512279031000528,18.6667564521509],\"yaxis\":\"y\",\"type\":\"scatter\"}],                        {\"template\":{\"data\":{\"histogram2dcontour\":[{\"type\":\"histogram2dcontour\",\"colorbar\":{\"outlinewidth\":0,\"ticks\":\"\"},\"colorscale\":[[0.0,\"#0d0887\"],[0.1111111111111111,\"#46039f\"],[0.2222222222222222,\"#7201a8\"],[0.3333333333333333,\"#9c179e\"],[0.4444444444444444,\"#bd3786\"],[0.5555555555555556,\"#d8576b\"],[0.6666666666666666,\"#ed7953\"],[0.7777777777777778,\"#fb9f3a\"],[0.8888888888888888,\"#fdca26\"],[1.0,\"#f0f921\"]]}],\"choropleth\":[{\"type\":\"choropleth\",\"colorbar\":{\"outlinewidth\":0,\"ticks\":\"\"}}],\"histogram2d\":[{\"type\":\"histogram2d\",\"colorbar\":{\"outlinewidth\":0,\"ticks\":\"\"},\"colorscale\":[[0.0,\"#0d0887\"],[0.1111111111111111,\"#46039f\"],[0.2222222222222222,\"#7201a8\"],[0.3333333333333333,\"#9c179e\"],[0.4444444444444444,\"#bd3786\"],[0.5555555555555556,\"#d8576b\"],[0.6666666666666666,\"#ed7953\"],[0.7777777777777778,\"#fb9f3a\"],[0.8888888888888888,\"#fdca26\"],[1.0,\"#f0f921\"]]}],\"heatmap\":[{\"type\":\"heatmap\",\"colorbar\":{\"outlinewidth\":0,\"ticks\":\"\"},\"colorscale\":[[0.0,\"#0d0887\"],[0.1111111111111111,\"#46039f\"],[0.2222222222222222,\"#7201a8\"],[0.3333333333333333,\"#9c179e\"],[0.4444444444444444,\"#bd3786\"],[0.5555555555555556,\"#d8576b\"],[0.6666666666666666,\"#ed7953\"],[0.7777777777777778,\"#fb9f3a\"],[0.8888888888888888,\"#fdca26\"],[1.0,\"#f0f921\"]]}],\"heatmapgl\":[{\"type\":\"heatmapgl\",\"colorbar\":{\"outlinewidth\":0,\"ticks\":\"\"},\"colorscale\":[[0.0,\"#0d0887\"],[0.1111111111111111,\"#46039f\"],[0.2222222222222222,\"#7201a8\"],[0.3333333333333333,\"#9c179e\"],[0.4444444444444444,\"#bd3786\"],[0.5555555555555556,\"#d8576b\"],[0.6666666666666666,\"#ed7953\"],[0.7777777777777778,\"#fb9f3a\"],[0.8888888888888888,\"#fdca26\"],[1.0,\"#f0f921\"]]}],\"contourcarpet\":[{\"type\":\"contourcarpet\",\"colorbar\":{\"outlinewidth\":0,\"ticks\":\"\"}}],\"contour\":[{\"type\":\"contour\",\"colorbar\":{\"outlinewidth\":0,\"ticks\":\"\"},\"colorscale\":[[0.0,\"#0d0887\"],[0.1111111111111111,\"#46039f\"],[0.2222222222222222,\"#7201a8\"],[0.3333333333333333,\"#9c179e\"],[0.4444444444444444,\"#bd3786\"],[0.5555555555555556,\"#d8576b\"],[0.6666666666666666,\"#ed7953\"],[0.7777777777777778,\"#fb9f3a\"],[0.8888888888888888,\"#fdca26\"],[1.0,\"#f0f921\"]]}],\"surface\":[{\"type\":\"surface\",\"colorbar\":{\"outlinewidth\":0,\"ticks\":\"\"},\"colorscale\":[[0.0,\"#0d0887\"],[0.1111111111111111,\"#46039f\"],[0.2222222222222222,\"#7201a8\"],[0.3333333333333333,\"#9c179e\"],[0.4444444444444444,\"#bd3786\"],[0.5555555555555556,\"#d8576b\"],[0.6666666666666666,\"#ed7953\"],[0.7777777777777778,\"#fb9f3a\"],[0.8888888888888888,\"#fdca26\"],[1.0,\"#f0f921\"]]}],\"mesh3d\":[{\"type\":\"mesh3d\",\"colorbar\":{\"outlinewidth\":0,\"ticks\":\"\"}}],\"scatter\":[{\"fillpattern\":{\"fillmode\":\"overlay\",\"size\":10,\"solidity\":0.2},\"type\":\"scatter\"}],\"parcoords\":[{\"type\":\"parcoords\",\"line\":{\"colorbar\":{\"outlinewidth\":0,\"ticks\":\"\"}}}],\"scatterpolargl\":[{\"type\":\"scatterpolargl\",\"marker\":{\"colorbar\":{\"outlinewidth\":0,\"ticks\":\"\"}}}],\"bar\":[{\"error_x\":{\"color\":\"#2a3f5f\"},\"error_y\":{\"color\":\"#2a3f5f\"},\"marker\":{\"line\":{\"color\":\"#E5ECF6\",\"width\":0.5},\"pattern\":{\"fillmode\":\"overlay\",\"size\":10,\"solidity\":0.2}},\"type\":\"bar\"}],\"scattergeo\":[{\"type\":\"scattergeo\",\"marker\":{\"colorbar\":{\"outlinewidth\":0,\"ticks\":\"\"}}}],\"scatterpolar\":[{\"type\":\"scatterpolar\",\"marker\":{\"colorbar\":{\"outlinewidth\":0,\"ticks\":\"\"}}}],\"histogram\":[{\"marker\":{\"pattern\":{\"fillmode\":\"overlay\",\"size\":10,\"solidity\":0.2}},\"type\":\"histogram\"}],\"scattergl\":[{\"type\":\"scattergl\",\"marker\":{\"colorbar\":{\"outlinewidth\":0,\"ticks\":\"\"}}}],\"scatter3d\":[{\"type\":\"scatter3d\",\"line\":{\"colorbar\":{\"outlinewidth\":0,\"ticks\":\"\"}},\"marker\":{\"colorbar\":{\"outlinewidth\":0,\"ticks\":\"\"}}}],\"scattermapbox\":[{\"type\":\"scattermapbox\",\"marker\":{\"colorbar\":{\"outlinewidth\":0,\"ticks\":\"\"}}}],\"scatterternary\":[{\"type\":\"scatterternary\",\"marker\":{\"colorbar\":{\"outlinewidth\":0,\"ticks\":\"\"}}}],\"scattercarpet\":[{\"type\":\"scattercarpet\",\"marker\":{\"colorbar\":{\"outlinewidth\":0,\"ticks\":\"\"}}}],\"carpet\":[{\"aaxis\":{\"endlinecolor\":\"#2a3f5f\",\"gridcolor\":\"white\",\"linecolor\":\"white\",\"minorgridcolor\":\"white\",\"startlinecolor\":\"#2a3f5f\"},\"baxis\":{\"endlinecolor\":\"#2a3f5f\",\"gridcolor\":\"white\",\"linecolor\":\"white\",\"minorgridcolor\":\"white\",\"startlinecolor\":\"#2a3f5f\"},\"type\":\"carpet\"}],\"table\":[{\"cells\":{\"fill\":{\"color\":\"#EBF0F8\"},\"line\":{\"color\":\"white\"}},\"header\":{\"fill\":{\"color\":\"#C8D4E3\"},\"line\":{\"color\":\"white\"}},\"type\":\"table\"}],\"barpolar\":[{\"marker\":{\"line\":{\"color\":\"#E5ECF6\",\"width\":0.5},\"pattern\":{\"fillmode\":\"overlay\",\"size\":10,\"solidity\":0.2}},\"type\":\"barpolar\"}],\"pie\":[{\"automargin\":true,\"type\":\"pie\"}]},\"layout\":{\"autotypenumbers\":\"strict\",\"colorway\":[\"#636efa\",\"#EF553B\",\"#00cc96\",\"#ab63fa\",\"#FFA15A\",\"#19d3f3\",\"#FF6692\",\"#B6E880\",\"#FF97FF\",\"#FECB52\"],\"font\":{\"color\":\"#2a3f5f\"},\"hovermode\":\"closest\",\"hoverlabel\":{\"align\":\"left\"},\"paper_bgcolor\":\"white\",\"plot_bgcolor\":\"#E5ECF6\",\"polar\":{\"bgcolor\":\"#E5ECF6\",\"angularaxis\":{\"gridcolor\":\"white\",\"linecolor\":\"white\",\"ticks\":\"\"},\"radialaxis\":{\"gridcolor\":\"white\",\"linecolor\":\"white\",\"ticks\":\"\"}},\"ternary\":{\"bgcolor\":\"#E5ECF6\",\"aaxis\":{\"gridcolor\":\"white\",\"linecolor\":\"white\",\"ticks\":\"\"},\"baxis\":{\"gridcolor\":\"white\",\"linecolor\":\"white\",\"ticks\":\"\"},\"caxis\":{\"gridcolor\":\"white\",\"linecolor\":\"white\",\"ticks\":\"\"}},\"coloraxis\":{\"colorbar\":{\"outlinewidth\":0,\"ticks\":\"\"}},\"colorscale\":{\"sequential\":[[0.0,\"#0d0887\"],[0.1111111111111111,\"#46039f\"],[0.2222222222222222,\"#7201a8\"],[0.3333333333333333,\"#9c179e\"],[0.4444444444444444,\"#bd3786\"],[0.5555555555555556,\"#d8576b\"],[0.6666666666666666,\"#ed7953\"],[0.7777777777777778,\"#fb9f3a\"],[0.8888888888888888,\"#fdca26\"],[1.0,\"#f0f921\"]],\"sequentialminus\":[[0.0,\"#0d0887\"],[0.1111111111111111,\"#46039f\"],[0.2222222222222222,\"#7201a8\"],[0.3333333333333333,\"#9c179e\"],[0.4444444444444444,\"#bd3786\"],[0.5555555555555556,\"#d8576b\"],[0.6666666666666666,\"#ed7953\"],[0.7777777777777778,\"#fb9f3a\"],[0.8888888888888888,\"#fdca26\"],[1.0,\"#f0f921\"]],\"diverging\":[[0,\"#8e0152\"],[0.1,\"#c51b7d\"],[0.2,\"#de77ae\"],[0.3,\"#f1b6da\"],[0.4,\"#fde0ef\"],[0.5,\"#f7f7f7\"],[0.6,\"#e6f5d0\"],[0.7,\"#b8e186\"],[0.8,\"#7fbc41\"],[0.9,\"#4d9221\"],[1,\"#276419\"]]},\"xaxis\":{\"gridcolor\":\"white\",\"linecolor\":\"white\",\"ticks\":\"\",\"title\":{\"standoff\":15},\"zerolinecolor\":\"white\",\"automargin\":true,\"zerolinewidth\":2},\"yaxis\":{\"gridcolor\":\"white\",\"linecolor\":\"white\",\"ticks\":\"\",\"title\":{\"standoff\":15},\"zerolinecolor\":\"white\",\"automargin\":true,\"zerolinewidth\":2},\"scene\":{\"xaxis\":{\"backgroundcolor\":\"#E5ECF6\",\"gridcolor\":\"white\",\"linecolor\":\"white\",\"showbackground\":true,\"ticks\":\"\",\"zerolinecolor\":\"white\",\"gridwidth\":2},\"yaxis\":{\"backgroundcolor\":\"#E5ECF6\",\"gridcolor\":\"white\",\"linecolor\":\"white\",\"showbackground\":true,\"ticks\":\"\",\"zerolinecolor\":\"white\",\"gridwidth\":2},\"zaxis\":{\"backgroundcolor\":\"#E5ECF6\",\"gridcolor\":\"white\",\"linecolor\":\"white\",\"showbackground\":true,\"ticks\":\"\",\"zerolinecolor\":\"white\",\"gridwidth\":2}},\"shapedefaults\":{\"line\":{\"color\":\"#2a3f5f\"}},\"annotationdefaults\":{\"arrowcolor\":\"#2a3f5f\",\"arrowhead\":0,\"arrowwidth\":1},\"geo\":{\"bgcolor\":\"white\",\"landcolor\":\"#E5ECF6\",\"subunitcolor\":\"white\",\"showland\":true,\"showlakes\":true,\"lakecolor\":\"white\"},\"title\":{\"x\":0.05},\"mapbox\":{\"style\":\"light\"}}},\"xaxis\":{\"anchor\":\"y\",\"domain\":[0.0,1.0],\"title\":{\"text\":\"totalDeBens\"}},\"yaxis\":{\"anchor\":\"x\",\"domain\":[0.0,1.0],\"title\":{\"text\":\"percent_votes\"}},\"coloraxis\":{\"colorbar\":{\"title\":{\"text\":\"percent_votes\"}},\"colorscale\":[[0.0,\"#0d0887\"],[0.1111111111111111,\"#46039f\"],[0.2222222222222222,\"#7201a8\"],[0.3333333333333333,\"#9c179e\"],[0.4444444444444444,\"#bd3786\"],[0.5555555555555556,\"#d8576b\"],[0.6666666666666666,\"#ed7953\"],[0.7777777777777778,\"#fb9f3a\"],[0.8888888888888888,\"#fdca26\"],[1.0,\"#f0f921\"]]},\"legend\":{\"tracegroupgap\":0},\"title\":{\"text\":\"totalDeBens vs Votes\"}},                        {\"responsive\": true}                    ).then(function(){\n",
       "                            \n",
       "var gd = document.getElementById('320bb0cb-d2aa-4dbb-85b3-6981db3728d2');\n",
       "var x = new MutationObserver(function (mutations, observer) {{\n",
       "        var display = window.getComputedStyle(gd).display;\n",
       "        if (!display || display === 'none') {{\n",
       "            console.log([gd, 'removed!']);\n",
       "            Plotly.purge(gd);\n",
       "            observer.disconnect();\n",
       "        }}\n",
       "}});\n",
       "\n",
       "// Listen for the removal of the full notebook cells\n",
       "var notebookContainer = gd.closest('#notebook-container');\n",
       "if (notebookContainer) {{\n",
       "    x.observe(notebookContainer, {childList: true});\n",
       "}}\n",
       "\n",
       "// Listen for the clearing of the current output cell\n",
       "var outputEl = gd.closest('.output');\n",
       "if (outputEl) {{\n",
       "    x.observe(outputEl, {childList: true});\n",
       "}}\n",
       "\n",
       "                        })                };                });            </script>        </div>"
      ]
     },
     "metadata": {},
     "output_type": "display_data"
    }
   ],
   "source": [
    "scatter_corr_money_votes('totalDeBens')"
   ]
  },
  {
   "cell_type": "code",
   "execution_count": 65,
   "id": "ba1300e3",
   "metadata": {
    "ExecuteTime": {
     "end_time": "2022-04-27T22:31:32.189785Z",
     "start_time": "2022-04-27T22:31:32.046702Z"
    }
   },
   "outputs": [
    {
     "data": {
      "application/vnd.plotly.v1+json": {
       "config": {
        "plotlyServerURL": "https://plot.ly"
       },
       "data": [
        {
         "customdata": [
          [
           "CÉLIA SACRAMENTO",
           18,
           31198,
           "Rede Sustentabilidade"
          ],
          [
           "JOÃO HENRIQUE DURVAL CARNEIRO",
           28,
           38960,
           "Partido Renovador Trabalhista Brasileiro"
          ],
          [
           "JOÃO SANTANA",
           15,
           33266,
           "Movimento Democrático Brasileiro"
          ],
          [
           "MARCOS MENDES",
           50,
           44702,
           "Partido Socialismo e Liberdade"
          ],
          [
           "ORLANDO ANDRADE",
           29,
           3100,
           "Partido da Causa Operária"
          ],
          [
           "RUI COSTA",
           13,
           5096062,
           "Partido dos Trabalhadores"
          ],
          [
           "ZÉ RONALDO",
           25,
           1502266,
           "Democratas"
          ]
         ],
         "hovertemplate": "totalRecebido=%{x}<br>percent_votes=%{marker.color}<br>nomeUrna=%{customdata[0]}<br>numero=%{customdata[1]}<br>votes=%{customdata[2]}<br>nomePartido=%{customdata[3]}<extra></extra>",
         "legendgroup": "",
         "marker": {
          "color": [
           0.46,
           0.58,
           0.49,
           0.66,
           0.05,
           75.5,
           22.26
          ],
          "coloraxis": "coloraxis",
          "symbol": "circle"
         },
         "mode": "markers",
         "name": "",
         "orientation": "v",
         "showlegend": false,
         "type": "scatter",
         "x": [
          50301.15,
          1500,
          3386600,
          113141.87,
          1350,
          7476031,
          5196199.98
         ],
         "xaxis": "x",
         "y": [
          0.46,
          0.58,
          0.49,
          0.66,
          0.05,
          75.5,
          22.26
         ],
         "yaxis": "y"
        },
        {
         "hovertemplate": "<b>OLS trendline</b><br>percent_votes = 7.92837e-06 * totalRecebido + -4.09125<br>R<sup>2</sup>=0.748339<br><br>totalRecebido=%{x}<br>percent_votes=%{y} <b>(trend)</b><extra></extra>",
         "legendgroup": "",
         "marker": {
          "symbol": "circle"
         },
         "mode": "lines",
         "name": "",
         "showlegend": false,
         "type": "scatter",
         "x": [
          1350,
          1500,
          50301.15,
          113141.87,
          3386600,
          5196199.98,
          7476031
         ],
         "xaxis": "x",
         "y": [
          -4.080542796859468,
          -4.0793535419486515,
          -3.69244016000864,
          -3.194215927613598,
          22.758958448755088,
          37.10612953428026,
          55.181464443395
         ],
         "yaxis": "y"
        }
       ],
       "layout": {
        "coloraxis": {
         "colorbar": {
          "title": {
           "text": "percent_votes"
          }
         },
         "colorscale": [
          [
           0,
           "#0d0887"
          ],
          [
           0.1111111111111111,
           "#46039f"
          ],
          [
           0.2222222222222222,
           "#7201a8"
          ],
          [
           0.3333333333333333,
           "#9c179e"
          ],
          [
           0.4444444444444444,
           "#bd3786"
          ],
          [
           0.5555555555555556,
           "#d8576b"
          ],
          [
           0.6666666666666666,
           "#ed7953"
          ],
          [
           0.7777777777777778,
           "#fb9f3a"
          ],
          [
           0.8888888888888888,
           "#fdca26"
          ],
          [
           1,
           "#f0f921"
          ]
         ]
        },
        "legend": {
         "tracegroupgap": 0
        },
        "template": {
         "data": {
          "bar": [
           {
            "error_x": {
             "color": "#2a3f5f"
            },
            "error_y": {
             "color": "#2a3f5f"
            },
            "marker": {
             "line": {
              "color": "#E5ECF6",
              "width": 0.5
             },
             "pattern": {
              "fillmode": "overlay",
              "size": 10,
              "solidity": 0.2
             }
            },
            "type": "bar"
           }
          ],
          "barpolar": [
           {
            "marker": {
             "line": {
              "color": "#E5ECF6",
              "width": 0.5
             },
             "pattern": {
              "fillmode": "overlay",
              "size": 10,
              "solidity": 0.2
             }
            },
            "type": "barpolar"
           }
          ],
          "carpet": [
           {
            "aaxis": {
             "endlinecolor": "#2a3f5f",
             "gridcolor": "white",
             "linecolor": "white",
             "minorgridcolor": "white",
             "startlinecolor": "#2a3f5f"
            },
            "baxis": {
             "endlinecolor": "#2a3f5f",
             "gridcolor": "white",
             "linecolor": "white",
             "minorgridcolor": "white",
             "startlinecolor": "#2a3f5f"
            },
            "type": "carpet"
           }
          ],
          "choropleth": [
           {
            "colorbar": {
             "outlinewidth": 0,
             "ticks": ""
            },
            "type": "choropleth"
           }
          ],
          "contour": [
           {
            "colorbar": {
             "outlinewidth": 0,
             "ticks": ""
            },
            "colorscale": [
             [
              0,
              "#0d0887"
             ],
             [
              0.1111111111111111,
              "#46039f"
             ],
             [
              0.2222222222222222,
              "#7201a8"
             ],
             [
              0.3333333333333333,
              "#9c179e"
             ],
             [
              0.4444444444444444,
              "#bd3786"
             ],
             [
              0.5555555555555556,
              "#d8576b"
             ],
             [
              0.6666666666666666,
              "#ed7953"
             ],
             [
              0.7777777777777778,
              "#fb9f3a"
             ],
             [
              0.8888888888888888,
              "#fdca26"
             ],
             [
              1,
              "#f0f921"
             ]
            ],
            "type": "contour"
           }
          ],
          "contourcarpet": [
           {
            "colorbar": {
             "outlinewidth": 0,
             "ticks": ""
            },
            "type": "contourcarpet"
           }
          ],
          "heatmap": [
           {
            "colorbar": {
             "outlinewidth": 0,
             "ticks": ""
            },
            "colorscale": [
             [
              0,
              "#0d0887"
             ],
             [
              0.1111111111111111,
              "#46039f"
             ],
             [
              0.2222222222222222,
              "#7201a8"
             ],
             [
              0.3333333333333333,
              "#9c179e"
             ],
             [
              0.4444444444444444,
              "#bd3786"
             ],
             [
              0.5555555555555556,
              "#d8576b"
             ],
             [
              0.6666666666666666,
              "#ed7953"
             ],
             [
              0.7777777777777778,
              "#fb9f3a"
             ],
             [
              0.8888888888888888,
              "#fdca26"
             ],
             [
              1,
              "#f0f921"
             ]
            ],
            "type": "heatmap"
           }
          ],
          "heatmapgl": [
           {
            "colorbar": {
             "outlinewidth": 0,
             "ticks": ""
            },
            "colorscale": [
             [
              0,
              "#0d0887"
             ],
             [
              0.1111111111111111,
              "#46039f"
             ],
             [
              0.2222222222222222,
              "#7201a8"
             ],
             [
              0.3333333333333333,
              "#9c179e"
             ],
             [
              0.4444444444444444,
              "#bd3786"
             ],
             [
              0.5555555555555556,
              "#d8576b"
             ],
             [
              0.6666666666666666,
              "#ed7953"
             ],
             [
              0.7777777777777778,
              "#fb9f3a"
             ],
             [
              0.8888888888888888,
              "#fdca26"
             ],
             [
              1,
              "#f0f921"
             ]
            ],
            "type": "heatmapgl"
           }
          ],
          "histogram": [
           {
            "marker": {
             "pattern": {
              "fillmode": "overlay",
              "size": 10,
              "solidity": 0.2
             }
            },
            "type": "histogram"
           }
          ],
          "histogram2d": [
           {
            "colorbar": {
             "outlinewidth": 0,
             "ticks": ""
            },
            "colorscale": [
             [
              0,
              "#0d0887"
             ],
             [
              0.1111111111111111,
              "#46039f"
             ],
             [
              0.2222222222222222,
              "#7201a8"
             ],
             [
              0.3333333333333333,
              "#9c179e"
             ],
             [
              0.4444444444444444,
              "#bd3786"
             ],
             [
              0.5555555555555556,
              "#d8576b"
             ],
             [
              0.6666666666666666,
              "#ed7953"
             ],
             [
              0.7777777777777778,
              "#fb9f3a"
             ],
             [
              0.8888888888888888,
              "#fdca26"
             ],
             [
              1,
              "#f0f921"
             ]
            ],
            "type": "histogram2d"
           }
          ],
          "histogram2dcontour": [
           {
            "colorbar": {
             "outlinewidth": 0,
             "ticks": ""
            },
            "colorscale": [
             [
              0,
              "#0d0887"
             ],
             [
              0.1111111111111111,
              "#46039f"
             ],
             [
              0.2222222222222222,
              "#7201a8"
             ],
             [
              0.3333333333333333,
              "#9c179e"
             ],
             [
              0.4444444444444444,
              "#bd3786"
             ],
             [
              0.5555555555555556,
              "#d8576b"
             ],
             [
              0.6666666666666666,
              "#ed7953"
             ],
             [
              0.7777777777777778,
              "#fb9f3a"
             ],
             [
              0.8888888888888888,
              "#fdca26"
             ],
             [
              1,
              "#f0f921"
             ]
            ],
            "type": "histogram2dcontour"
           }
          ],
          "mesh3d": [
           {
            "colorbar": {
             "outlinewidth": 0,
             "ticks": ""
            },
            "type": "mesh3d"
           }
          ],
          "parcoords": [
           {
            "line": {
             "colorbar": {
              "outlinewidth": 0,
              "ticks": ""
             }
            },
            "type": "parcoords"
           }
          ],
          "pie": [
           {
            "automargin": true,
            "type": "pie"
           }
          ],
          "scatter": [
           {
            "fillpattern": {
             "fillmode": "overlay",
             "size": 10,
             "solidity": 0.2
            },
            "type": "scatter"
           }
          ],
          "scatter3d": [
           {
            "line": {
             "colorbar": {
              "outlinewidth": 0,
              "ticks": ""
             }
            },
            "marker": {
             "colorbar": {
              "outlinewidth": 0,
              "ticks": ""
             }
            },
            "type": "scatter3d"
           }
          ],
          "scattercarpet": [
           {
            "marker": {
             "colorbar": {
              "outlinewidth": 0,
              "ticks": ""
             }
            },
            "type": "scattercarpet"
           }
          ],
          "scattergeo": [
           {
            "marker": {
             "colorbar": {
              "outlinewidth": 0,
              "ticks": ""
             }
            },
            "type": "scattergeo"
           }
          ],
          "scattergl": [
           {
            "marker": {
             "colorbar": {
              "outlinewidth": 0,
              "ticks": ""
             }
            },
            "type": "scattergl"
           }
          ],
          "scattermapbox": [
           {
            "marker": {
             "colorbar": {
              "outlinewidth": 0,
              "ticks": ""
             }
            },
            "type": "scattermapbox"
           }
          ],
          "scatterpolar": [
           {
            "marker": {
             "colorbar": {
              "outlinewidth": 0,
              "ticks": ""
             }
            },
            "type": "scatterpolar"
           }
          ],
          "scatterpolargl": [
           {
            "marker": {
             "colorbar": {
              "outlinewidth": 0,
              "ticks": ""
             }
            },
            "type": "scatterpolargl"
           }
          ],
          "scatterternary": [
           {
            "marker": {
             "colorbar": {
              "outlinewidth": 0,
              "ticks": ""
             }
            },
            "type": "scatterternary"
           }
          ],
          "surface": [
           {
            "colorbar": {
             "outlinewidth": 0,
             "ticks": ""
            },
            "colorscale": [
             [
              0,
              "#0d0887"
             ],
             [
              0.1111111111111111,
              "#46039f"
             ],
             [
              0.2222222222222222,
              "#7201a8"
             ],
             [
              0.3333333333333333,
              "#9c179e"
             ],
             [
              0.4444444444444444,
              "#bd3786"
             ],
             [
              0.5555555555555556,
              "#d8576b"
             ],
             [
              0.6666666666666666,
              "#ed7953"
             ],
             [
              0.7777777777777778,
              "#fb9f3a"
             ],
             [
              0.8888888888888888,
              "#fdca26"
             ],
             [
              1,
              "#f0f921"
             ]
            ],
            "type": "surface"
           }
          ],
          "table": [
           {
            "cells": {
             "fill": {
              "color": "#EBF0F8"
             },
             "line": {
              "color": "white"
             }
            },
            "header": {
             "fill": {
              "color": "#C8D4E3"
             },
             "line": {
              "color": "white"
             }
            },
            "type": "table"
           }
          ]
         },
         "layout": {
          "annotationdefaults": {
           "arrowcolor": "#2a3f5f",
           "arrowhead": 0,
           "arrowwidth": 1
          },
          "autotypenumbers": "strict",
          "coloraxis": {
           "colorbar": {
            "outlinewidth": 0,
            "ticks": ""
           }
          },
          "colorscale": {
           "diverging": [
            [
             0,
             "#8e0152"
            ],
            [
             0.1,
             "#c51b7d"
            ],
            [
             0.2,
             "#de77ae"
            ],
            [
             0.3,
             "#f1b6da"
            ],
            [
             0.4,
             "#fde0ef"
            ],
            [
             0.5,
             "#f7f7f7"
            ],
            [
             0.6,
             "#e6f5d0"
            ],
            [
             0.7,
             "#b8e186"
            ],
            [
             0.8,
             "#7fbc41"
            ],
            [
             0.9,
             "#4d9221"
            ],
            [
             1,
             "#276419"
            ]
           ],
           "sequential": [
            [
             0,
             "#0d0887"
            ],
            [
             0.1111111111111111,
             "#46039f"
            ],
            [
             0.2222222222222222,
             "#7201a8"
            ],
            [
             0.3333333333333333,
             "#9c179e"
            ],
            [
             0.4444444444444444,
             "#bd3786"
            ],
            [
             0.5555555555555556,
             "#d8576b"
            ],
            [
             0.6666666666666666,
             "#ed7953"
            ],
            [
             0.7777777777777778,
             "#fb9f3a"
            ],
            [
             0.8888888888888888,
             "#fdca26"
            ],
            [
             1,
             "#f0f921"
            ]
           ],
           "sequentialminus": [
            [
             0,
             "#0d0887"
            ],
            [
             0.1111111111111111,
             "#46039f"
            ],
            [
             0.2222222222222222,
             "#7201a8"
            ],
            [
             0.3333333333333333,
             "#9c179e"
            ],
            [
             0.4444444444444444,
             "#bd3786"
            ],
            [
             0.5555555555555556,
             "#d8576b"
            ],
            [
             0.6666666666666666,
             "#ed7953"
            ],
            [
             0.7777777777777778,
             "#fb9f3a"
            ],
            [
             0.8888888888888888,
             "#fdca26"
            ],
            [
             1,
             "#f0f921"
            ]
           ]
          },
          "colorway": [
           "#636efa",
           "#EF553B",
           "#00cc96",
           "#ab63fa",
           "#FFA15A",
           "#19d3f3",
           "#FF6692",
           "#B6E880",
           "#FF97FF",
           "#FECB52"
          ],
          "font": {
           "color": "#2a3f5f"
          },
          "geo": {
           "bgcolor": "white",
           "lakecolor": "white",
           "landcolor": "#E5ECF6",
           "showlakes": true,
           "showland": true,
           "subunitcolor": "white"
          },
          "hoverlabel": {
           "align": "left"
          },
          "hovermode": "closest",
          "mapbox": {
           "style": "light"
          },
          "paper_bgcolor": "white",
          "plot_bgcolor": "#E5ECF6",
          "polar": {
           "angularaxis": {
            "gridcolor": "white",
            "linecolor": "white",
            "ticks": ""
           },
           "bgcolor": "#E5ECF6",
           "radialaxis": {
            "gridcolor": "white",
            "linecolor": "white",
            "ticks": ""
           }
          },
          "scene": {
           "xaxis": {
            "backgroundcolor": "#E5ECF6",
            "gridcolor": "white",
            "gridwidth": 2,
            "linecolor": "white",
            "showbackground": true,
            "ticks": "",
            "zerolinecolor": "white"
           },
           "yaxis": {
            "backgroundcolor": "#E5ECF6",
            "gridcolor": "white",
            "gridwidth": 2,
            "linecolor": "white",
            "showbackground": true,
            "ticks": "",
            "zerolinecolor": "white"
           },
           "zaxis": {
            "backgroundcolor": "#E5ECF6",
            "gridcolor": "white",
            "gridwidth": 2,
            "linecolor": "white",
            "showbackground": true,
            "ticks": "",
            "zerolinecolor": "white"
           }
          },
          "shapedefaults": {
           "line": {
            "color": "#2a3f5f"
           }
          },
          "ternary": {
           "aaxis": {
            "gridcolor": "white",
            "linecolor": "white",
            "ticks": ""
           },
           "baxis": {
            "gridcolor": "white",
            "linecolor": "white",
            "ticks": ""
           },
           "bgcolor": "#E5ECF6",
           "caxis": {
            "gridcolor": "white",
            "linecolor": "white",
            "ticks": ""
           }
          },
          "title": {
           "x": 0.05
          },
          "xaxis": {
           "automargin": true,
           "gridcolor": "white",
           "linecolor": "white",
           "ticks": "",
           "title": {
            "standoff": 15
           },
           "zerolinecolor": "white",
           "zerolinewidth": 2
          },
          "yaxis": {
           "automargin": true,
           "gridcolor": "white",
           "linecolor": "white",
           "ticks": "",
           "title": {
            "standoff": 15
           },
           "zerolinecolor": "white",
           "zerolinewidth": 2
          }
         }
        },
        "title": {
         "text": "totalRecebido vs Votes"
        },
        "xaxis": {
         "anchor": "y",
         "domain": [
          0,
          1
         ],
         "title": {
          "text": "totalRecebido"
         }
        },
        "yaxis": {
         "anchor": "x",
         "domain": [
          0,
          1
         ],
         "title": {
          "text": "percent_votes"
         }
        }
       }
      },
      "text/html": [
       "<div>                            <div id=\"b6e49783-1893-4a2c-9f04-ff0851427ffb\" class=\"plotly-graph-div\" style=\"height:525px; width:100%;\"></div>            <script type=\"text/javascript\">                require([\"plotly\"], function(Plotly) {                    window.PLOTLYENV=window.PLOTLYENV || {};                                    if (document.getElementById(\"b6e49783-1893-4a2c-9f04-ff0851427ffb\")) {                    Plotly.newPlot(                        \"b6e49783-1893-4a2c-9f04-ff0851427ffb\",                        [{\"customdata\":[[\"C\\u00c9LIA SACRAMENTO\",18,31198,\"Rede Sustentabilidade\"],[\"JO\\u00c3O HENRIQUE DURVAL CARNEIRO\",28,38960,\"Partido Renovador Trabalhista Brasileiro\"],[\"JO\\u00c3O SANTANA\",15,33266,\"Movimento Democr\\u00e1tico Brasileiro\"],[\"MARCOS MENDES\",50,44702,\"Partido Socialismo e Liberdade\"],[\"ORLANDO ANDRADE\",29,3100,\"Partido da Causa Oper\\u00e1ria\"],[\"RUI COSTA\",13,5096062,\"Partido dos Trabalhadores\"],[\"Z\\u00c9 RONALDO\",25,1502266,\"Democratas\"]],\"hovertemplate\":\"totalRecebido=%{x}<br>percent_votes=%{marker.color}<br>nomeUrna=%{customdata[0]}<br>numero=%{customdata[1]}<br>votes=%{customdata[2]}<br>nomePartido=%{customdata[3]}<extra></extra>\",\"legendgroup\":\"\",\"marker\":{\"color\":[0.46,0.58,0.49,0.66,0.05,75.5,22.26],\"coloraxis\":\"coloraxis\",\"symbol\":\"circle\"},\"mode\":\"markers\",\"name\":\"\",\"orientation\":\"v\",\"showlegend\":false,\"x\":[50301.15,1500.0,3386600.0,113141.87,1350.0,7476031.0,5196199.98],\"xaxis\":\"x\",\"y\":[0.46,0.58,0.49,0.66,0.05,75.5,22.26],\"yaxis\":\"y\",\"type\":\"scatter\"},{\"hovertemplate\":\"<b>OLS trendline</b><br>percent_votes = 7.92837e-06 * totalRecebido + -4.09125<br>R<sup>2</sup>=0.748339<br><br>totalRecebido=%{x}<br>percent_votes=%{y} <b>(trend)</b><extra></extra>\",\"legendgroup\":\"\",\"marker\":{\"symbol\":\"circle\"},\"mode\":\"lines\",\"name\":\"\",\"showlegend\":false,\"x\":[1350.0,1500.0,50301.15,113141.87,3386600.0,5196199.98,7476031.0],\"xaxis\":\"x\",\"y\":[-4.080542796859468,-4.0793535419486515,-3.69244016000864,-3.194215927613598,22.758958448755088,37.10612953428026,55.181464443395],\"yaxis\":\"y\",\"type\":\"scatter\"}],                        {\"template\":{\"data\":{\"histogram2dcontour\":[{\"type\":\"histogram2dcontour\",\"colorbar\":{\"outlinewidth\":0,\"ticks\":\"\"},\"colorscale\":[[0.0,\"#0d0887\"],[0.1111111111111111,\"#46039f\"],[0.2222222222222222,\"#7201a8\"],[0.3333333333333333,\"#9c179e\"],[0.4444444444444444,\"#bd3786\"],[0.5555555555555556,\"#d8576b\"],[0.6666666666666666,\"#ed7953\"],[0.7777777777777778,\"#fb9f3a\"],[0.8888888888888888,\"#fdca26\"],[1.0,\"#f0f921\"]]}],\"choropleth\":[{\"type\":\"choropleth\",\"colorbar\":{\"outlinewidth\":0,\"ticks\":\"\"}}],\"histogram2d\":[{\"type\":\"histogram2d\",\"colorbar\":{\"outlinewidth\":0,\"ticks\":\"\"},\"colorscale\":[[0.0,\"#0d0887\"],[0.1111111111111111,\"#46039f\"],[0.2222222222222222,\"#7201a8\"],[0.3333333333333333,\"#9c179e\"],[0.4444444444444444,\"#bd3786\"],[0.5555555555555556,\"#d8576b\"],[0.6666666666666666,\"#ed7953\"],[0.7777777777777778,\"#fb9f3a\"],[0.8888888888888888,\"#fdca26\"],[1.0,\"#f0f921\"]]}],\"heatmap\":[{\"type\":\"heatmap\",\"colorbar\":{\"outlinewidth\":0,\"ticks\":\"\"},\"colorscale\":[[0.0,\"#0d0887\"],[0.1111111111111111,\"#46039f\"],[0.2222222222222222,\"#7201a8\"],[0.3333333333333333,\"#9c179e\"],[0.4444444444444444,\"#bd3786\"],[0.5555555555555556,\"#d8576b\"],[0.6666666666666666,\"#ed7953\"],[0.7777777777777778,\"#fb9f3a\"],[0.8888888888888888,\"#fdca26\"],[1.0,\"#f0f921\"]]}],\"heatmapgl\":[{\"type\":\"heatmapgl\",\"colorbar\":{\"outlinewidth\":0,\"ticks\":\"\"},\"colorscale\":[[0.0,\"#0d0887\"],[0.1111111111111111,\"#46039f\"],[0.2222222222222222,\"#7201a8\"],[0.3333333333333333,\"#9c179e\"],[0.4444444444444444,\"#bd3786\"],[0.5555555555555556,\"#d8576b\"],[0.6666666666666666,\"#ed7953\"],[0.7777777777777778,\"#fb9f3a\"],[0.8888888888888888,\"#fdca26\"],[1.0,\"#f0f921\"]]}],\"contourcarpet\":[{\"type\":\"contourcarpet\",\"colorbar\":{\"outlinewidth\":0,\"ticks\":\"\"}}],\"contour\":[{\"type\":\"contour\",\"colorbar\":{\"outlinewidth\":0,\"ticks\":\"\"},\"colorscale\":[[0.0,\"#0d0887\"],[0.1111111111111111,\"#46039f\"],[0.2222222222222222,\"#7201a8\"],[0.3333333333333333,\"#9c179e\"],[0.4444444444444444,\"#bd3786\"],[0.5555555555555556,\"#d8576b\"],[0.6666666666666666,\"#ed7953\"],[0.7777777777777778,\"#fb9f3a\"],[0.8888888888888888,\"#fdca26\"],[1.0,\"#f0f921\"]]}],\"surface\":[{\"type\":\"surface\",\"colorbar\":{\"outlinewidth\":0,\"ticks\":\"\"},\"colorscale\":[[0.0,\"#0d0887\"],[0.1111111111111111,\"#46039f\"],[0.2222222222222222,\"#7201a8\"],[0.3333333333333333,\"#9c179e\"],[0.4444444444444444,\"#bd3786\"],[0.5555555555555556,\"#d8576b\"],[0.6666666666666666,\"#ed7953\"],[0.7777777777777778,\"#fb9f3a\"],[0.8888888888888888,\"#fdca26\"],[1.0,\"#f0f921\"]]}],\"mesh3d\":[{\"type\":\"mesh3d\",\"colorbar\":{\"outlinewidth\":0,\"ticks\":\"\"}}],\"scatter\":[{\"fillpattern\":{\"fillmode\":\"overlay\",\"size\":10,\"solidity\":0.2},\"type\":\"scatter\"}],\"parcoords\":[{\"type\":\"parcoords\",\"line\":{\"colorbar\":{\"outlinewidth\":0,\"ticks\":\"\"}}}],\"scatterpolargl\":[{\"type\":\"scatterpolargl\",\"marker\":{\"colorbar\":{\"outlinewidth\":0,\"ticks\":\"\"}}}],\"bar\":[{\"error_x\":{\"color\":\"#2a3f5f\"},\"error_y\":{\"color\":\"#2a3f5f\"},\"marker\":{\"line\":{\"color\":\"#E5ECF6\",\"width\":0.5},\"pattern\":{\"fillmode\":\"overlay\",\"size\":10,\"solidity\":0.2}},\"type\":\"bar\"}],\"scattergeo\":[{\"type\":\"scattergeo\",\"marker\":{\"colorbar\":{\"outlinewidth\":0,\"ticks\":\"\"}}}],\"scatterpolar\":[{\"type\":\"scatterpolar\",\"marker\":{\"colorbar\":{\"outlinewidth\":0,\"ticks\":\"\"}}}],\"histogram\":[{\"marker\":{\"pattern\":{\"fillmode\":\"overlay\",\"size\":10,\"solidity\":0.2}},\"type\":\"histogram\"}],\"scattergl\":[{\"type\":\"scattergl\",\"marker\":{\"colorbar\":{\"outlinewidth\":0,\"ticks\":\"\"}}}],\"scatter3d\":[{\"type\":\"scatter3d\",\"line\":{\"colorbar\":{\"outlinewidth\":0,\"ticks\":\"\"}},\"marker\":{\"colorbar\":{\"outlinewidth\":0,\"ticks\":\"\"}}}],\"scattermapbox\":[{\"type\":\"scattermapbox\",\"marker\":{\"colorbar\":{\"outlinewidth\":0,\"ticks\":\"\"}}}],\"scatterternary\":[{\"type\":\"scatterternary\",\"marker\":{\"colorbar\":{\"outlinewidth\":0,\"ticks\":\"\"}}}],\"scattercarpet\":[{\"type\":\"scattercarpet\",\"marker\":{\"colorbar\":{\"outlinewidth\":0,\"ticks\":\"\"}}}],\"carpet\":[{\"aaxis\":{\"endlinecolor\":\"#2a3f5f\",\"gridcolor\":\"white\",\"linecolor\":\"white\",\"minorgridcolor\":\"white\",\"startlinecolor\":\"#2a3f5f\"},\"baxis\":{\"endlinecolor\":\"#2a3f5f\",\"gridcolor\":\"white\",\"linecolor\":\"white\",\"minorgridcolor\":\"white\",\"startlinecolor\":\"#2a3f5f\"},\"type\":\"carpet\"}],\"table\":[{\"cells\":{\"fill\":{\"color\":\"#EBF0F8\"},\"line\":{\"color\":\"white\"}},\"header\":{\"fill\":{\"color\":\"#C8D4E3\"},\"line\":{\"color\":\"white\"}},\"type\":\"table\"}],\"barpolar\":[{\"marker\":{\"line\":{\"color\":\"#E5ECF6\",\"width\":0.5},\"pattern\":{\"fillmode\":\"overlay\",\"size\":10,\"solidity\":0.2}},\"type\":\"barpolar\"}],\"pie\":[{\"automargin\":true,\"type\":\"pie\"}]},\"layout\":{\"autotypenumbers\":\"strict\",\"colorway\":[\"#636efa\",\"#EF553B\",\"#00cc96\",\"#ab63fa\",\"#FFA15A\",\"#19d3f3\",\"#FF6692\",\"#B6E880\",\"#FF97FF\",\"#FECB52\"],\"font\":{\"color\":\"#2a3f5f\"},\"hovermode\":\"closest\",\"hoverlabel\":{\"align\":\"left\"},\"paper_bgcolor\":\"white\",\"plot_bgcolor\":\"#E5ECF6\",\"polar\":{\"bgcolor\":\"#E5ECF6\",\"angularaxis\":{\"gridcolor\":\"white\",\"linecolor\":\"white\",\"ticks\":\"\"},\"radialaxis\":{\"gridcolor\":\"white\",\"linecolor\":\"white\",\"ticks\":\"\"}},\"ternary\":{\"bgcolor\":\"#E5ECF6\",\"aaxis\":{\"gridcolor\":\"white\",\"linecolor\":\"white\",\"ticks\":\"\"},\"baxis\":{\"gridcolor\":\"white\",\"linecolor\":\"white\",\"ticks\":\"\"},\"caxis\":{\"gridcolor\":\"white\",\"linecolor\":\"white\",\"ticks\":\"\"}},\"coloraxis\":{\"colorbar\":{\"outlinewidth\":0,\"ticks\":\"\"}},\"colorscale\":{\"sequential\":[[0.0,\"#0d0887\"],[0.1111111111111111,\"#46039f\"],[0.2222222222222222,\"#7201a8\"],[0.3333333333333333,\"#9c179e\"],[0.4444444444444444,\"#bd3786\"],[0.5555555555555556,\"#d8576b\"],[0.6666666666666666,\"#ed7953\"],[0.7777777777777778,\"#fb9f3a\"],[0.8888888888888888,\"#fdca26\"],[1.0,\"#f0f921\"]],\"sequentialminus\":[[0.0,\"#0d0887\"],[0.1111111111111111,\"#46039f\"],[0.2222222222222222,\"#7201a8\"],[0.3333333333333333,\"#9c179e\"],[0.4444444444444444,\"#bd3786\"],[0.5555555555555556,\"#d8576b\"],[0.6666666666666666,\"#ed7953\"],[0.7777777777777778,\"#fb9f3a\"],[0.8888888888888888,\"#fdca26\"],[1.0,\"#f0f921\"]],\"diverging\":[[0,\"#8e0152\"],[0.1,\"#c51b7d\"],[0.2,\"#de77ae\"],[0.3,\"#f1b6da\"],[0.4,\"#fde0ef\"],[0.5,\"#f7f7f7\"],[0.6,\"#e6f5d0\"],[0.7,\"#b8e186\"],[0.8,\"#7fbc41\"],[0.9,\"#4d9221\"],[1,\"#276419\"]]},\"xaxis\":{\"gridcolor\":\"white\",\"linecolor\":\"white\",\"ticks\":\"\",\"title\":{\"standoff\":15},\"zerolinecolor\":\"white\",\"automargin\":true,\"zerolinewidth\":2},\"yaxis\":{\"gridcolor\":\"white\",\"linecolor\":\"white\",\"ticks\":\"\",\"title\":{\"standoff\":15},\"zerolinecolor\":\"white\",\"automargin\":true,\"zerolinewidth\":2},\"scene\":{\"xaxis\":{\"backgroundcolor\":\"#E5ECF6\",\"gridcolor\":\"white\",\"linecolor\":\"white\",\"showbackground\":true,\"ticks\":\"\",\"zerolinecolor\":\"white\",\"gridwidth\":2},\"yaxis\":{\"backgroundcolor\":\"#E5ECF6\",\"gridcolor\":\"white\",\"linecolor\":\"white\",\"showbackground\":true,\"ticks\":\"\",\"zerolinecolor\":\"white\",\"gridwidth\":2},\"zaxis\":{\"backgroundcolor\":\"#E5ECF6\",\"gridcolor\":\"white\",\"linecolor\":\"white\",\"showbackground\":true,\"ticks\":\"\",\"zerolinecolor\":\"white\",\"gridwidth\":2}},\"shapedefaults\":{\"line\":{\"color\":\"#2a3f5f\"}},\"annotationdefaults\":{\"arrowcolor\":\"#2a3f5f\",\"arrowhead\":0,\"arrowwidth\":1},\"geo\":{\"bgcolor\":\"white\",\"landcolor\":\"#E5ECF6\",\"subunitcolor\":\"white\",\"showland\":true,\"showlakes\":true,\"lakecolor\":\"white\"},\"title\":{\"x\":0.05},\"mapbox\":{\"style\":\"light\"}}},\"xaxis\":{\"anchor\":\"y\",\"domain\":[0.0,1.0],\"title\":{\"text\":\"totalRecebido\"}},\"yaxis\":{\"anchor\":\"x\",\"domain\":[0.0,1.0],\"title\":{\"text\":\"percent_votes\"}},\"coloraxis\":{\"colorbar\":{\"title\":{\"text\":\"percent_votes\"}},\"colorscale\":[[0.0,\"#0d0887\"],[0.1111111111111111,\"#46039f\"],[0.2222222222222222,\"#7201a8\"],[0.3333333333333333,\"#9c179e\"],[0.4444444444444444,\"#bd3786\"],[0.5555555555555556,\"#d8576b\"],[0.6666666666666666,\"#ed7953\"],[0.7777777777777778,\"#fb9f3a\"],[0.8888888888888888,\"#fdca26\"],[1.0,\"#f0f921\"]]},\"legend\":{\"tracegroupgap\":0},\"title\":{\"text\":\"totalRecebido vs Votes\"}},                        {\"responsive\": true}                    ).then(function(){\n",
       "                            \n",
       "var gd = document.getElementById('b6e49783-1893-4a2c-9f04-ff0851427ffb');\n",
       "var x = new MutationObserver(function (mutations, observer) {{\n",
       "        var display = window.getComputedStyle(gd).display;\n",
       "        if (!display || display === 'none') {{\n",
       "            console.log([gd, 'removed!']);\n",
       "            Plotly.purge(gd);\n",
       "            observer.disconnect();\n",
       "        }}\n",
       "}});\n",
       "\n",
       "// Listen for the removal of the full notebook cells\n",
       "var notebookContainer = gd.closest('#notebook-container');\n",
       "if (notebookContainer) {{\n",
       "    x.observe(notebookContainer, {childList: true});\n",
       "}}\n",
       "\n",
       "// Listen for the clearing of the current output cell\n",
       "var outputEl = gd.closest('.output');\n",
       "if (outputEl) {{\n",
       "    x.observe(outputEl, {childList: true});\n",
       "}}\n",
       "\n",
       "                        })                };                });            </script>        </div>"
      ]
     },
     "metadata": {},
     "output_type": "display_data"
    }
   ],
   "source": [
    "scatter_corr_money_votes('totalRecebido')"
   ]
  },
  {
   "cell_type": "code",
   "execution_count": null,
   "id": "f6833b4e",
   "metadata": {},
   "outputs": [],
   "source": []
  }
 ],
 "metadata": {
  "kernelspec": {
   "display_name": "Python 3 (ipykernel)",
   "language": "python",
   "name": "python3"
  },
  "language_info": {
   "codemirror_mode": {
    "name": "ipython",
    "version": 3
   },
   "file_extension": ".py",
   "mimetype": "text/x-python",
   "name": "python",
   "nbconvert_exporter": "python",
   "pygments_lexer": "ipython3",
   "version": "3.10.4"
  },
  "toc": {
   "base_numbering": 1,
   "nav_menu": {},
   "number_sections": true,
   "sideBar": true,
   "skip_h1_title": false,
   "title_cell": "Table of Contents",
   "title_sidebar": "Contents",
   "toc_cell": false,
   "toc_position": {},
   "toc_section_display": true,
   "toc_window_display": false
  },
  "varInspector": {
   "cols": {
    "lenName": 16,
    "lenType": 16,
    "lenVar": 40
   },
   "kernels_config": {
    "python": {
     "delete_cmd_postfix": "",
     "delete_cmd_prefix": "del ",
     "library": "var_list.py",
     "varRefreshCmd": "print(var_dic_list())"
    },
    "r": {
     "delete_cmd_postfix": ") ",
     "delete_cmd_prefix": "rm(",
     "library": "var_list.r",
     "varRefreshCmd": "cat(var_dic_list()) "
    }
   },
   "types_to_exclude": [
    "module",
    "function",
    "builtin_function_or_method",
    "instance",
    "_Feature"
   ],
   "window_display": false
  }
 },
 "nbformat": 4,
 "nbformat_minor": 5
}
