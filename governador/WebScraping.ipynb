{
 "cells": [
  {
   "cell_type": "markdown",
   "id": "90c58674",
   "metadata": {},
   "source": [
    "# WebSraping Candidatos Governadores Bahai 208\n",
    "\n",
    "**Objetivo**: Gerar `.csv` de todos os dados de governadores apartir de 3 fontes\n",
    "+ tse\n",
    "+ estadao\n",
    "+ gazeta do povo"
   ]
  },
  {
   "cell_type": "markdown",
   "id": "4dd075c7",
   "metadata": {},
   "source": [
    "# Import and Constants"
   ]
  },
  {
   "cell_type": "code",
   "execution_count": 1,
   "id": "534d6594",
   "metadata": {
    "ExecuteTime": {
     "end_time": "2022-04-21T18:11:24.706352Z",
     "start_time": "2022-04-21T18:11:22.808536Z"
    }
   },
   "outputs": [],
   "source": [
    "import requests\n",
    "from bs4 import BeautifulSoup\n",
    "import pandas as pd\n",
    "import os "
   ]
  },
  {
   "cell_type": "markdown",
   "id": "46b71b0c",
   "metadata": {},
   "source": [
    "# Snippets"
   ]
  },
  {
   "cell_type": "code",
   "execution_count": null,
   "id": "92e21297",
   "metadata": {},
   "outputs": [],
   "source": [
    "def convert_long_comment_in_string(long_txt):\n",
    "    \"\"\"\n",
    "    Converter uma lsita grande dos attrs que queremos filtrar, pois selecionei manualmente\n",
    "    \"\"\"\n",
    "    return list(map(lambda x: x.strip(), long_txt.split('\\n')[1:-1] ))"
   ]
  },
  {
   "cell_type": "code",
   "execution_count": null,
   "id": "75eb19e3",
   "metadata": {},
   "outputs": [],
   "source": [
    "def filter_dict_deep_by_keys(adict, list_keys):\n",
    "    \"\"\"\n",
    "    Goal: Filter some Keys of dict even his keys is a sub.key\n",
    "    BR: Filtrar seomente alguns atributos do JSON, mesmo que seja um Objeto dentro de outro\n",
    "    Baseado em: https://thispointer.com/python-filter-a-dictionary-by-conditions-on-keys-or-values/\n",
    "    @list_keys vem dea funcao : 'convert_long_comment_in_string'\n",
    "    \"\"\"\n",
    "    newDict = dict()\n",
    "    for (key, value) in adict.items():\n",
    "        if key in list_keys:\n",
    "            newDict[key] = value\n",
    "    return newDict            "
   ]
  },
  {
   "cell_type": "code",
   "execution_count": 110,
   "id": "57139ccf",
   "metadata": {
    "ExecuteTime": {
     "end_time": "2022-04-21T23:10:06.395877Z",
     "start_time": "2022-04-21T23:10:06.382888Z"
    }
   },
   "outputs": [],
   "source": [
    "def request_get(url, lib_parser = 'html.parser'):\n",
    "    \"\"\"\n",
    "    lib_paeser : 'html.parser' // \n",
    "    return BeautifulSoupPage\n",
    "    \"\"\"\n",
    "    response = requests.get(url)\n",
    "    if(response.status_code != 200):\n",
    "        print(url, 'Erro Code')\n",
    "        quit()\n",
    "    return BeautifulSoup(response.text, lib_parser)"
   ]
  },
  {
   "cell_type": "markdown",
   "id": "f60dc339",
   "metadata": {},
   "source": [
    "# One Governador\n",
    "\n",
    "Será reunido os dados de um único candidato a governador **1 Turno** ``João Henrique Durval Carneiro - PTB 28``\n",
    "\n",
    "use https://jsonformatter.org/json-viewer para ver os dados"
   ]
  },
  {
   "cell_type": "markdown",
   "id": "7b1afcda",
   "metadata": {},
   "source": [
    "## TSE Data"
   ]
  },
  {
   "cell_type": "code",
   "execution_count": 101,
   "id": "fc602b5f",
   "metadata": {
    "ExecuteTime": {
     "end_time": "2022-04-21T23:00:41.564806Z",
     "start_time": "2022-04-21T23:00:41.552808Z"
    }
   },
   "outputs": [],
   "source": [
    "tse_url_1 = 'https://divulgacandcontas.tse.jus.br/divulga/rest/v1/candidatura/buscar/2018/BA/2022802018/candidato/50000622082'\n",
    "tse_url_2 = 'https://divulgacandcontas.tse.jus.br/divulga/rest/v1/prestador/consulta/2022802018/2018/BA/3/28/28/50000622082'"
   ]
  },
  {
   "cell_type": "code",
   "execution_count": 111,
   "id": "8d16e15e",
   "metadata": {
    "ExecuteTime": {
     "end_time": "2022-04-21T23:11:11.441546Z",
     "start_time": "2022-04-21T23:11:10.211187Z"
    },
    "scrolled": true
   },
   "outputs": [],
   "source": [
    "tse1 = requests.get(tse_url_1).json()\n",
    "tse2 = requests.get(tse_url_2).json()"
   ]
  },
  {
   "cell_type": "code",
   "execution_count": 105,
   "id": "08bf4f3a",
   "metadata": {
    "ExecuteTime": {
     "end_time": "2022-04-21T23:01:58.724801Z",
     "start_time": "2022-04-21T23:01:58.712805Z"
    }
   },
   "outputs": [],
   "source": [
    "list_governador_keys_tse1 = \"\"\"\n",
    "    id\n",
    "    nomeUrna\n",
    "    numero\n",
    "    nomeCompleto\n",
    "    descricaoSexo\n",
    "    descricaoCorRaca\n",
    "    grauInstrucao\n",
    "    ocupacao\n",
    "    gastoCampanha1T\n",
    "    gastoCampanha2T\n",
    "    sgUfNascimento\n",
    "    nomeMunicipioNascimento\n",
    "    localCandidatura\n",
    "    fotoUrl\n",
    "    descricaoTotalizacao\n",
    "    nomeColigacao\n",
    "    composicaoColigacao\n",
    "    cargo\n",
    "    totalDeBens\n",
    "    partido\n",
    "    descricaoNaturalidade\n",
    "\"\"\""
   ]
  },
  {
   "cell_type": "code",
   "execution_count": 116,
   "id": "bcac9484",
   "metadata": {
    "ExecuteTime": {
     "end_time": "2022-04-21T23:24:50.581622Z",
     "start_time": "2022-04-21T23:24:50.563638Z"
    }
   },
   "outputs": [],
   "source": [
    "list_governador_keys_tse2 = \"\"\"\n",
    "    nomePartido\n",
    "    siglaPartido\n",
    "    nrCandidato\n",
    "    despesas\n",
    "    concentracaoDespesas\n",
    "    rankingDoadores\n",
    "    rankingFornecedores\n",
    "    dividaCampanha\n",
    "    sobraFinanceira\n",
    "    dadosConsolidados\n",
    "\"\"\""
   ]
  },
  {
   "cell_type": "code",
   "execution_count": 117,
   "id": "4192c07a",
   "metadata": {
    "ExecuteTime": {
     "end_time": "2022-04-21T23:25:03.646838Z",
     "start_time": "2022-04-21T23:25:03.635843Z"
    }
   },
   "outputs": [],
   "source": [
    "# Lista dos atributos a serem filtrados do JON, pois o JSON é muito grande\n",
    "# Escolhidos arbitrariamente de acordco com a proposta\n",
    "l1 = convert_long_comment_in_string(list_governador_keys_tse1) \n",
    "l2 = convert_long_comment_in_string(list_governador_keys_tse2)"
   ]
  },
  {
   "cell_type": "code",
   "execution_count": 107,
   "id": "1ffd3784",
   "metadata": {
    "ExecuteTime": {
     "end_time": "2022-04-21T23:02:13.771970Z",
     "start_time": "2022-04-21T23:02:13.751983Z"
    }
   },
   "outputs": [
    {
     "data": {
      "text/plain": [
       "{'id': 50000622082,\n",
       " 'nomeUrna': 'JOÃO HENRIQUE DURVAL CARNEIRO',\n",
       " 'numero': 28,\n",
       " 'nomeCompleto': 'JOÃO HENRIQUE DE BARRADAS CARNEIRO',\n",
       " 'descricaoSexo': 'MASC.',\n",
       " 'descricaoCorRaca': 'PARDA',\n",
       " 'grauInstrucao': 'Superior completo',\n",
       " 'ocupacao': 'Economista',\n",
       " 'gastoCampanha1T': 14000000,\n",
       " 'gastoCampanha2T': 7000000,\n",
       " 'sgUfNascimento': 'BA',\n",
       " 'nomeMunicipioNascimento': 'FEIRA DE SANTANA',\n",
       " 'localCandidatura': 'BAHIA',\n",
       " 'fotoUrl': 'https://divulgacandcontas.tse.jus.br/candidaturas/oficial/2018/BR/BA/2022802018/50000622082/foto_1534294033690.jpg',\n",
       " 'descricaoTotalizacao': 'Não eleito',\n",
       " 'nomeColigacao': 'BAHIA ACIMA DE TUDO, DEUS ACIMA DE TODOS',\n",
       " 'composicaoColigacao': 'PRTB / PSL',\n",
       " 'cargo': {'codigo': 3,\n",
       "  'sigla': None,\n",
       "  'nome': 'Governador',\n",
       "  'codSuperior': 0,\n",
       "  'titular': True,\n",
       "  'contagem': 0},\n",
       " 'totalDeBens': 1502885.55,\n",
       " 'partido': {'numero': 28,\n",
       "  'sigla': 'PRTB',\n",
       "  'nome': 'Partido Renovador Trabalhista Brasileiro'},\n",
       " 'descricaoNaturalidade': 'BA-FEIRA DE SANTANA'}"
      ]
     },
     "execution_count": 107,
     "metadata": {},
     "output_type": "execute_result"
    }
   ],
   "source": [
    "tse1_re = filter_dict_deep_by_keys(tse1, l1)\n",
    "tse1_re"
   ]
  },
  {
   "cell_type": "code",
   "execution_count": 109,
   "id": "2ea3fbf9",
   "metadata": {
    "ExecuteTime": {
     "end_time": "2022-04-21T23:04:00.926864Z",
     "start_time": "2022-04-21T23:04:00.911872Z"
    },
    "scrolled": false
   },
   "outputs": [
    {
     "data": {
      "text/plain": [
       "{'id': 50000622082,\n",
       " 'nomeUrna': 'JOÃO HENRIQUE DURVAL CARNEIRO',\n",
       " 'numero': 28,\n",
       " 'nomeCompleto': 'JOÃO HENRIQUE DE BARRADAS CARNEIRO',\n",
       " 'descricaoSexo': 'MASC.',\n",
       " 'descricaoCorRaca': 'PARDA',\n",
       " 'grauInstrucao': 'Superior completo',\n",
       " 'ocupacao': 'Economista',\n",
       " 'gastoCampanha1T': 14000000,\n",
       " 'gastoCampanha2T': 7000000,\n",
       " 'sgUfNascimento': 'BA',\n",
       " 'nomeMunicipioNascimento': 'FEIRA DE SANTANA',\n",
       " 'localCandidatura': 'BAHIA',\n",
       " 'fotoUrl': 'https://divulgacandcontas.tse.jus.br/candidaturas/oficial/2018/BR/BA/2022802018/50000622082/foto_1534294033690.jpg',\n",
       " 'descricaoTotalizacao': 'Não eleito',\n",
       " 'nomeColigacao': 'BAHIA ACIMA DE TUDO, DEUS ACIMA DE TODOS',\n",
       " 'composicaoColigacao': 'PRTB / PSL',\n",
       " 'cargo': 'Governador',\n",
       " 'totalDeBens': 1502885.55,\n",
       " 'partido': 'Partido Renovador Trabalhista Brasileiro',\n",
       " 'descricaoNaturalidade': 'BA-FEIRA DE SANTANA',\n",
       " 'sigla': 'PRTB'}"
      ]
     },
     "execution_count": 109,
     "metadata": {},
     "output_type": "execute_result"
    }
   ],
   "source": [
    "tse1_re['cargo'] = tse1_re['cargo']['nome']\n",
    "tse1_re['sigla'] = tse1_re['partido']['sigla']\n",
    "tse1_re['partido'] = tse1_re['partido']['nome']\n",
    "tse1_re"
   ]
  },
  {
   "cell_type": "code",
   "execution_count": 118,
   "id": "69272325",
   "metadata": {
    "ExecuteTime": {
     "end_time": "2022-04-21T23:25:07.385429Z",
     "start_time": "2022-04-21T23:25:07.371443Z"
    }
   },
   "outputs": [
    {
     "data": {
      "text/plain": [
       "{'nomePartido': 'Partido Renovador Trabalhista Brasileiro',\n",
       " 'siglaPartido': 'PRTB',\n",
       " 'nrCandidato': 28,\n",
       " 'dadosConsolidados': {'totalRecebido': 1500,\n",
       "  'qtdRecebido': 2,\n",
       "  'percentualRecebido': None,\n",
       "  'totalFinanceiro': 1000,\n",
       "  'qtdFinanceiro': 1,\n",
       "  'percentualFinanceiro': 66.67,\n",
       "  'totalEstimados': 500,\n",
       "  'qtdEstimados': 1,\n",
       "  'percentualEstimados': 33.33,\n",
       "  'totalReceitaPF': 1500,\n",
       "  'qtdReceitaPF': 2,\n",
       "  'percentualReceitaPF': 100.0,\n",
       "  'totalReceitaPJ': 0,\n",
       "  'qtdReceitaPJ': 0,\n",
       "  'percentualReceitaPJ': 0,\n",
       "  'totalPartidos': 0,\n",
       "  'qtdPartidos': 0,\n",
       "  'percentualPartidos': 0,\n",
       "  'totalInternet': 0,\n",
       "  'qtdInternet': 0,\n",
       "  'percentualInternet': 0,\n",
       "  'totalRoni': 0,\n",
       "  'qtdRoni': 0,\n",
       "  'percentualRoni': 0,\n",
       "  'totalProprios': 0,\n",
       "  'qtdProprios': 0,\n",
       "  'percentualProprios': 0,\n",
       "  'totalReceitaOutCand': 0,\n",
       "  'qtdReceitaOutCand': 0,\n",
       "  'percentualReceitaOutCand': 0,\n",
       "  'totalDoacaoFcc': 0,\n",
       "  'qtdDoacaoFcc': 0,\n",
       "  'percentualDoacaoFcc': 0,\n",
       "  'sqPrestadorConta': None,\n",
       "  'sqEntregaPrestacao': None,\n",
       "  'graphQtdReceitaFin': 1,\n",
       "  'graphVrReceitaFin': 1000,\n",
       "  'graphQtdReceitaFinFundo': 0,\n",
       "  'graphVrReceitaFinFundo': 0,\n",
       "  'graphPercentReceitaFinFundo': 0,\n",
       "  'graphQtdReceitaFinOutros': 1,\n",
       "  'graphVrReceitaFinOutros': 1000,\n",
       "  'graphPercentFinOutros': 100.0,\n",
       "  'graphQtdReceitaFinFefc': 0,\n",
       "  'graphVrReceitaFinFefc': 0,\n",
       "  'graphPercentFinFefc': 0},\n",
       " 'despesas': {'limiteDeGasto1T': 14000000.0,\n",
       "  'limiteDeGasto2T': 7000000.0,\n",
       "  'valorLimiteDeGastos': 14000000.0,\n",
       "  'totalDespesasContratadas': 1000.0,\n",
       "  'totalDespesasPagas': 1000.0,\n",
       "  'doacoesOutrosCandidatosPartigos': 0.0,\n",
       "  'fundosPartidarios': 0.0,\n",
       "  'fundoEspecial': 0.0,\n",
       "  'outrosRecursos': 1000.0,\n",
       "  'financeiras': 0.0,\n",
       "  'estimaveis': 0.0},\n",
       " 'concentracaoDespesas': [{'dsDRD': 'Despesa com Impulsionamento de Conteúdos',\n",
       "   'qtdeDespesas': '1',\n",
       "   'valor': 500.0},\n",
       "  {'dsDRD': 'Baixa de Estimaveis - Recursos de pessoas físicas',\n",
       "   'qtdeDespesas': '1',\n",
       "   'valor': 500.0},\n",
       "  {'dsDRD': 'Publicidade por materiais impressos',\n",
       "   'qtdeDespesas': '1',\n",
       "   'valor': 490.0},\n",
       "  {'dsDRD': 'Impostos, contribuições e taxas',\n",
       "   'qtdeDespesas': '1',\n",
       "   'valor': 5.6},\n",
       "  {'dsDRD': 'Encargos financeiros, taxas bancárias e/ou op. cartão de crédito',\n",
       "   'qtdeDespesas': '1',\n",
       "   'valor': 4.4}],\n",
       " 'rankingDoadores': [{'cpfCnpj': '51240092504',\n",
       "   'nome': 'TATIANA MARIA PARAISO',\n",
       "   'qntd': '1',\n",
       "   'valor': 1000.0,\n",
       "   'stFinanciamentoColetivo': False},\n",
       "  {'cpfCnpj': '07683324515',\n",
       "   'nome': 'JORGE SIMOES DOS SANTOS',\n",
       "   'qntd': '1',\n",
       "   'valor': 500.0,\n",
       "   'stFinanciamentoColetivo': False}],\n",
       " 'rankingFornecedores': [{'cpfCnpj': '14796606000190',\n",
       "   'nome': 'ADYEN DO BRASIL LTDA.',\n",
       "   'qntd': '1',\n",
       "   'valor': 500.0,\n",
       "   'stFinanciamentoColetivo': None},\n",
       "  {'cpfCnpj': '06006137000130',\n",
       "   'nome': 'SUPERGRAF GRAFICA COMERCIO E SERVICOS LTDA',\n",
       "   'qntd': '1',\n",
       "   'valor': 490.0,\n",
       "   'stFinanciamentoColetivo': None}],\n",
       " 'dividaCampanha': None,\n",
       " 'sobraFinanceira': None}"
      ]
     },
     "execution_count": 118,
     "metadata": {},
     "output_type": "execute_result"
    }
   ],
   "source": [
    "tse2_re = filter_dict_deep_by_keys(tse2, l2)\n",
    "tse2_re"
   ]
  },
  {
   "cell_type": "code",
   "execution_count": 123,
   "id": "fbd2be4a",
   "metadata": {
    "ExecuteTime": {
     "end_time": "2022-04-21T23:26:25.265299Z",
     "start_time": "2022-04-21T23:26:25.227325Z"
    }
   },
   "outputs": [
    {
     "ename": "KeyError",
     "evalue": "'despesas'",
     "output_type": "error",
     "traceback": [
      "\u001b[1;31m---------------------------------------------------------------------------\u001b[0m",
      "\u001b[1;31mKeyError\u001b[0m                                  Traceback (most recent call last)",
      "Input \u001b[1;32mIn [123]\u001b[0m, in \u001b[0;36m<cell line: 2>\u001b[1;34m()\u001b[0m\n\u001b[0;32m      1\u001b[0m \u001b[38;5;66;03m# Por todos os attrs de despesas pra fora\u001b[39;00m\n\u001b[1;32m----> 2\u001b[0m \u001b[38;5;28;01mfor\u001b[39;00m el \u001b[38;5;129;01min\u001b[39;00m \u001b[38;5;28mlist\u001b[39m(\u001b[43mtse2_re\u001b[49m\u001b[43m[\u001b[49m\u001b[38;5;124;43m'\u001b[39;49m\u001b[38;5;124;43mdespesas\u001b[39;49m\u001b[38;5;124;43m'\u001b[39;49m\u001b[43m]\u001b[49m\u001b[38;5;241m.\u001b[39mkeys()):\n\u001b[0;32m      3\u001b[0m     tse2_re[el] \u001b[38;5;241m=\u001b[39m tse2_re[\u001b[38;5;124m'\u001b[39m\u001b[38;5;124mdespesas\u001b[39m\u001b[38;5;124m'\u001b[39m][el]\n\u001b[0;32m      5\u001b[0m \u001b[38;5;66;03m# Por todos os attrs de dadosConsolidados pra fora\u001b[39;00m\n",
      "\u001b[1;31mKeyError\u001b[0m: 'despesas'"
     ]
    }
   ],
   "source": [
    "# Por todos os attrs de despesas pra fora\n",
    "for el in list(tse2_re['despesas'].keys()):\n",
    "    tse2_re[el] = tse2_re['despesas'][el]\n",
    "    \n",
    "# Por todos os attrs de dadosConsolidados pra fora\n",
    "for el in list(tse2_re['dadosConsolidados'].keys()):\n",
    "    tse2_re[el] = tse2_re['dadosConsolidados'][el]\n",
    "    \n",
    "tse2_re.pop('despesas', None)\n",
    "tse2_re.pop('dadosConsolidados', None)"
   ]
  },
  {
   "cell_type": "code",
   "execution_count": 131,
   "id": "8e6ea235",
   "metadata": {
    "ExecuteTime": {
     "end_time": "2022-04-21T23:32:09.957890Z",
     "start_time": "2022-04-21T23:32:09.943901Z"
    }
   },
   "outputs": [],
   "source": [
    "tse2_re['concentracaoDespesasR'] = sum(map(lambda x: x['valor'], tse2_re['concentracaoDespesas']))\n",
    "tse2_re['rankingDoadoresR'] = sum(map(lambda x: x['valor'], tse2_re['rankingDoadores']))\n",
    "tse2_re['rankingFornecedoresR'] = sum(map(lambda x: x['valor'], tse2_re['rankingFornecedores']))\n",
    "\n",
    "tse2_re.pop('concentracaoDespesas', None)\n",
    "tse2_re.pop('rankingDoadores', None)\n",
    "tse2_re.pop('rankingFornecedores', None)"
   ]
  },
  {
   "cell_type": "code",
   "execution_count": 132,
   "id": "c6ff4f88",
   "metadata": {
    "ExecuteTime": {
     "end_time": "2022-04-21T23:44:46.662123Z",
     "start_time": "2022-04-21T23:44:46.650125Z"
    },
    "scrolled": true
   },
   "outputs": [
    {
     "data": {
      "text/plain": [
       "{'nomePartido': 'Partido Renovador Trabalhista Brasileiro',\n",
       " 'siglaPartido': 'PRTB',\n",
       " 'nrCandidato': 28,\n",
       " 'dividaCampanha': None,\n",
       " 'sobraFinanceira': None,\n",
       " 'limiteDeGasto1T': 14000000.0,\n",
       " 'limiteDeGasto2T': 7000000.0,\n",
       " 'valorLimiteDeGastos': 14000000.0,\n",
       " 'totalDespesasContratadas': 1000.0,\n",
       " 'totalDespesasPagas': 1000.0,\n",
       " 'doacoesOutrosCandidatosPartigos': 0.0,\n",
       " 'fundosPartidarios': 0.0,\n",
       " 'fundoEspecial': 0.0,\n",
       " 'outrosRecursos': 1000.0,\n",
       " 'financeiras': 0.0,\n",
       " 'estimaveis': 0.0,\n",
       " 'totalRecebido': 1500,\n",
       " 'qtdRecebido': 2,\n",
       " 'percentualRecebido': None,\n",
       " 'totalFinanceiro': 1000,\n",
       " 'qtdFinanceiro': 1,\n",
       " 'percentualFinanceiro': 66.67,\n",
       " 'totalEstimados': 500,\n",
       " 'qtdEstimados': 1,\n",
       " 'percentualEstimados': 33.33,\n",
       " 'totalReceitaPF': 1500,\n",
       " 'qtdReceitaPF': 2,\n",
       " 'percentualReceitaPF': 100.0,\n",
       " 'totalReceitaPJ': 0,\n",
       " 'qtdReceitaPJ': 0,\n",
       " 'percentualReceitaPJ': 0,\n",
       " 'totalPartidos': 0,\n",
       " 'qtdPartidos': 0,\n",
       " 'percentualPartidos': 0,\n",
       " 'totalInternet': 0,\n",
       " 'qtdInternet': 0,\n",
       " 'percentualInternet': 0,\n",
       " 'totalRoni': 0,\n",
       " 'qtdRoni': 0,\n",
       " 'percentualRoni': 0,\n",
       " 'totalProprios': 0,\n",
       " 'qtdProprios': 0,\n",
       " 'percentualProprios': 0,\n",
       " 'totalReceitaOutCand': 0,\n",
       " 'qtdReceitaOutCand': 0,\n",
       " 'percentualReceitaOutCand': 0,\n",
       " 'totalDoacaoFcc': 0,\n",
       " 'qtdDoacaoFcc': 0,\n",
       " 'percentualDoacaoFcc': 0,\n",
       " 'sqPrestadorConta': None,\n",
       " 'sqEntregaPrestacao': None,\n",
       " 'graphQtdReceitaFin': 1,\n",
       " 'graphVrReceitaFin': 1000,\n",
       " 'graphQtdReceitaFinFundo': 0,\n",
       " 'graphVrReceitaFinFundo': 0,\n",
       " 'graphPercentReceitaFinFundo': 0,\n",
       " 'graphQtdReceitaFinOutros': 1,\n",
       " 'graphVrReceitaFinOutros': 1000,\n",
       " 'graphPercentFinOutros': 100.0,\n",
       " 'graphQtdReceitaFinFefc': 0,\n",
       " 'graphVrReceitaFinFefc': 0,\n",
       " 'graphPercentFinFefc': 0,\n",
       " 'concentracaoDespesasR': 1500.0,\n",
       " 'rankingDoadoresR': 1500.0,\n",
       " 'rankingFornecedoresR': 990.0}"
      ]
     },
     "execution_count": 132,
     "metadata": {},
     "output_type": "execute_result"
    }
   ],
   "source": [
    "tse2_re"
   ]
  },
  {
   "cell_type": "code",
   "execution_count": 133,
   "id": "e1478e30",
   "metadata": {
    "ExecuteTime": {
     "end_time": "2022-04-21T23:45:48.538538Z",
     "start_time": "2022-04-21T23:45:48.512562Z"
    }
   },
   "outputs": [
    {
     "data": {
      "text/plain": [
       "{'id': 50000622082,\n",
       " 'nomeUrna': 'JOÃO HENRIQUE DURVAL CARNEIRO',\n",
       " 'numero': 28,\n",
       " 'nomeCompleto': 'JOÃO HENRIQUE DE BARRADAS CARNEIRO',\n",
       " 'descricaoSexo': 'MASC.',\n",
       " 'descricaoCorRaca': 'PARDA',\n",
       " 'grauInstrucao': 'Superior completo',\n",
       " 'ocupacao': 'Economista',\n",
       " 'gastoCampanha1T': 14000000,\n",
       " 'gastoCampanha2T': 7000000,\n",
       " 'sgUfNascimento': 'BA',\n",
       " 'nomeMunicipioNascimento': 'FEIRA DE SANTANA',\n",
       " 'localCandidatura': 'BAHIA',\n",
       " 'fotoUrl': 'https://divulgacandcontas.tse.jus.br/candidaturas/oficial/2018/BR/BA/2022802018/50000622082/foto_1534294033690.jpg',\n",
       " 'descricaoTotalizacao': 'Não eleito',\n",
       " 'nomeColigacao': 'BAHIA ACIMA DE TUDO, DEUS ACIMA DE TODOS',\n",
       " 'composicaoColigacao': 'PRTB / PSL',\n",
       " 'cargo': 'Governador',\n",
       " 'totalDeBens': 1502885.55,\n",
       " 'partido': 'Partido Renovador Trabalhista Brasileiro',\n",
       " 'descricaoNaturalidade': 'BA-FEIRA DE SANTANA',\n",
       " 'sigla': 'PRTB',\n",
       " 'nomePartido': 'Partido Renovador Trabalhista Brasileiro',\n",
       " 'siglaPartido': 'PRTB',\n",
       " 'nrCandidato': 28,\n",
       " 'dividaCampanha': None,\n",
       " 'sobraFinanceira': None,\n",
       " 'limiteDeGasto1T': 14000000.0,\n",
       " 'limiteDeGasto2T': 7000000.0,\n",
       " 'valorLimiteDeGastos': 14000000.0,\n",
       " 'totalDespesasContratadas': 1000.0,\n",
       " 'totalDespesasPagas': 1000.0,\n",
       " 'doacoesOutrosCandidatosPartigos': 0.0,\n",
       " 'fundosPartidarios': 0.0,\n",
       " 'fundoEspecial': 0.0,\n",
       " 'outrosRecursos': 1000.0,\n",
       " 'financeiras': 0.0,\n",
       " 'estimaveis': 0.0,\n",
       " 'totalRecebido': 1500,\n",
       " 'qtdRecebido': 2,\n",
       " 'percentualRecebido': None,\n",
       " 'totalFinanceiro': 1000,\n",
       " 'qtdFinanceiro': 1,\n",
       " 'percentualFinanceiro': 66.67,\n",
       " 'totalEstimados': 500,\n",
       " 'qtdEstimados': 1,\n",
       " 'percentualEstimados': 33.33,\n",
       " 'totalReceitaPF': 1500,\n",
       " 'qtdReceitaPF': 2,\n",
       " 'percentualReceitaPF': 100.0,\n",
       " 'totalReceitaPJ': 0,\n",
       " 'qtdReceitaPJ': 0,\n",
       " 'percentualReceitaPJ': 0,\n",
       " 'totalPartidos': 0,\n",
       " 'qtdPartidos': 0,\n",
       " 'percentualPartidos': 0,\n",
       " 'totalInternet': 0,\n",
       " 'qtdInternet': 0,\n",
       " 'percentualInternet': 0,\n",
       " 'totalRoni': 0,\n",
       " 'qtdRoni': 0,\n",
       " 'percentualRoni': 0,\n",
       " 'totalProprios': 0,\n",
       " 'qtdProprios': 0,\n",
       " 'percentualProprios': 0,\n",
       " 'totalReceitaOutCand': 0,\n",
       " 'qtdReceitaOutCand': 0,\n",
       " 'percentualReceitaOutCand': 0,\n",
       " 'totalDoacaoFcc': 0,\n",
       " 'qtdDoacaoFcc': 0,\n",
       " 'percentualDoacaoFcc': 0,\n",
       " 'sqPrestadorConta': None,\n",
       " 'sqEntregaPrestacao': None,\n",
       " 'graphQtdReceitaFin': 1,\n",
       " 'graphVrReceitaFin': 1000,\n",
       " 'graphQtdReceitaFinFundo': 0,\n",
       " 'graphVrReceitaFinFundo': 0,\n",
       " 'graphPercentReceitaFinFundo': 0,\n",
       " 'graphQtdReceitaFinOutros': 1,\n",
       " 'graphVrReceitaFinOutros': 1000,\n",
       " 'graphPercentFinOutros': 100.0,\n",
       " 'graphQtdReceitaFinFefc': 0,\n",
       " 'graphVrReceitaFinFefc': 0,\n",
       " 'graphPercentFinFefc': 0,\n",
       " 'concentracaoDespesasR': 1500.0,\n",
       " 'rankingDoadoresR': 1500.0,\n",
       " 'rankingFornecedoresR': 990.0}"
      ]
     },
     "execution_count": 133,
     "metadata": {},
     "output_type": "execute_result"
    }
   ],
   "source": [
    "z = {**tse1_re, **tse2_re}\n",
    "z"
   ]
  },
  {
   "cell_type": "markdown",
   "id": "e6e85f0b",
   "metadata": {},
   "source": [
    "## Gazeta do Povo"
   ]
  },
  {
   "cell_type": "code",
   "execution_count": 19,
   "id": "a957276a",
   "metadata": {
    "ExecuteTime": {
     "end_time": "2022-04-21T18:50:48.262540Z",
     "start_time": "2022-04-21T18:50:48.243551Z"
    }
   },
   "outputs": [],
   "source": [
    "url_gazeta = 'https://especiais.gazetadopovo.com.br/eleicoes/2018/candidatos/ba/governador/joao-henrique-durval-carneiro/'"
   ]
  },
  {
   "cell_type": "code",
   "execution_count": 26,
   "id": "0eeac357",
   "metadata": {
    "ExecuteTime": {
     "end_time": "2022-04-21T19:32:12.848572Z",
     "start_time": "2022-04-21T19:32:12.096808Z"
    }
   },
   "outputs": [],
   "source": [
    "import requests\n",
    "import re\n",
    "from bs4 import BeautifulSoup\n",
    "import pandas as pd\n",
    "import os \n",
    "response = requests.get(url_gazeta)\n",
    "if(response.status_code != 200):\n",
    "    print(url, 'Erro Code')\n",
    "    quit()\n",
    "soup_page = BeautifulSoup(response.text, 'html.parser')"
   ]
  },
  {
   "cell_type": "code",
   "execution_count": 39,
   "id": "4a16a63b",
   "metadata": {
    "ExecuteTime": {
     "end_time": "2022-04-21T19:36:28.592931Z",
     "start_time": "2022-04-21T19:36:28.573943Z"
    }
   },
   "outputs": [],
   "source": [
    "# <section class=\"tabela-candidato\">\n",
    "section_html = soup_page.find('section', {\"class\": \"tabela-candidato\"})\n",
    "\n",
    "section_desc = section_html.find('p').get_text()\n",
    "section_winn = section_html.find('span', {\"class\": \"label label-default\"}).get_text()\n",
    "sextion_link_cityes = section_html.find_all('tr')[-1].td.a['href']\n"
   ]
  },
  {
   "cell_type": "code",
   "execution_count": 40,
   "id": "fc5bd9cf",
   "metadata": {
    "ExecuteTime": {
     "end_time": "2022-04-21T19:36:28.934615Z",
     "start_time": "2022-04-21T19:36:28.919426Z"
    },
    "scrolled": true
   },
   "outputs": [
    {
     "name": "stdout",
     "output_type": "stream",
     "text": [
      "Candidato ao cargo de Governador na Bahia pelo PRTB, João Henrique Durval Carneiro obteve 38.960 votos totalizados (0,58% dos votos válidos) mas não foi eleito nas Eleições 2018.\n",
      "\n",
      "Não foi eleito\n",
      "\n",
      "https://especiais.gazetadopovo.com.br/eleicoes/2018/resultados/municipios-bahia/governador-candidato-joao-henrique-durval-carneiro/\n"
     ]
    }
   ],
   "source": [
    "print(section_desc)\n",
    "print()\n",
    "print(section_winn)\n",
    "print()\n",
    "print(sextion_link_cityes)"
   ]
  },
  {
   "cell_type": "code",
   "execution_count": null,
   "id": "51f0013d",
   "metadata": {},
   "outputs": [],
   "source": [
    "# <div class=\"content-sidebar bg-cinza-claro\">"
   ]
  },
  {
   "cell_type": "code",
   "execution_count": 43,
   "id": "1c170257",
   "metadata": {
    "ExecuteTime": {
     "end_time": "2022-04-21T19:43:55.576985Z",
     "start_time": "2022-04-21T19:43:55.554993Z"
    }
   },
   "outputs": [],
   "source": [
    "section_html_bio = soup_page.find('div', {\"class\": \"content-sidebar bg-cinza-claro\"})\n",
    "\n",
    "section_bio_ultra_desc = section_html_bio.find(\n",
    "    'div', {'class': 'bio'}).find('div', {'class': 'text'}).find('p').get_text()\n",
    "\n",
    "# <table class=\"table\">\n",
    "section_table = section_html_bio.find('table')\n",
    "\n",
    "bio_dict = dict()\n",
    "section_bio_tr = section_table.find_all('tr')\n",
    "for el in section_bio_tr:\n",
    "    bio_dict[el.th.get_text()] = el.td.get_text()"
   ]
  },
  {
   "cell_type": "code",
   "execution_count": 44,
   "id": "74f2bb9b",
   "metadata": {
    "ExecuteTime": {
     "end_time": "2022-04-21T19:43:56.333655Z",
     "start_time": "2022-04-21T19:43:56.314665Z"
    }
   },
   "outputs": [
    {
     "name": "stdout",
     "output_type": "stream",
     "text": [
      "João Henrique de Barradas Carneiro é candidato ao governo da Bahia pelo PRTB. Ele já foi vereador de Salvador (1989-1994), deputado estadual pela Bahia (1995-2004) e prefeito de Salvador. Como prefeito, foi eleito em 2004 e depois reeleito em 2008. É filho do ex-governador baiano João Durval Carneiro.  É economista formado pela Universidade Federal da Bahia (UFBA) e tem pós-graduação em Desenvolvimento Econômico pela Université du Québec à Montréal, do Canadá. \n",
      "\n",
      "{'Nome na urna:': 'João Henrique Durval Carneiro', 'Sexo:': 'Masculino', 'Idade:': '62 anos', 'Data de nascimento:': '19/06/1959', 'Ocupação:': 'Economista', 'Grau de instrução:': 'Superior completo', 'Estado Civil:': 'Casado(a)', 'Cor/Raça:': 'Parda', 'Município de nascimento:': 'Feira de Santana-BA'}\n"
     ]
    }
   ],
   "source": [
    "print(section_bio_ultra_desc)\n",
    "print()\n",
    "print(bio_dict)"
   ]
  },
  {
   "cell_type": "code",
   "execution_count": null,
   "id": "2c2ecf30",
   "metadata": {},
   "outputs": [],
   "source": [
    "# <div class=\"bio\">\n",
    "#                 <div class=\"text\">\n",
    "#                   <p>João Henrique de Barradas Carneiro é candidato ao governo da Bahia pelo PRTB. Ele já foi vereador de Salvador (1989-1994), deputado estadual pela Bahia (1995-2004) e prefeito de Salvador. Como prefeito, foi eleito em 2004 e depois reeleito em 2008. É filho do ex-governador baiano João Durval Carneiro. É economista formado pela Universidade Federal da Bahia (UFBA) e tem pós-graduação em Desenvolvimento Econômico pela Université du Québec à Montréal, do Canadá. </p>\n",
    "#                 </div>\n",
    "#               </div>"
   ]
  },
  {
   "cell_type": "markdown",
   "id": "0a59a158",
   "metadata": {},
   "source": [
    "## Dados da cidade"
   ]
  },
  {
   "cell_type": "code",
   "execution_count": 45,
   "id": "7781a765",
   "metadata": {
    "ExecuteTime": {
     "end_time": "2022-04-21T19:55:36.238448Z",
     "start_time": "2022-04-21T19:55:36.227454Z"
    },
    "scrolled": true
   },
   "outputs": [
    {
     "data": {
      "text/plain": [
       "'https://especiais.gazetadopovo.com.br/eleicoes/2018/resultados/municipios-bahia/governador-candidato-joao-henrique-durval-carneiro/'"
      ]
     },
     "execution_count": 45,
     "metadata": {},
     "output_type": "execute_result"
    }
   ],
   "source": [
    "sextion_link_cityes"
   ]
  },
  {
   "cell_type": "code",
   "execution_count": 46,
   "id": "5ff7847c",
   "metadata": {
    "ExecuteTime": {
     "end_time": "2022-04-21T19:56:06.837661Z",
     "start_time": "2022-04-21T19:56:05.299937Z"
    }
   },
   "outputs": [],
   "source": [
    "response = requests.get(sextion_link_cityes)\n",
    "if(response.status_code != 200):\n",
    "    print(url, 'Erro Code')\n",
    "    quit()\n",
    "soup_page_cities = BeautifulSoup(response.text, 'html.parser')"
   ]
  },
  {
   "cell_type": "code",
   "execution_count": 48,
   "id": "9bfa11ab",
   "metadata": {
    "ExecuteTime": {
     "end_time": "2022-04-21T19:59:05.637357Z",
     "start_time": "2022-04-21T19:59:05.618369Z"
    }
   },
   "outputs": [],
   "source": [
    "# soup_page_cities"
   ]
  },
  {
   "cell_type": "code",
   "execution_count": null,
   "id": "bb522cd6",
   "metadata": {},
   "outputs": [],
   "source": [
    "#           <tbody>\n",
    "#             <tr>\n",
    "#               <td class=\"candidato\">\n",
    "#                 <a class=\"clearfix\" href=\"https://especiais.gazetadopovo.com.br/eleicoes/2018/resultados/municipios-bahia/mortugaba-ba/governador/\">\n",
    "#                   <div class=\"nome-partido\">\n",
    "#                     <h2 class=\"nome\"> Mortugaba </h2>\n",
    "#                   </div>\n",
    "#                 </a>\n",
    "#               </td>\n",
    "#               <td class=\"votos\">\n",
    "#                 <span class=\"porcentagem\"> 2,65% </span>\n",
    "#                 <span class=\"qtd-votos\">150 votos</span>\n",
    "#               </td>\n",
    "#             </tr>\n",
    "#             <tr>\n",
    "#               <td class=\"candidato\">"
   ]
  },
  {
   "cell_type": "code",
   "execution_count": 56,
   "id": "9f2ef67a",
   "metadata": {
    "ExecuteTime": {
     "end_time": "2022-04-21T22:31:14.134701Z",
     "start_time": "2022-04-21T22:31:14.034759Z"
    },
    "scrolled": true
   },
   "outputs": [],
   "source": [
    "list_tr = soup_page_cities.find('tbody').find_all('tr')\n",
    "cities_dicts = []\n",
    "\n",
    "for el in list_tr:\n",
    "    city_dict = {}\n",
    "    tds = el.find_all('td')\n",
    "    city_dict['url'] = tds[0].find('a')['href']\n",
    "    city_dict['name'] = tds[0].find('h2').get_text().strip()\n",
    "    city_dict['percentage'] = tds[1].find('span', {'class': 'porcentagem'}).get_text().strip()\n",
    "    city_dict['votes'] = tds[1].find('span', {'class': 'qtd-votos'}).get_text().split(' ')[0].strip()\n",
    "    cities_dicts.append(city_dict)\n",
    "\n",
    "# Formato de Siada\n",
    "#     city_dict {'url': 'https://especiais.gazetadopovo.com.br/eleicoes/2018/resultados/municipios-bahia/mortugaba-ba/governador/', 'name': 'Mortugaba', 'percentage': '2,65%', 'votes': '150'}"
   ]
  },
  {
   "cell_type": "markdown",
   "id": "7eb679a3",
   "metadata": {},
   "source": [
    "## Dados de uma cidade para governador\n",
    "\n",
    "````\n",
    "<table class=\"table table-resultados sans-serif\">\n",
    "<thead>\n",
    "   <tr>\n",
    "      <th>Candidato</th>\n",
    "      <th class=\"text-right\">Votos *</th>\n",
    "   </tr>\n",
    "</thead>\n",
    "<tbody>\n",
    "   <tr>\n",
    "   \n",
    "      <td class=\"candidato\">\n",
    "         <a class=\"clearfix\" href=\"...\">\n",
    "            <figure class=\"thumb\">\n",
    "               <img src=\".....jpg\" alt=\"Candidato Rui Costa 13\">        \t\t\t\t\t\n",
    "            </figure>\n",
    "            <div class=\"nome-partido\">\n",
    "               <h2 class=\"nome\">\n",
    "                  Rui Costa <small class=\"label label-success\">Eleito</small>        \t\t\t\t\n",
    "               </h2>\n",
    "               <span class=\"partido\">PT</span>\n",
    "            </div>\n",
    "         </a>\n",
    "      </td>\n",
    "      \n",
    "      <td class=\"votos\">\n",
    "         <span class=\"porcentagem\">\n",
    "         70,35%        \t\t\t\t</span>\n",
    "         <span class=\"qtd-votos\">3.986 votos</span>\n",
    "      </td>\n",
    "   </tr>\n",
    "   <tr>\n",
    "      <td class=\"candidato\">\n",
    "````"
   ]
  },
  {
   "cell_type": "code",
   "execution_count": 59,
   "id": "8ab92858",
   "metadata": {
    "ExecuteTime": {
     "end_time": "2022-04-21T22:35:23.081395Z",
     "start_time": "2022-04-21T22:35:23.070411Z"
    }
   },
   "outputs": [
    {
     "data": {
      "text/plain": [
       "'https://especiais.gazetadopovo.com.br/eleicoes/2018/resultados/municipios-bahia/mortugaba-ba/governador/'"
      ]
     },
     "execution_count": 59,
     "metadata": {},
     "output_type": "execute_result"
    }
   ],
   "source": [
    "governador_para_cidade = cities_dicts[0]['url']\n",
    "governador_para_cidade"
   ]
  },
  {
   "cell_type": "code",
   "execution_count": 60,
   "id": "6a12344c",
   "metadata": {
    "ExecuteTime": {
     "end_time": "2022-04-21T22:35:24.625649Z",
     "start_time": "2022-04-21T22:35:23.622573Z"
    }
   },
   "outputs": [],
   "source": [
    "response = requests.get(governador_para_cidade)\n",
    "if(response.status_code != 200):\n",
    "    print(url, 'Erro Code')\n",
    "    quit()\n",
    "soup_page_governador_para_cidade = BeautifulSoup(response.text, 'html.parser')"
   ]
  },
  {
   "cell_type": "code",
   "execution_count": 66,
   "id": "2193af0f",
   "metadata": {
    "ExecuteTime": {
     "end_time": "2022-04-21T22:39:52.165763Z",
     "start_time": "2022-04-21T22:39:52.147779Z"
    },
    "scrolled": true
   },
   "outputs": [
    {
     "name": "stdout",
     "output_type": "stream",
     "text": [
      "{'url': 'https://especiais.gazetadopovo.com.br/eleicoes/2018/resultados/municipios-bahia/governador-candidato-rui-costa/', 'name': 'Rui Costa ', 'percentage': '70,35%', 'votes': '3.986'}\n"
     ]
    }
   ],
   "source": [
    "list_tr_cidade_many_gov = soup_page_governador_para_cidade.find('tbody').find_all('tr')\n",
    "city_by_governadores_dicts = []\n",
    "\n",
    "for el in list_tr_cidade_many_gov:\n",
    "    city_dict = {}\n",
    "    tds = el.find_all('td')\n",
    "    city_dict['url'] = tds[0].find('a')['href']\n",
    "    city_dict['name'] = tds[0].find('h2').get_text().strip().replace('Eleito','')\n",
    "    city_dict['percentage'] = tds[1].find('span', {'class': 'porcentagem'}).get_text().strip()\n",
    "    city_dict['votes'] = tds[1].find('span', {'class': 'qtd-votos'}).get_text().split(' ')[0].strip()\n",
    "    print(city_dict)\n",
    "    break\n",
    "    city_by_governadores_dicts.append(city_dict)"
   ]
  },
  {
   "cell_type": "markdown",
   "id": "2c15e4c2",
   "metadata": {},
   "source": [
    "## Dados de uma cidade\n",
    "\n",
    "````\n",
    "<dl class=\"perfil-eleitores\">\n",
    "    <dt>Total de Eleitores:</dt>\n",
    "    <dd>9.522</dd>\n",
    "    <dt>Eleitorado Feminino:</dt>\n",
    "    <dd>4.898 (51,44%)</dd>\n",
    "    <dt>Eleitorado Masculino:</dt>\n",
    "    <dd>4.624 (48,56%)</dd>\n",
    "    <dt>Eleitorado com sexo não infomado:</dt>\n",
    "    <dd>0 (0,00%)</dd>\n",
    "    ...\n",
    "````"
   ]
  },
  {
   "cell_type": "code",
   "execution_count": 67,
   "id": "ba02ed66",
   "metadata": {
    "ExecuteTime": {
     "end_time": "2022-04-21T22:41:28.415129Z",
     "start_time": "2022-04-21T22:41:28.403131Z"
    },
    "scrolled": true
   },
   "outputs": [
    {
     "data": {
      "text/plain": [
       "'https://especiais.gazetadopovo.com.br/eleicoes/2018/resultados/municipios-bahia/mortugaba-ba/governador/'"
      ]
     },
     "execution_count": 67,
     "metadata": {},
     "output_type": "execute_result"
    }
   ],
   "source": [
    "xx = cities_dicts[0]['url']\n",
    "xx"
   ]
  },
  {
   "cell_type": "code",
   "execution_count": 73,
   "id": "d8fe7a83",
   "metadata": {
    "ExecuteTime": {
     "end_time": "2022-04-21T22:42:42.160194Z",
     "start_time": "2022-04-21T22:42:42.146204Z"
    }
   },
   "outputs": [
    {
     "data": {
      "text/plain": [
       "['https:',\n",
       " '',\n",
       " 'especiais.gazetadopovo.com.br',\n",
       " 'eleicoes',\n",
       " '2018',\n",
       " 'resultados',\n",
       " 'municipios-bahia',\n",
       " 'mortugaba-ba']"
      ]
     },
     "execution_count": 73,
     "metadata": {},
     "output_type": "execute_result"
    }
   ],
   "source": [
    "xx.split('/')[:-2]"
   ]
  },
  {
   "cell_type": "code",
   "execution_count": 74,
   "id": "da14d627",
   "metadata": {
    "ExecuteTime": {
     "end_time": "2022-04-21T22:42:52.074503Z",
     "start_time": "2022-04-21T22:42:52.066509Z"
    }
   },
   "outputs": [
    {
     "data": {
      "text/plain": [
       "'https://especiais.gazetadopovo.com.br/eleicoes/2018/resultados/municipios-bahia/mortugaba-ba'"
      ]
     },
     "execution_count": 74,
     "metadata": {},
     "output_type": "execute_result"
    }
   ],
   "source": [
    "'/'.join(xx.split('/')[:-2])"
   ]
  },
  {
   "cell_type": "code",
   "execution_count": 75,
   "id": "8147c1e8",
   "metadata": {
    "ExecuteTime": {
     "end_time": "2022-04-21T22:45:12.244811Z",
     "start_time": "2022-04-21T22:45:11.345901Z"
    }
   },
   "outputs": [],
   "source": [
    "response = requests.get('/'.join(xx.split('/')[:-2]))\n",
    "if(response.status_code != 200):\n",
    "    print(url, 'Erro Code')\n",
    "    quit()\n",
    "soup_page_a_city = BeautifulSoup(response.text, 'html.parser')"
   ]
  },
  {
   "cell_type": "code",
   "execution_count": 78,
   "id": "8c20ad7d",
   "metadata": {
    "ExecuteTime": {
     "end_time": "2022-04-21T22:49:56.937567Z",
     "start_time": "2022-04-21T22:49:56.918586Z"
    }
   },
   "outputs": [
    {
     "data": {
      "text/plain": [
       "{'totalVotes': '9522', 'mascVotes': '4898', 'femnVotes': '4624'}"
      ]
     },
     "execution_count": 78,
     "metadata": {},
     "output_type": "execute_result"
    }
   ],
   "source": [
    "temp_page = soup_page_a_city.find('dl', {'class': 'perfil-eleitores'})\n",
    "all_dt, all_dd = temp_page.find_all('dt'), temp_page.find_all('dd')\n",
    "\n",
    "city_data_dict = {}\n",
    "city_data_dict['totalVotes'] = all_dd[0].get_text().strip().replace('.','')\n",
    "city_data_dict['mascVotes'] =  all_dd[1].get_text().strip().split(' ')[0].replace('.','')\n",
    "city_data_dict['femnVotes'] = all_dd[2].get_text().strip().split(' ')[0].replace('.','')\n",
    "\n",
    "city_data_dict"
   ]
  },
  {
   "cell_type": "markdown",
   "id": "7ee0e3c7",
   "metadata": {},
   "source": [
    "# Todos os Governadores"
   ]
  },
  {
   "cell_type": "code",
   "execution_count": 8,
   "id": "a7e302d4",
   "metadata": {
    "ExecuteTime": {
     "end_time": "2022-04-21T18:23:18.994124Z",
     "start_time": "2022-04-21T18:23:18.975137Z"
    }
   },
   "outputs": [],
   "source": [
    "tse_all_candidates = 'https://divulgacandcontas.tse.jus.br/divulga/rest/v1/candidatura/listar/2018/BA/2022802018/3/candidatos'"
   ]
  },
  {
   "cell_type": "code",
   "execution_count": null,
   "id": "1455fd31",
   "metadata": {},
   "outputs": [],
   "source": []
  }
 ],
 "metadata": {
  "kernelspec": {
   "display_name": "Python 3 (ipykernel)",
   "language": "python",
   "name": "python3"
  },
  "language_info": {
   "codemirror_mode": {
    "name": "ipython",
    "version": 3
   },
   "file_extension": ".py",
   "mimetype": "text/x-python",
   "name": "python",
   "nbconvert_exporter": "python",
   "pygments_lexer": "ipython3",
   "version": "3.10.4"
  },
  "toc": {
   "base_numbering": 1,
   "nav_menu": {},
   "number_sections": true,
   "sideBar": true,
   "skip_h1_title": false,
   "title_cell": "Table of Contents",
   "title_sidebar": "Contents",
   "toc_cell": false,
   "toc_position": {},
   "toc_section_display": true,
   "toc_window_display": true
  },
  "varInspector": {
   "cols": {
    "lenName": 16,
    "lenType": 16,
    "lenVar": 40
   },
   "kernels_config": {
    "python": {
     "delete_cmd_postfix": "",
     "delete_cmd_prefix": "del ",
     "library": "var_list.py",
     "varRefreshCmd": "print(var_dic_list())"
    },
    "r": {
     "delete_cmd_postfix": ") ",
     "delete_cmd_prefix": "rm(",
     "library": "var_list.r",
     "varRefreshCmd": "cat(var_dic_list()) "
    }
   },
   "types_to_exclude": [
    "module",
    "function",
    "builtin_function_or_method",
    "instance",
    "_Feature"
   ],
   "window_display": false
  }
 },
 "nbformat": 4,
 "nbformat_minor": 5
}
